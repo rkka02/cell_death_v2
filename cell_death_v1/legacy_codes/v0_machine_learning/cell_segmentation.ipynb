{
 "cells": [
  {
   "cell_type": "markdown",
   "metadata": {},
   "source": [
    "# Cell Segmentation Analysis\n",
    "This notebook provides an introduction to using various image processing techniques for cell segmentation analysis.\n",
    "The steps involve preprocessing, noise reduction, segmentation, and visualization. This guide will walk you through each component to help you understand and apply the analysis.\n",
    "\n",
    "### Dependencies:\n",
    "- `numpy` for numerical operations\n",
    "- `napari` for image visualization\n",
    "- `skimage` for image processing functions\n",
    "- `matplotlib` for plotting\n",
    "- `tqdm` to visualize loop progress\n",
    "- `TCFile` to import .TCF file\n",
    "- etc.\n",
    "\n",
    "Let's get started!"
   ]
  },
  {
   "cell_type": "code",
   "execution_count": null,
   "metadata": {},
   "outputs": [],
   "source": [
    "from TCFile import TCFile\n",
    "import numpy as np\n",
    "import napari\n",
    "import h5py\n",
    "from skimage import morphology, filters, feature, measure, restoration, segmentation\n",
    "from tqdm import tqdm\n",
    "import ipywidgets as widgets\n",
    "import matplotlib.pyplot as plt\n",
    "import pandas as pd\n",
    "import copy\n",
    "from scipy import ndimage\n",
    "\n",
    "def circular_filter(array_shape, pixel_radius):\n",
    "    filter = np.zeros(array_shape)\n",
    "    N = array_shape[0]\n",
    "    x, y = np.arange(N), np.arange(N)\n",
    "    X, Y = np.meshgrid(x, y)\n",
    "    filter[(X-N//2)**2 + (Y-N//2)**2 < pixel_radius**2] = 1\n",
    "    return filter\n",
    "\n",
    "def fourier_filter_with_thresholding(image, threshold, filter):\n",
    "\n",
    "    temp = np.zeros(image.shape)\n",
    "    temp = temp + image\n",
    "    temp[image<threshold] = 0\n",
    "    ###############################\n",
    "    temp = filters.gaussian(temp)\n",
    "\n",
    "    a_fourier = np.fft.fftshift(np.fft.fft2(temp))\n",
    "    H, W = a_fourier.shape\n",
    "    a_fourier[H//2:H//2 + 1, W//2:W//2 + 1]=0\n",
    "    a_fourier = a_fourier * filter\n",
    "    a_mod = np.fft.ifft2(a_fourier)\n",
    "    ################################\n",
    "    return np.abs(a_mod)\n",
    "\n",
    "def get_mip_with_noise_reduction(data, first_thr_idx=0, second_thr_idx=1, fourier_filter_radius=400):\n",
    "    # Get MIP image\n",
    "    img_max = np.max(data, axis=0)\n",
    "    #######################################################\n",
    "    # Noise reduction\n",
    "    thr = filters.threshold_multiotsu(img_max, 4)\n",
    "    aa = fourier_filter_with_thresholding(img_max, thr[first_thr_idx], fourier_filter_radius)\n",
    "    # Thresholding for better clarity\n",
    "    aa_thr = filters.threshold_multiotsu(aa)\n",
    "    aa[aa<aa_thr[second_thr_idx]] = 0\n",
    "    # Mask generating and applying remove small objects\n",
    "    mask = aa.copy()\n",
    "    mask = morphology.remove_small_objects(mask.astype(bool), 500)\n",
    "    aa[mask==0] = 0\n",
    "    # mask initialization for memory\n",
    "    mask = 0\n",
    "    #######################################################\n",
    "    return aa"
   ]
  },
  {
   "cell_type": "code",
   "execution_count": 3,
   "metadata": {},
   "outputs": [],
   "source": [
    "viewer = napari.Viewer()"
   ]
  },
  {
   "cell_type": "markdown",
   "metadata": {},
   "source": [
    "<h1> Try : MIP time label </h1>"
   ]
  },
  {
   "cell_type": "markdown",
   "metadata": {},
   "source": [
    "### This code processes a 3D dataset to extract bounding box or cylindrical regions from maximum intensity projection (MIP) images. It utilizes Fourier filtering and edge detection to highlight key features within each slice of the dataset. This approach can help identify and isolate significant regions within a 3D stack for further analysis, such as bounding regions of interest or calculating specific structural areas."
   ]
  },
  {
   "cell_type": "code",
   "execution_count": 4,
   "metadata": {},
   "outputs": [],
   "source": [
    "dir = r\"C:\\rkka_Projects\\cell_death_v1\\Data\\pathway\\raw\\Apoptosis/\"\n",
    "file = \"compressed_230512.160429.CD95_TNF_Ctr.003.CD95.A1.T001P29.TCF\"\n",
    "\n",
    "tcfile = TCFile(dir + file, '3D')"
   ]
  },
  {
   "cell_type": "markdown",
   "metadata": {},
   "source": [
    "### tcfile[i] is i_th timestep of tcffile"
   ]
  },
  {
   "cell_type": "code",
   "execution_count": 5,
   "metadata": {},
   "outputs": [],
   "source": [
    "N = tcfile[0][0].shape[0]\n",
    "Z = tcfile[0].shape[0]"
   ]
  },
  {
   "cell_type": "code",
   "execution_count": 6,
   "metadata": {},
   "outputs": [
    {
     "name": "stderr",
     "output_type": "stream",
     "text": [
      "100%|██████████| 36/36 [00:32<00:00,  1.10it/s]\n"
     ]
    },
    {
     "data": {
      "text/plain": [
       "<Image layer 'sobel' at 0x23eb5054410>"
      ]
     },
     "execution_count": 6,
     "metadata": {},
     "output_type": "execute_result"
    }
   ],
   "source": [
    "data_stack = np.zeros((36, N, N))\n",
    "filtered_data_stack = np.zeros((36, N, N))\n",
    "sobel = np.zeros((36, N, N))\n",
    "filter = circular_filter((1009,1009), 400)\n",
    "for i in tqdm(range(36)):\n",
    "    data_stack[i] = np.max(tcfile[i], axis=0)\n",
    "    filtered_data_stack[i] = fourier_filter_with_thresholding(data_stack[i], 0, filter)\n",
    "    sobel[i] = filters.sobel(filtered_data_stack[i])\n",
    "viewer.add_image(data_stack)\n",
    "viewer.add_image(filtered_data_stack)\n",
    "viewer.add_image(sobel)"
   ]
  },
  {
   "cell_type": "markdown",
   "metadata": {},
   "source": [
    "### Using gaissian filter can improve performance of sobel filter, because the sobel filter is sensitive to noise artifacts"
   ]
  },
  {
   "cell_type": "code",
   "execution_count": 57,
   "metadata": {},
   "outputs": [
    {
     "data": {
      "text/plain": [
       "<Image layer 'temp [1]' at 0x2848aa2e070>"
      ]
     },
     "execution_count": 57,
     "metadata": {},
     "output_type": "execute_result"
    }
   ],
   "source": [
    "temp = filtered_data_stack.copy()\n",
    "for i in range(36):\n",
    "    temp[i] = filters.gaussian(temp[i])\n",
    "    temp[i] = filters.gaussian(temp[i])\n",
    "    temp[i] = filters.gaussian(temp[i])\n",
    "viewer.add_image(temp)"
   ]
  },
  {
   "cell_type": "code",
   "execution_count": 58,
   "metadata": {},
   "outputs": [
    {
     "data": {
      "text/plain": [
       "<Image layer 'Image' at 0x28719377b20>"
      ]
     },
     "execution_count": 58,
     "metadata": {},
     "output_type": "execute_result"
    }
   ],
   "source": [
    "viewer.add_image(filters.sobel(temp))"
   ]
  },
  {
   "cell_type": "code",
   "execution_count": null,
   "metadata": {},
   "outputs": [],
   "source": []
  },
  {
   "cell_type": "markdown",
   "metadata": {},
   "source": [
    "### This code processes 3D microscopy images of cells, specifically for necroptosis studies, using time-labeled masks to extract regions of interest. For each image in the dataset, it uses bounding boxes defined by these masks to crop relevant cell regions, saving them in an HDF5 format with time-stamped labels. This workflow assists in organizing and analyzing data over time for specific cell areas."
   ]
  },
  {
   "cell_type": "code",
   "execution_count": 18,
   "metadata": {},
   "outputs": [],
   "source": [
    "dir = \"C:/rkka_Projects/Cell/Data/Apoptosis/\"\n",
    "file = \"compressed_230512.160429.CD95_TNF_Ctr.003.CD95.A1.T001P12.TCF\"\n",
    "\n",
    "tcfile = TCFile(dir + file, '3D')\n",
    "N = tcfile[0][0].shape[0]\n",
    "Z = tcfile[0].shape[0]"
   ]
  },
  {
   "cell_type": "code",
   "execution_count": null,
   "metadata": {},
   "outputs": [
    {
     "name": "stderr",
     "output_type": "stream",
     "text": [
      "Box Making Iter: 100%|██████████| 36/36 [01:50<00:00,  3.07s/it]\n"
     ]
    },
    {
     "name": "stdout",
     "output_type": "stream",
     "text": [
      "file ended\n"
     ]
    },
    {
     "name": "stderr",
     "output_type": "stream",
     "text": [
      "Box Making Iter: 100%|██████████| 36/36 [02:17<00:00,  3.81s/it]\n"
     ]
    },
    {
     "name": "stdout",
     "output_type": "stream",
     "text": [
      "file ended\n"
     ]
    },
    {
     "name": "stderr",
     "output_type": "stream",
     "text": [
      "Box Making Iter: 100%|██████████| 36/36 [01:45<00:00,  2.93s/it]\n"
     ]
    },
    {
     "name": "stdout",
     "output_type": "stream",
     "text": [
      "file ended\n"
     ]
    },
    {
     "name": "stderr",
     "output_type": "stream",
     "text": [
      "Box Making Iter: 100%|██████████| 36/36 [01:23<00:00,  2.33s/it]\n"
     ]
    },
    {
     "name": "stdout",
     "output_type": "stream",
     "text": [
      "file ended\n"
     ]
    },
    {
     "name": "stderr",
     "output_type": "stream",
     "text": [
      "Box Making Iter: 100%|██████████| 36/36 [02:32<00:00,  4.24s/it]\n"
     ]
    },
    {
     "name": "stdout",
     "output_type": "stream",
     "text": [
      "file ended\n"
     ]
    },
    {
     "name": "stderr",
     "output_type": "stream",
     "text": [
      "Box Making Iter: 100%|██████████| 36/36 [02:03<00:00,  3.42s/it]\n"
     ]
    },
    {
     "name": "stdout",
     "output_type": "stream",
     "text": [
      "file ended\n"
     ]
    },
    {
     "name": "stderr",
     "output_type": "stream",
     "text": [
      "Box Making Iter: 100%|██████████| 36/36 [01:58<00:00,  3.28s/it]"
     ]
    },
    {
     "name": "stdout",
     "output_type": "stream",
     "text": [
      "file ended\n"
     ]
    },
    {
     "name": "stderr",
     "output_type": "stream",
     "text": [
      "\n"
     ]
    }
   ],
   "source": [
    "from tifffile import imread  # Import the function to read TIFF files\n",
    "\n",
    "# Directory containing necroptosis image data\n",
    "necropto_dir = \"C:/rkka_Projects/Cell/Data/Necroptosis/\"\n",
    "\n",
    "# List of 3D image files for necroptosis samples\n",
    "necropto_file_list = [\n",
    "    'compressed_230510.174730.HeLa_Hoechst.001.Group1.A2.T001P02.TCF',\n",
    "    'compressed_230510.174730.HeLa_Hoechst.001.Group1.A2.T001P03.TCF',\n",
    "    # ... (more files in the list)\n",
    "]\n",
    "\n",
    "# Corresponding masks for each necroptosis sample, to be used for bounding boxes\n",
    "necropto_mask_list = [\n",
    "    'boxmask_compressed_230510.174730.HeLa_Hoechst.001.Group1.A2.T001P02.tif',\n",
    "    'boxmask_compressed_230510.174730.HeLa_Hoechst.001.Group1.A2.T001P03.tif',\n",
    "    # ... (more mask files in the list)\n",
    "]\n",
    "\n",
    "# Organizing directory, file, and mask lists\n",
    "dir_list = [necropto_dir]\n",
    "file_file_list = [necropto_file_list]\n",
    "mask_file_list = [necropto_mask_list]\n",
    "time_range = 36  # Define the number of time points to process\n",
    "\n",
    "# Main processing loop for each directory\n",
    "for dir in dir_list:\n",
    "    for f in range(len(file_file_list)):  # Iterate over file and mask lists\n",
    "        file_list = file_file_list[f]\n",
    "        mask_list = mask_file_list[f]\n",
    "        \n",
    "        # Loop through each file and its corresponding mask\n",
    "        for ff in range(len(file_list)):\n",
    "            file = file_list[ff]     # Current image file\n",
    "            mask = mask_list[ff]     # Corresponding mask file\n",
    "            \n",
    "            # Load the 3D cell data\n",
    "            tcfile = TCFile(dir + file, '3D')\n",
    "            N = tcfile[0][0].shape[0]  # Get dimensions of each 2D slice (height/width)\n",
    "            Z = tcfile[0].shape[0]     # Number of slices in the 3D stack\n",
    "            \n",
    "            # Load the mask file as a binary label image\n",
    "            time_label = imread(dir + mask)\n",
    "            # Remove small, irrelevant objects from the mask for cleaner labeling\n",
    "            time_label = morphology.remove_small_objects(time_label, min_size=1400)\n",
    "            # Get properties of labeled regions, including area and bounding box\n",
    "            time_label_props = pd.DataFrame(measure.regionprops_table(\n",
    "                time_label, properties=['label', 'area', 'bbox']\n",
    "            ))\n",
    "            label_list = list(time_label_props['label'])  # List of unique labels in the mask\n",
    "            \n",
    "            # Initialize list to store bounding box coordinates\n",
    "            bbox_list = []\n",
    "            for i in range(time_label_props.shape[0]):\n",
    "                s = time_label_props.iloc[i]\n",
    "                # Define bounding box coordinates as [min_row, min_col, max_row, max_col]\n",
    "                b = [int(s['bbox-1']), int(s['bbox-2']), int(s['bbox-4']), int(s['bbox-5'])]\n",
    "                bbox_list.append(b)\n",
    "\n",
    "            # Create HDF5 file to store cropped regions by bounding box and time\n",
    "            with h5py.File(dir + 'sam_manual_mlp_boxed_' + file + '.h5', 'w') as f:\n",
    "                # Loop through each time point in the dataset\n",
    "                for t_idx in tqdm(range(time_range), desc='Box Making Iter'):\n",
    "                    # Get the mask slice for the current time point\n",
    "                    time_label_slice = time_label[t_idx]\n",
    "                    # Stack the 2D mask to match the 3D data shape for the current time point\n",
    "                    time_label_stacked = np.stack((time_label_slice,) * Z, axis=0)\n",
    "                    # Load the 3D image data for the current time point\n",
    "                    img = tcfile[t_idx]\n",
    "                    # Normalize the image intensity range to [1.3, 1.4]\n",
    "                    img = 1.3 + 0.1 * (img - img.min()) / (img.max() - img.min())\n",
    "                    \n",
    "                    # Loop through each bounding box, cropping and saving the data\n",
    "                    for b_idx, bbox in enumerate(bbox_list):\n",
    "                        temp = img.copy()  # Copy image to avoid overwriting\n",
    "                        # Set pixels outside the current bounding box to 1.3\n",
    "                        temp[time_label_stacked != label_list[b_idx]] = 1.3\n",
    "                        # Save the cropped image region in HDF5 format\n",
    "                        f.create_dataset(\n",
    "                            'box/' + str(b_idx).zfill(3) + '/time/' + str(t_idx * 0.5).zfill(4),\n",
    "                            data=temp[:, bbox[0]:bbox[2], bbox[1]:bbox[3]]\n",
    "                        )\n",
    "                        # Save the label metadata if processing the first time point\n",
    "                        if t_idx == 0:\n",
    "                            f.create_dataset('box/' + str(b_idx).zfill(3) + '/label', data=label_list[b_idx])\n",
    "                f.close()  # Close the HDF5 file\n",
    "            print('file ended')  # Print notification when processing is complete\n"
   ]
  },
  {
   "cell_type": "code",
   "execution_count": null,
   "metadata": {},
   "outputs": [
    {
     "data": {
      "text/plain": [
       "[[0, 387, 282, 588],\n",
       " [79, 690, 488, 996],\n",
       " [131, 298, 680, 739],\n",
       " [354, 0, 576, 339],\n",
       " [352, 717, 834, 1009],\n",
       " [421, 128, 825, 407],\n",
       " [517, 0, 1009, 231]]"
      ]
     },
     "execution_count": 20,
     "metadata": {},
     "output_type": "execute_result"
    }
   ],
   "source": [
    "# Initialize an empty list to store bounding box coordinates for each region\n",
    "bbox_list = []\n",
    "\n",
    "# Loop through each row in `time_label_props`, which contains properties for labeled regions\n",
    "for i in range(time_label_props.shape[0]):\n",
    "    s = time_label_props.iloc[i]  # Get the properties for the current region (row)\n",
    "    \n",
    "    # Extract the bounding box coordinates: min row, min col, max row, max col\n",
    "    # These coordinates define the rectangular area that contains the labeled region\n",
    "    b = [int(s['bbox-1']), int(s['bbox-2']), int(s['bbox-4']), int(s['bbox-5'])]\n",
    "    \n",
    "    # Append the bounding box coordinates to `bbox_list`\n",
    "    bbox_list.append(b)\n",
    "\n",
    "# `bbox_list` now contains the bounding box coordinates for each region, formatted as:\n",
    "# [[min_row, min_col, max_row, max_col] for each region]\n",
    "bbox_list  # Display the list of bounding boxes\n"
   ]
  },
  {
   "cell_type": "code",
   "execution_count": null,
   "metadata": {},
   "outputs": [],
   "source": [
    "# Define the time range (number of time points) for 3D time label processing\n",
    "time_range = 36\n",
    "\n",
    "# Open an HDF5 file to store processed images, creating a new file in write mode\n",
    "with h5py.File(dir + 'sam_manual_mlp_boxed_' + file + '.h5', 'w') as f:\n",
    "    \n",
    "    # Loop over each time point in the time range\n",
    "    for t_idx in tqdm(range(time_range), desc='Box Making Iter'):\n",
    "        \n",
    "        # Get the label mask slice for the current time point\n",
    "        time_label_slice = time_label[t_idx]\n",
    "        \n",
    "        # Stack the 2D mask slice along the Z-axis to match the shape of the 3D image\n",
    "        time_label_stacked = np.stack((time_label_slice,) * Z, axis=0)\n",
    "        \n",
    "        # Load the 3D image data for the current time point\n",
    "        img = tcfile[t_idx]\n",
    "        \n",
    "        # Normalize the image intensity range to [1.3, 1.4], where 1.3 is the minimum data value\n",
    "        # This normalization brings values within a consistent range for easier visualization or processing\n",
    "        img = 1.3 + 0.1 * (img - img.min()) / (img.max() - img.min())\n",
    "        \n",
    "        # Loop over each bounding box region identified in the mask\n",
    "        for b_idx, bbox in enumerate(bbox_list):\n",
    "            print(b_idx)  # Print the index of the current bounding box\n",
    "            \n",
    "            # Create a copy of the normalized image to modify within the bounding box\n",
    "            temp = img.copy()\n",
    "            \n",
    "            # Set all pixels outside the current label region (bounding box) to the minimum value, 1.3\n",
    "            # This isolates the region of interest by making everything else the background\n",
    "            temp[time_label_stacked != label_list[b_idx]] = 1.3\n",
    "            \n",
    "            # Save the cropped 3D region within the bounding box to the HDF5 file\n",
    "            # The dataset is saved with a hierarchical naming structure: `box/###/time/####`\n",
    "            # where ### is the zero-padded bounding box index, and #### is the time label\n",
    "            f.create_dataset(\n",
    "                'box/' + str(b_idx).zfill(3) + '/time/' + str(t_idx * 0.5).zfill(4),\n",
    "                data=temp[:, bbox[0]:bbox[2], bbox[1]:bbox[3]]\n",
    "            )\n",
    "            \n",
    "            # On the first time point only, save the label metadata for each bounding box\n",
    "            if t_idx == 0:\n",
    "                f.create_dataset('box/' + str(b_idx).zfill(3) + '/label', data=label_list[b_idx])\n",
    "\n",
    "# The HDF5 file is automatically closed when exiting the `with` block"
   ]
  },
  {
   "cell_type": "markdown",
   "metadata": {},
   "source": [
    "<h3> Connection based labeling </h3>"
   ]
  },
  {
   "cell_type": "code",
   "execution_count": 76,
   "metadata": {},
   "outputs": [],
   "source": [
    "dir = \"C:/rkka_Projects/Cell/Data/Necroptosis/\"\n",
    "file = \"compressed_230510.174730.HeLa_Hoechst.001.Group1.A2.T001P03.TCF\"\n",
    "\n",
    "tcfile = TCFile(dir + file, '3D')"
   ]
  },
  {
   "cell_type": "code",
   "execution_count": null,
   "metadata": {},
   "outputs": [
    {
     "name": "stderr",
     "output_type": "stream",
     "text": [
      "100%|██████████| 36/36 [00:36<00:00,  1.01s/it]\n"
     ]
    }
   ],
   "source": [
    "# Initialize an empty list to store distance maps for each time point\n",
    "dmaps = []\n",
    "\n",
    "# Variables to store base properties of the labeled regions in the first time point\n",
    "base_prop = None\n",
    "base_label_num = 0\n",
    "\n",
    "# Initialize a data stack to hold 2D Maximum Intensity Projection (MIP) images for 36 time points\n",
    "data_stack = np.zeros((36, 1009, 1009))\n",
    "\n",
    "# Loop over each time point in the dataset (36 in total)\n",
    "for i in tqdm(range(36)):\n",
    "    # Step 1: Load and preprocess the image for segmentation\n",
    "    img = tcfile[i]  # Load the 3D image at the current time point\n",
    "    img_max = np.max(img, axis=0)  # Compute the MIP to get a 2D projection of the 3D image\n",
    "    # Apply noise reduction and thresholding to clean up the MIP\n",
    "    aa = get_mip_with_noise_reduction(img, first_thr_idx=0, second_thr_idx=1)\n",
    "    img_max[aa == 0] = 0  # Mask out background regions in the MIP based on noise reduction results\n",
    "    data_stack[i] = img_max  # Store the processed MIP in the data stack\n",
    "    \n",
    "    # Step 2: Generate a distance map for the segmented regions\n",
    "    # Calculate the Euclidean distance transform on the segmented MIP\n",
    "    distance_map = ndimage.distance_transform_edt(img_max)\n",
    "\n",
    "    # Apply multi-Otsu thresholding to segment the distance map into regions\n",
    "    thr = filters.threshold_multiotsu(distance_map, 4)\n",
    "    # Set all values below the first threshold to 0, focusing on higher-intensity regions\n",
    "    distance_map[distance_map < thr[0]] = 0\n",
    "    # Remove small objects from the distance map for cleaner segmentation\n",
    "    distance_map = morphology.remove_small_objects(distance_map.astype(bool), 1000)\n",
    "\n",
    "    # Append the processed distance map to `dmaps` for this time point\n",
    "    dmaps.append(distance_map)\n",
    "\n",
    "    # For the first time point, label the regions and calculate properties for future reference\n",
    "    if i == 0:\n",
    "        label = measure.label(distance_map)  # Label connected components in the distance map\n",
    "        # Extract properties of labeled regions, such as area, and store in `base_prop`\n",
    "        base_prop = measure.regionprops_table(label, properties=['label', 'area'])\n",
    "        # Store the number of labeled regions for comparison with later time points\n",
    "        base_label_num = len(base_prop['label'])\n",
    "    else:\n",
    "        pass  # No further labeling or property extraction for subsequent time points"
   ]
  },
  {
   "cell_type": "code",
   "execution_count": null,
   "metadata": {},
   "outputs": [],
   "source": [
    "# Make a stack to get timelapsed MIP data. In this case 0th dimension becomes time axis.\n",
    "stack = np.zeros((len(dmaps), dmaps[0].shape[0], dmaps[0].shape[1]))\n",
    "for d in range(len(dmaps)):\n",
    "    stack[d] = dmaps[d]"
   ]
  },
  {
   "cell_type": "code",
   "execution_count": 82,
   "metadata": {},
   "outputs": [
    {
     "data": {
      "text/plain": [
       "<Image layer 'data_stack' at 0x284946f0550>"
      ]
     },
     "execution_count": 82,
     "metadata": {},
     "output_type": "execute_result"
    }
   ],
   "source": [
    "viewer.add_image(data_stack)"
   ]
  },
  {
   "cell_type": "code",
   "execution_count": null,
   "metadata": {},
   "outputs": [],
   "source": [
    "# Initialize a 3D array to store distance maps for each time point\n",
    "# Shape: (number of time points, height, width)\n",
    "stack = np.zeros((len(dmaps), dmaps[0].shape[0], dmaps[0].shape[1]))\n",
    "\n",
    "# Populate `stack` with the distance maps from `dmaps`\n",
    "for d in range(len(dmaps)):\n",
    "    stack[d] = dmaps[d]  # Assign each 2D distance map to the corresponding slice in `stack`\n",
    "\n",
    "# Label connected regions across the 3D `stack` to identify distinct regions in time and space\n",
    "stack_label = measure.label(stack)\n",
    "\n",
    "# Extract properties of each labeled region using `regionprops_table`\n",
    "# Properties extracted: label identifier and area (pixel count)\n",
    "props = measure.regionprops_table(stack_label, properties=['label', 'area'])\n",
    "\n",
    "# Convert extracted properties to a DataFrame and sort by area in descending order\n",
    "df = pd.DataFrame(props).sort_values(by='area', ascending=False).reset_index(drop=True)\n",
    "\n",
    "# Calculate the number of unique time points (or \"connected layers\") each region spans\n",
    "# For each label, find the unique time layers it appears in and count them\n",
    "df['connected_layers_num'] = df['label'].apply(\n",
    "    lambda lbl: len(np.unique(np.where(stack_label == lbl)[0]))\n",
    ")\n",
    "\n",
    "# Filter out regions where 'connected_layers_num' is less than the total number of time points\n",
    "# This step removes regions that appear in fewer than 5 layers, typically artifacts\n",
    "remove_df = df[df['connected_layers_num'] < stack.shape[0]]\n",
    "remove_list = list(remove_df['label'])  # List of labels to be removed due to insufficient layers\n",
    "\n",
    "# Remove identified regions from `stack_label` by setting their values to 0\n",
    "for rlabel in remove_list:\n",
    "    stack_label[stack_label == rlabel] = 0\n",
    "\n",
    "# Re-label the `stack_label` after removing regions to ensure continuity in labeling\n",
    "stack_label = measure.label(stack_label)"
   ]
  },
  {
   "cell_type": "code",
   "execution_count": null,
   "metadata": {},
   "outputs": [
    {
     "data": {
      "text/plain": [
       "<Image layer 'temp' at 0x28498968be0>"
      ]
     },
     "execution_count": 123,
     "metadata": {},
     "output_type": "execute_result"
    }
   ],
   "source": [
    "# Retry with another approach\n",
    "temp = data_stack.copy()\n",
    "for i in range(36):\n",
    "    temp[i] = ndimage.distance_transform_edt(temp[i])\n",
    "    thr = filters.threshold_multiotsu(temp[i], 4)\n",
    "    temp[i][temp[i]<thr[1]] = 0\n",
    "viewer.add_image(temp)"
   ]
  },
  {
   "cell_type": "code",
   "execution_count": 129,
   "metadata": {},
   "outputs": [],
   "source": [
    "temp_labels = measure.label(temp.astype(bool))"
   ]
  },
  {
   "cell_type": "code",
   "execution_count": 153,
   "metadata": {},
   "outputs": [
    {
     "data": {
      "text/plain": [
       "<Labels layer 'temp_labels' at 0x28498a00850>"
      ]
     },
     "execution_count": 153,
     "metadata": {},
     "output_type": "execute_result"
    }
   ],
   "source": [
    "viewer.add_labels(temp_labels)"
   ]
  },
  {
   "cell_type": "code",
   "execution_count": 134,
   "metadata": {},
   "outputs": [
    {
     "data": {
      "text/html": [
       "<div>\n",
       "<style scoped>\n",
       "    .dataframe tbody tr th:only-of-type {\n",
       "        vertical-align: middle;\n",
       "    }\n",
       "\n",
       "    .dataframe tbody tr th {\n",
       "        vertical-align: top;\n",
       "    }\n",
       "\n",
       "    .dataframe thead th {\n",
       "        text-align: right;\n",
       "    }\n",
       "</style>\n",
       "<table border=\"1\" class=\"dataframe\">\n",
       "  <thead>\n",
       "    <tr style=\"text-align: right;\">\n",
       "      <th></th>\n",
       "      <th>label</th>\n",
       "      <th>bbox-0</th>\n",
       "      <th>bbox-1</th>\n",
       "      <th>bbox-2</th>\n",
       "      <th>bbox-3</th>\n",
       "      <th>bbox-4</th>\n",
       "      <th>bbox-5</th>\n",
       "    </tr>\n",
       "  </thead>\n",
       "  <tbody>\n",
       "    <tr>\n",
       "      <th>0</th>\n",
       "      <td>1</td>\n",
       "      <td>0</td>\n",
       "      <td>0</td>\n",
       "      <td>648</td>\n",
       "      <td>36</td>\n",
       "      <td>133</td>\n",
       "      <td>971</td>\n",
       "    </tr>\n",
       "    <tr>\n",
       "      <th>1</th>\n",
       "      <td>2</td>\n",
       "      <td>0</td>\n",
       "      <td>117</td>\n",
       "      <td>420</td>\n",
       "      <td>36</td>\n",
       "      <td>296</td>\n",
       "      <td>726</td>\n",
       "    </tr>\n",
       "    <tr>\n",
       "      <th>2</th>\n",
       "      <td>3</td>\n",
       "      <td>0</td>\n",
       "      <td>312</td>\n",
       "      <td>763</td>\n",
       "      <td>36</td>\n",
       "      <td>603</td>\n",
       "      <td>949</td>\n",
       "    </tr>\n",
       "    <tr>\n",
       "      <th>3</th>\n",
       "      <td>4</td>\n",
       "      <td>0</td>\n",
       "      <td>256</td>\n",
       "      <td>98</td>\n",
       "      <td>36</td>\n",
       "      <td>477</td>\n",
       "      <td>273</td>\n",
       "    </tr>\n",
       "    <tr>\n",
       "      <th>4</th>\n",
       "      <td>5</td>\n",
       "      <td>0</td>\n",
       "      <td>276</td>\n",
       "      <td>296</td>\n",
       "      <td>36</td>\n",
       "      <td>584</td>\n",
       "      <td>482</td>\n",
       "    </tr>\n",
       "    <tr>\n",
       "      <th>...</th>\n",
       "      <td>...</td>\n",
       "      <td>...</td>\n",
       "      <td>...</td>\n",
       "      <td>...</td>\n",
       "      <td>...</td>\n",
       "      <td>...</td>\n",
       "      <td>...</td>\n",
       "    </tr>\n",
       "    <tr>\n",
       "      <th>63</th>\n",
       "      <td>64</td>\n",
       "      <td>30</td>\n",
       "      <td>649</td>\n",
       "      <td>543</td>\n",
       "      <td>36</td>\n",
       "      <td>673</td>\n",
       "      <td>562</td>\n",
       "    </tr>\n",
       "    <tr>\n",
       "      <th>64</th>\n",
       "      <td>65</td>\n",
       "      <td>33</td>\n",
       "      <td>672</td>\n",
       "      <td>676</td>\n",
       "      <td>34</td>\n",
       "      <td>673</td>\n",
       "      <td>678</td>\n",
       "    </tr>\n",
       "    <tr>\n",
       "      <th>65</th>\n",
       "      <td>66</td>\n",
       "      <td>34</td>\n",
       "      <td>410</td>\n",
       "      <td>642</td>\n",
       "      <td>35</td>\n",
       "      <td>411</td>\n",
       "      <td>643</td>\n",
       "    </tr>\n",
       "    <tr>\n",
       "      <th>66</th>\n",
       "      <td>67</td>\n",
       "      <td>34</td>\n",
       "      <td>411</td>\n",
       "      <td>644</td>\n",
       "      <td>35</td>\n",
       "      <td>413</td>\n",
       "      <td>646</td>\n",
       "    </tr>\n",
       "    <tr>\n",
       "      <th>67</th>\n",
       "      <td>68</td>\n",
       "      <td>34</td>\n",
       "      <td>674</td>\n",
       "      <td>676</td>\n",
       "      <td>35</td>\n",
       "      <td>675</td>\n",
       "      <td>677</td>\n",
       "    </tr>\n",
       "  </tbody>\n",
       "</table>\n",
       "<p>68 rows × 7 columns</p>\n",
       "</div>"
      ],
      "text/plain": [
       "    label  bbox-0  bbox-1  bbox-2  bbox-3  bbox-4  bbox-5\n",
       "0       1       0       0     648      36     133     971\n",
       "1       2       0     117     420      36     296     726\n",
       "2       3       0     312     763      36     603     949\n",
       "3       4       0     256      98      36     477     273\n",
       "4       5       0     276     296      36     584     482\n",
       "..    ...     ...     ...     ...     ...     ...     ...\n",
       "63     64      30     649     543      36     673     562\n",
       "64     65      33     672     676      34     673     678\n",
       "65     66      34     410     642      35     411     643\n",
       "66     67      34     411     644      35     413     646\n",
       "67     68      34     674     676      35     675     677\n",
       "\n",
       "[68 rows x 7 columns]"
      ]
     },
     "execution_count": 134,
     "metadata": {},
     "output_type": "execute_result"
    }
   ],
   "source": [
    "props = measure.regionprops_table(temp_labels, properties=['label', 'bbox'])\n",
    "props = pd.DataFrame(props)\n",
    "props"
   ]
  },
  {
   "cell_type": "code",
   "execution_count": 138,
   "metadata": {},
   "outputs": [
    {
     "data": {
      "text/html": [
       "<div>\n",
       "<style scoped>\n",
       "    .dataframe tbody tr th:only-of-type {\n",
       "        vertical-align: middle;\n",
       "    }\n",
       "\n",
       "    .dataframe tbody tr th {\n",
       "        vertical-align: top;\n",
       "    }\n",
       "\n",
       "    .dataframe thead th {\n",
       "        text-align: right;\n",
       "    }\n",
       "</style>\n",
       "<table border=\"1\" class=\"dataframe\">\n",
       "  <thead>\n",
       "    <tr style=\"text-align: right;\">\n",
       "      <th></th>\n",
       "      <th>label</th>\n",
       "      <th>bbox-0</th>\n",
       "      <th>bbox-1</th>\n",
       "      <th>bbox-2</th>\n",
       "      <th>bbox-3</th>\n",
       "      <th>bbox-4</th>\n",
       "      <th>bbox-5</th>\n",
       "    </tr>\n",
       "  </thead>\n",
       "  <tbody>\n",
       "    <tr>\n",
       "      <th>0</th>\n",
       "      <td>1</td>\n",
       "      <td>0</td>\n",
       "      <td>0</td>\n",
       "      <td>648</td>\n",
       "      <td>36</td>\n",
       "      <td>133</td>\n",
       "      <td>971</td>\n",
       "    </tr>\n",
       "    <tr>\n",
       "      <th>1</th>\n",
       "      <td>2</td>\n",
       "      <td>0</td>\n",
       "      <td>117</td>\n",
       "      <td>420</td>\n",
       "      <td>36</td>\n",
       "      <td>296</td>\n",
       "      <td>726</td>\n",
       "    </tr>\n",
       "    <tr>\n",
       "      <th>2</th>\n",
       "      <td>3</td>\n",
       "      <td>0</td>\n",
       "      <td>312</td>\n",
       "      <td>763</td>\n",
       "      <td>36</td>\n",
       "      <td>603</td>\n",
       "      <td>949</td>\n",
       "    </tr>\n",
       "    <tr>\n",
       "      <th>3</th>\n",
       "      <td>4</td>\n",
       "      <td>0</td>\n",
       "      <td>256</td>\n",
       "      <td>98</td>\n",
       "      <td>36</td>\n",
       "      <td>477</td>\n",
       "      <td>273</td>\n",
       "    </tr>\n",
       "    <tr>\n",
       "      <th>4</th>\n",
       "      <td>5</td>\n",
       "      <td>0</td>\n",
       "      <td>276</td>\n",
       "      <td>296</td>\n",
       "      <td>36</td>\n",
       "      <td>584</td>\n",
       "      <td>482</td>\n",
       "    </tr>\n",
       "    <tr>\n",
       "      <th>5</th>\n",
       "      <td>6</td>\n",
       "      <td>0</td>\n",
       "      <td>330</td>\n",
       "      <td>513</td>\n",
       "      <td>36</td>\n",
       "      <td>484</td>\n",
       "      <td>780</td>\n",
       "    </tr>\n",
       "    <tr>\n",
       "      <th>6</th>\n",
       "      <td>7</td>\n",
       "      <td>0</td>\n",
       "      <td>566</td>\n",
       "      <td>165</td>\n",
       "      <td>36</td>\n",
       "      <td>738</td>\n",
       "      <td>361</td>\n",
       "    </tr>\n",
       "    <tr>\n",
       "      <th>7</th>\n",
       "      <td>8</td>\n",
       "      <td>0</td>\n",
       "      <td>541</td>\n",
       "      <td>609</td>\n",
       "      <td>36</td>\n",
       "      <td>773</td>\n",
       "      <td>874</td>\n",
       "    </tr>\n",
       "    <tr>\n",
       "      <th>9</th>\n",
       "      <td>10</td>\n",
       "      <td>0</td>\n",
       "      <td>722</td>\n",
       "      <td>303</td>\n",
       "      <td>36</td>\n",
       "      <td>1009</td>\n",
       "      <td>665</td>\n",
       "    </tr>\n",
       "  </tbody>\n",
       "</table>\n",
       "</div>"
      ],
      "text/plain": [
       "   label  bbox-0  bbox-1  bbox-2  bbox-3  bbox-4  bbox-5\n",
       "0      1       0       0     648      36     133     971\n",
       "1      2       0     117     420      36     296     726\n",
       "2      3       0     312     763      36     603     949\n",
       "3      4       0     256      98      36     477     273\n",
       "4      5       0     276     296      36     584     482\n",
       "5      6       0     330     513      36     484     780\n",
       "6      7       0     566     165      36     738     361\n",
       "7      8       0     541     609      36     773     874\n",
       "9     10       0     722     303      36    1009     665"
      ]
     },
     "execution_count": 138,
     "metadata": {},
     "output_type": "execute_result"
    }
   ],
   "source": [
    "props = props.drop(index=props[props['bbox-0']!=0].index)\n",
    "props = props.drop(index=props[props['bbox-3']!=36].index)\n",
    "props"
   ]
  },
  {
   "cell_type": "code",
   "execution_count": 144,
   "metadata": {},
   "outputs": [
    {
     "data": {
      "text/plain": [
       "1"
      ]
     },
     "execution_count": 144,
     "metadata": {},
     "output_type": "execute_result"
    }
   ],
   "source": [
    "props.iloc[0]['label']"
   ]
  },
  {
   "cell_type": "code",
   "execution_count": 160,
   "metadata": {},
   "outputs": [
    {
     "data": {
      "text/plain": [
       "<Image layer 'Image' at 0x28535728f10>"
      ]
     },
     "execution_count": 160,
     "metadata": {},
     "output_type": "execute_result"
    }
   ],
   "source": [
    "viewer.add_image(temp_labels==props.iloc[3]['label'])"
   ]
  },
  {
   "cell_type": "code",
   "execution_count": 162,
   "metadata": {},
   "outputs": [],
   "source": [
    "z = np.zeros((36, 1009, 1009))\n",
    "for i in range(props.shape[0]):\n",
    "    z = z + (temp_labels==props.iloc[i]['label']).astype(int)\n"
   ]
  },
  {
   "cell_type": "code",
   "execution_count": 164,
   "metadata": {},
   "outputs": [
    {
     "data": {
      "text/plain": [
       "<Image layer 'z' at 0x2853868dfd0>"
      ]
     },
     "execution_count": 164,
     "metadata": {},
     "output_type": "execute_result"
    }
   ],
   "source": [
    "viewer.add_image(z)"
   ]
  },
  {
   "cell_type": "code",
   "execution_count": 117,
   "metadata": {},
   "outputs": [],
   "source": [
    "# Label the stack\n",
    "stack_label = measure.label(temp.astype(bool))\n",
    "\n",
    "# Extract properties using regionprops_table\n",
    "props = measure.regionprops_table(stack_label, properties=['label', 'area'])\n",
    "\n",
    "# Convert the properties to a DataFrame and sort by 'area'\n",
    "df = pd.DataFrame(props).sort_values(by='area', ascending=False).reset_index(drop=True)\n",
    "\n",
    "# Calculate the number of connected layers for each region and store in a new column\n",
    "df['connected_layers_num'] = df['label'].apply(lambda lbl: len(np.unique(np.where(stack_label == lbl)[0])))\n",
    "\n",
    "# Filter out rows where 'connected_layers_num' is less than 5\n",
    "remove_df = df[df['connected_layers_num'] < stack.shape[0]]\n",
    "remove_list = list(remove_df['label'])\n",
    "for rlabel in remove_list:\n",
    "    stack_label[stack_label == rlabel] = 0\n",
    "\n",
    "stack_label = measure.label(stack_label)\n"
   ]
  },
  {
   "cell_type": "code",
   "execution_count": 118,
   "metadata": {},
   "outputs": [
    {
     "data": {
      "text/plain": [
       "<Labels layer 'stack_label' at 0x287c8951bb0>"
      ]
     },
     "execution_count": 118,
     "metadata": {},
     "output_type": "execute_result"
    }
   ],
   "source": [
    "viewer.add_labels(stack_label)"
   ]
  },
  {
   "cell_type": "markdown",
   "metadata": {},
   "source": [
    "<h1> Label Manual 보정 </h1>"
   ]
  },
  {
   "cell_type": "code",
   "execution_count": 46,
   "metadata": {},
   "outputs": [
    {
     "data": {
      "text/plain": [
       "<Image layer 'data_stack' at 0x2001d64d820>"
      ]
     },
     "execution_count": 46,
     "metadata": {},
     "output_type": "execute_result"
    }
   ],
   "source": [
    "N = tcfile[0][0].shape[0]\n",
    "data_stack = np.zeros((36, N, N))\n",
    "for i in tqdm(range(36)):\n",
    "    data_stack[i] = np.max(tcfile[i], axis=0)\n",
    "\n",
    "viewer.add_image(data_stack)"
   ]
  },
  {
   "cell_type": "markdown",
   "metadata": {},
   "source": [
    "<h3> Cell 경계 manually 삭제 </h3>"
   ]
  },
  {
   "cell_type": "code",
   "execution_count": 49,
   "metadata": {},
   "outputs": [
    {
     "data": {
      "text/plain": [
       "<Image layer 'stack_label [1]' at 0x1fff5157970>"
      ]
     },
     "execution_count": 49,
     "metadata": {},
     "output_type": "execute_result"
    },
    {
     "name": "stderr",
     "output_type": "stream",
     "text": [
      "Creating SAM image embedding: 100%|██████████| 36/36 [00:13<00:00,  2.76it/s]\n",
      "Creating SAM image embedding: 100%|██████████| 36/36 [00:13<00:00,  2.73it/s]\n",
      "c:\\miniconda3\\envs\\lab\\lib\\site-packages\\napari_sam\\_widget.py:918: UserWarning: There is already a point in this location. This click will be ignored.\n",
      "  warnings.warn(\"There is already a point in this location. This click will be ignored.\")\n"
     ]
    }
   ],
   "source": [
    "cut_stack = viewer.layers['Labels'].data\n",
    "stack_label[cut_stack!=0] = 0\n",
    "viewer.add_image(stack_label)"
   ]
  },
  {
   "cell_type": "markdown",
   "metadata": {},
   "source": [
    "<h3> 이후 SAM & 저장 </h3>"
   ]
  },
  {
   "cell_type": "code",
   "execution_count": 50,
   "metadata": {},
   "outputs": [
    {
     "data": {
      "text/plain": [
       "<Image layer 'final_label' at 0x2021eb66640>"
      ]
     },
     "execution_count": 50,
     "metadata": {},
     "output_type": "execute_result"
    }
   ],
   "source": [
    "final_label = viewer.layers['Labels'].data\n",
    "viewer.add_image(final_label)"
   ]
  },
  {
   "cell_type": "code",
   "execution_count": 51,
   "metadata": {},
   "outputs": [
    {
     "data": {
      "text/html": [
       "<div>\n",
       "<style scoped>\n",
       "    .dataframe tbody tr th:only-of-type {\n",
       "        vertical-align: middle;\n",
       "    }\n",
       "\n",
       "    .dataframe tbody tr th {\n",
       "        vertical-align: top;\n",
       "    }\n",
       "\n",
       "    .dataframe thead th {\n",
       "        text-align: right;\n",
       "    }\n",
       "</style>\n",
       "<table border=\"1\" class=\"dataframe\">\n",
       "  <thead>\n",
       "    <tr style=\"text-align: right;\">\n",
       "      <th></th>\n",
       "      <th>label</th>\n",
       "      <th>area</th>\n",
       "      <th>bbox-0</th>\n",
       "      <th>bbox-1</th>\n",
       "      <th>bbox-2</th>\n",
       "      <th>bbox-3</th>\n",
       "      <th>bbox-4</th>\n",
       "      <th>bbox-5</th>\n",
       "    </tr>\n",
       "  </thead>\n",
       "  <tbody>\n",
       "    <tr>\n",
       "      <th>0</th>\n",
       "      <td>1</td>\n",
       "      <td>436606.0</td>\n",
       "      <td>0</td>\n",
       "      <td>72</td>\n",
       "      <td>233</td>\n",
       "      <td>36</td>\n",
       "      <td>272</td>\n",
       "      <td>609</td>\n",
       "    </tr>\n",
       "    <tr>\n",
       "      <th>1</th>\n",
       "      <td>2</td>\n",
       "      <td>384770.0</td>\n",
       "      <td>0</td>\n",
       "      <td>0</td>\n",
       "      <td>426</td>\n",
       "      <td>36</td>\n",
       "      <td>377</td>\n",
       "      <td>830</td>\n",
       "    </tr>\n",
       "    <tr>\n",
       "      <th>2</th>\n",
       "      <td>3</td>\n",
       "      <td>208422.0</td>\n",
       "      <td>0</td>\n",
       "      <td>76</td>\n",
       "      <td>665</td>\n",
       "      <td>36</td>\n",
       "      <td>348</td>\n",
       "      <td>855</td>\n",
       "    </tr>\n",
       "    <tr>\n",
       "      <th>3</th>\n",
       "      <td>4</td>\n",
       "      <td>208879.0</td>\n",
       "      <td>0</td>\n",
       "      <td>263</td>\n",
       "      <td>42</td>\n",
       "      <td>36</td>\n",
       "      <td>543</td>\n",
       "      <td>228</td>\n",
       "    </tr>\n",
       "  </tbody>\n",
       "</table>\n",
       "</div>"
      ],
      "text/plain": [
       "   label      area  bbox-0  bbox-1  bbox-2  bbox-3  bbox-4  bbox-5\n",
       "0      1  436606.0       0      72     233      36     272     609\n",
       "1      2  384770.0       0       0     426      36     377     830\n",
       "2      3  208422.0       0      76     665      36     348     855\n",
       "3      4  208879.0       0     263      42      36     543     228"
      ]
     },
     "execution_count": 51,
     "metadata": {},
     "output_type": "execute_result"
    },
    {
     "name": "stderr",
     "output_type": "stream",
     "text": [
      "Creating SAM image embedding: 100%|██████████| 36/36 [00:13<00:00,  2.72it/s]\n",
      "Creating SAM image embedding: 100%|██████████| 36/36 [00:13<00:00,  2.73it/s]\n"
     ]
    }
   ],
   "source": [
    "# 잘됐는지 check\n",
    "pd.DataFrame(measure.regionprops_table(final_label, properties=['label', 'area', 'bbox']))"
   ]
  },
  {
   "cell_type": "code",
   "execution_count": 36,
   "metadata": {},
   "outputs": [],
   "source": [
    "final_label = viewer.layers['Labels'].data\n",
    "\n",
    "with h5py.File(dir + 'sam_boxinfo_' + file + '.h5', 'w') as f:\n",
    "    f.create_dataset('labels', data = final_label)\n",
    "    f.close()"
   ]
  },
  {
   "cell_type": "markdown",
   "metadata": {},
   "source": [
    "<h3> 불러오기 </h3>"
   ]
  },
  {
   "cell_type": "code",
   "execution_count": 39,
   "metadata": {},
   "outputs": [
    {
     "data": {
      "text/html": [
       "<div>\n",
       "<style scoped>\n",
       "    .dataframe tbody tr th:only-of-type {\n",
       "        vertical-align: middle;\n",
       "    }\n",
       "\n",
       "    .dataframe tbody tr th {\n",
       "        vertical-align: top;\n",
       "    }\n",
       "\n",
       "    .dataframe thead th {\n",
       "        text-align: right;\n",
       "    }\n",
       "</style>\n",
       "<table border=\"1\" class=\"dataframe\">\n",
       "  <thead>\n",
       "    <tr style=\"text-align: right;\">\n",
       "      <th></th>\n",
       "      <th>label</th>\n",
       "      <th>area</th>\n",
       "      <th>bbox-0</th>\n",
       "      <th>bbox-1</th>\n",
       "      <th>bbox-2</th>\n",
       "      <th>bbox-3</th>\n",
       "      <th>bbox-4</th>\n",
       "      <th>bbox-5</th>\n",
       "    </tr>\n",
       "  </thead>\n",
       "  <tbody>\n",
       "    <tr>\n",
       "      <th>0</th>\n",
       "      <td>1</td>\n",
       "      <td>379236.0</td>\n",
       "      <td>0</td>\n",
       "      <td>0</td>\n",
       "      <td>633</td>\n",
       "      <td>36</td>\n",
       "      <td>162</td>\n",
       "      <td>993</td>\n",
       "    </tr>\n",
       "    <tr>\n",
       "      <th>1</th>\n",
       "      <td>2</td>\n",
       "      <td>438569.0</td>\n",
       "      <td>0</td>\n",
       "      <td>81</td>\n",
       "      <td>377</td>\n",
       "      <td>36</td>\n",
       "      <td>311</td>\n",
       "      <td>764</td>\n",
       "    </tr>\n",
       "    <tr>\n",
       "      <th>2</th>\n",
       "      <td>3</td>\n",
       "      <td>423918.0</td>\n",
       "      <td>0</td>\n",
       "      <td>240</td>\n",
       "      <td>85</td>\n",
       "      <td>36</td>\n",
       "      <td>500</td>\n",
       "      <td>286</td>\n",
       "    </tr>\n",
       "    <tr>\n",
       "      <th>3</th>\n",
       "      <td>4</td>\n",
       "      <td>441946.0</td>\n",
       "      <td>0</td>\n",
       "      <td>321</td>\n",
       "      <td>265</td>\n",
       "      <td>36</td>\n",
       "      <td>595</td>\n",
       "      <td>496</td>\n",
       "    </tr>\n",
       "    <tr>\n",
       "      <th>4</th>\n",
       "      <td>5</td>\n",
       "      <td>499877.0</td>\n",
       "      <td>0</td>\n",
       "      <td>306</td>\n",
       "      <td>462</td>\n",
       "      <td>36</td>\n",
       "      <td>498</td>\n",
       "      <td>797</td>\n",
       "    </tr>\n",
       "    <tr>\n",
       "      <th>5</th>\n",
       "      <td>6</td>\n",
       "      <td>360715.0</td>\n",
       "      <td>0</td>\n",
       "      <td>297</td>\n",
       "      <td>745</td>\n",
       "      <td>36</td>\n",
       "      <td>786</td>\n",
       "      <td>967</td>\n",
       "    </tr>\n",
       "    <tr>\n",
       "      <th>6</th>\n",
       "      <td>7</td>\n",
       "      <td>365727.0</td>\n",
       "      <td>0</td>\n",
       "      <td>544</td>\n",
       "      <td>124</td>\n",
       "      <td>36</td>\n",
       "      <td>752</td>\n",
       "      <td>376</td>\n",
       "    </tr>\n",
       "    <tr>\n",
       "      <th>7</th>\n",
       "      <td>9</td>\n",
       "      <td>370639.0</td>\n",
       "      <td>0</td>\n",
       "      <td>609</td>\n",
       "      <td>343</td>\n",
       "      <td>36</td>\n",
       "      <td>976</td>\n",
       "      <td>684</td>\n",
       "    </tr>\n",
       "    <tr>\n",
       "      <th>8</th>\n",
       "      <td>10</td>\n",
       "      <td>499584.0</td>\n",
       "      <td>0</td>\n",
       "      <td>506</td>\n",
       "      <td>576</td>\n",
       "      <td>36</td>\n",
       "      <td>814</td>\n",
       "      <td>908</td>\n",
       "    </tr>\n",
       "    <tr>\n",
       "      <th>9</th>\n",
       "      <td>11</td>\n",
       "      <td>529954.0</td>\n",
       "      <td>0</td>\n",
       "      <td>674</td>\n",
       "      <td>288</td>\n",
       "      <td>36</td>\n",
       "      <td>1009</td>\n",
       "      <td>713</td>\n",
       "    </tr>\n",
       "  </tbody>\n",
       "</table>\n",
       "</div>"
      ],
      "text/plain": [
       "   label      area  bbox-0  bbox-1  bbox-2  bbox-3  bbox-4  bbox-5\n",
       "0      1  379236.0       0       0     633      36     162     993\n",
       "1      2  438569.0       0      81     377      36     311     764\n",
       "2      3  423918.0       0     240      85      36     500     286\n",
       "3      4  441946.0       0     321     265      36     595     496\n",
       "4      5  499877.0       0     306     462      36     498     797\n",
       "5      6  360715.0       0     297     745      36     786     967\n",
       "6      7  365727.0       0     544     124      36     752     376\n",
       "7      9  370639.0       0     609     343      36     976     684\n",
       "8     10  499584.0       0     506     576      36     814     908\n",
       "9     11  529954.0       0     674     288      36    1009     713"
      ]
     },
     "execution_count": 39,
     "metadata": {},
     "output_type": "execute_result"
    }
   ],
   "source": [
    "sam_labels = h5py.File(dir + 'sam_boxinfo_' + file + '.h5')\n",
    "sam_labels = np.array(sam_labels['labels'])\n",
    "sam_props = pd.DataFrame(measure.regionprops_table(sam_labels, properties=['label', 'area', 'bbox']))\n",
    "sam_props"
   ]
  },
  {
   "cell_type": "code",
   "execution_count": 40,
   "metadata": {},
   "outputs": [],
   "source": [
    "bbox_list = []\n",
    "for i in range(sam_props.shape[0]):\n",
    "    s = sam_props.iloc[i]\n",
    "    # min row, min col, max row, max col\n",
    "    b = [int(s['bbox-1']), int(s['bbox-2']), int(s['bbox-4']), int(s['bbox-5'])]\n",
    "    bbox_list.append(b)"
   ]
  },
  {
   "cell_type": "markdown",
   "metadata": {},
   "source": [
    "<h3> Box 따라서 저장 </h3>"
   ]
  },
  {
   "cell_type": "code",
   "execution_count": 42,
   "metadata": {},
   "outputs": [
    {
     "name": "stderr",
     "output_type": "stream",
     "text": [
      "Box Making Iter: 100%|██████████| 36/36 [00:39<00:00,  1.10s/it]\n"
     ]
    }
   ],
   "source": [
    "#####\n",
    "time_range = 36\n",
    "\n",
    "with h5py.File(dir + 'timelapsed_mlp_boxed_' + file + '.h5', 'w') as f:\n",
    "    for t_idx in tqdm(range(time_range), desc='Box Making Iter'):\n",
    "        img = tcfile[t_idx]\n",
    "        for b_idx, bbox in enumerate(bbox_list):\n",
    "            f.create_dataset('box/' + str(b_idx).zfill(3) + '/time/' + str(t_idx*0.5).zfill(4), data = img[:, bbox[0]:bbox[2], bbox[1]:bbox[3]])\n",
    "    f.close()"
   ]
  },
  {
   "cell_type": "markdown",
   "metadata": {},
   "source": [
    "<h3> 경계 등분하는 알고리즘 </h3>"
   ]
  },
  {
   "cell_type": "code",
   "execution_count": null,
   "metadata": {},
   "outputs": [],
   "source": [
    "def separate_distance_map_with_centroids(distance_map, centroid1, centroid2):\n",
    "    \n",
    "    points_idx = np.array(np.where(distance_map!=0))\n",
    "    \n",
    "    # Calculate vector, midpoint, and perpendicular vector\n",
    "    vector = centroid2 - centroid1\n",
    "    midpoint = (centroid1 + centroid2) / 2\n",
    "\n",
    "    def classify_point(point, midpoint, vector):\n",
    "        relative_position = point - midpoint\n",
    "        dot_product = np.dot(relative_position, vector)\n",
    "        return 'left' if dot_product > 0 else 'right'\n",
    "\n",
    "    classified_points = {'left': [], 'right': []}\n",
    "\n",
    "    for p_idx in range(points_idx.shape[1]):\n",
    "        point = np.array([points_idx[0][p_idx], points_idx[1][p_idx]])\n",
    "        side = classify_point(point, midpoint, vector)\n",
    "        classified_points[side].append(point)\n",
    "\n",
    "    # Convert classified points to numpy arrays for plotting\n",
    "    classified_points['left'] = np.array(classified_points['left'])\n",
    "    classified_points['right'] = np.array(classified_points['right'])\n",
    "    \n",
    "    separated_distance_map = np.zeros(distance_image.shape)\n",
    "    for l in classified_points['left']:\n",
    "        separated_distance_map[l[0], l[1]] = 1\n",
    "\n",
    "    for r in classified_points['right']:\n",
    "        separated_distance_map[r[0], r[1]] = 2\n",
    "        \n",
    "    return separated_distance_map"
   ]
  },
  {
   "cell_type": "code",
   "execution_count": 137,
   "metadata": {},
   "outputs": [
    {
     "data": {
      "text/plain": [
       "Text(0.5, 1.0, 'Separated distance map')"
      ]
     },
     "execution_count": 137,
     "metadata": {},
     "output_type": "execute_result"
    },
    {
     "data": {
      "image/png": "[encoded data removed]",
      "text/plain": [
       "<Figure size 640x480 with 2 Axes>"
      ]
     },
     "metadata": {},
     "output_type": "display_data"
    }
   ],
   "source": [
    "from PIL import Image\n",
    "points = Image.open('ttt.png').convert('L')\n",
    "points = np.array(points)\n",
    "fig, axes = plt.subplots(1,2)\n",
    "axes[0].imshow(points)\n",
    "axes[0].set_title('Distance map')\n",
    "axes[1].imshow(separate_distance_map_with_centroids(points, np.array([255,333]), np.array([411,313])))\n",
    "axes[1].set_title('Separated distance map')"
   ]
  },
  {
   "cell_type": "code",
   "execution_count": 177,
   "metadata": {},
   "outputs": [],
   "source": [
    "import h5py\n",
    "import numpy\n",
    "import napari\n",
    "import pandas as pd\n",
    "\n",
    "dir = \"C:/rkka_Projects/Cell/Data/Necroptosis/\"\n",
    "file = 'mlp_boxed_compressed_230510.174730.HeLa_Hoechst.001.Group1.A2.T001P02.TCF.h5'"
   ]
  },
  {
   "cell_type": "code",
   "execution_count": 178,
   "metadata": {},
   "outputs": [],
   "source": [
    "a = h5py.File(dir+file)"
   ]
  },
  {
   "cell_type": "code",
   "execution_count": 179,
   "metadata": {},
   "outputs": [
    {
     "data": {
      "text/plain": [
       "<KeysViewHDF5 ['000', '001', '002', '003', '004', '005', '006']>"
      ]
     },
     "execution_count": 179,
     "metadata": {},
     "output_type": "execute_result"
    }
   ],
   "source": [
    "a['box'].keys()"
   ]
  },
  {
   "cell_type": "code",
   "execution_count": 184,
   "metadata": {},
   "outputs": [],
   "source": [
    "viewer = napari.Viewer()"
   ]
  },
  {
   "cell_type": "code",
   "execution_count": 187,
   "metadata": {},
   "outputs": [
    {
     "data": {
      "text/plain": [
       "<Image layer 'box [1]' at 0x23c10494e80>"
      ]
     },
     "execution_count": 187,
     "metadata": {},
     "output_type": "execute_result"
    }
   ],
   "source": [
    "box = np.array(a['box/002/time/10.0'])\n",
    "box[box<1.327]=0\n",
    "viewer.add_image(box)"
   ]
  }
 ],
 "metadata": {
  "kernelspec": {
   "display_name": "cell",
   "language": "python",
   "name": "python3"
  },
  "language_info": {
   "codemirror_mode": {
    "name": "ipython",
    "version": 3
   },
   "file_extension": ".py",
   "mimetype": "text/x-python",
   "name": "python",
   "nbconvert_exporter": "python",
   "pygments_lexer": "ipython3",
   "version": "3.12.4"
  }
 },
 "nbformat": 4,
 "nbformat_minor": 2
}
