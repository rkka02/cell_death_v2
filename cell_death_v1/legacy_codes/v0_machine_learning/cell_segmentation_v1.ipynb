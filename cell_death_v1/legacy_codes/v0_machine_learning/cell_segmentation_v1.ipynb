{
 "cells": [
  {
   "cell_type": "code",
   "execution_count": 2,
   "metadata": {},
   "outputs": [],
   "source": [
    "from TCFile import TCFile\n",
    "import numpy as np\n",
    "import napari\n",
    "import h5py\n",
    "from skimage import morphology, filters, feature, measure, restoration, segmentation\n",
    "from tqdm import tqdm\n",
    "import ipywidgets as widgets\n",
    "import matplotlib.pyplot as plt\n",
    "import pandas as pd\n",
    "import copy\n",
    "from scipy import ndimage\n",
    "\n",
    "def circular_filter(array_shape, pixel_radius):\n",
    "    filter = np.zeros(array_shape)\n",
    "    N = array_shape[0]\n",
    "    x, y = np.arange(N), np.arange(N)\n",
    "    X, Y = np.meshgrid(x, y)\n",
    "    filter[(X-N//2)**2 + (Y-N//2)**2 < pixel_radius**2] = 1\n",
    "    return filter\n",
    "\n",
    "def fourier_filter_with_thresholding(image, threshold, filter):\n",
    "\n",
    "    temp = np.zeros(image.shape)\n",
    "    temp = temp + image\n",
    "    temp[image<threshold] = 0\n",
    "    ###############################\n",
    "    temp = filters.gaussian(temp)\n",
    "\n",
    "    a_fourier = np.fft.fftshift(np.fft.fft2(temp))\n",
    "    H, W = a_fourier.shape\n",
    "    a_fourier[H//2:H//2 + 1, W//2:W//2 + 1]=0\n",
    "    a_fourier = a_fourier * filter\n",
    "    a_mod = np.fft.ifft2(a_fourier)\n",
    "    ################################\n",
    "    return np.abs(a_mod)\n",
    "\n",
    "def get_mip_with_noise_reduction(data, first_thr_idx=0, second_thr_idx=1, fourier_filter_radius=400):\n",
    "    # Get MIP image\n",
    "    img_max = np.max(data, axis=0)\n",
    "    #######################################################\n",
    "    # Noise reduction\n",
    "    thr = filters.threshold_multiotsu(img_max, 4)\n",
    "    aa = fourier_filter_with_thresholding(img_max, thr[first_thr_idx], fourier_filter_radius)\n",
    "    # Thresholding for better clarity\n",
    "    aa_thr = filters.threshold_multiotsu(aa)\n",
    "    aa[aa<aa_thr[second_thr_idx]] = 0\n",
    "    # Mask generating and applying remove small objects\n",
    "    mask = aa.copy()\n",
    "    mask = morphology.remove_small_objects(mask.astype(bool), 1000)\n",
    "    aa[mask==0] = 0\n",
    "    # mask initialization for memory\n",
    "    mask = 0\n",
    "    #######################################################\n",
    "    return aa\n",
    "\n",
    "\n",
    "def separate_distance_map_with_centroids(distance_map, centroid1, centroid2):\n",
    "    \n",
    "    points_idx = np.array(np.where(distance_map!=0))\n",
    "    \n",
    "    # Calculate vector, midpoint, and perpendicular vector\n",
    "    vector = centroid2 - centroid1\n",
    "    midpoint = (centroid1 + centroid2) / 2\n",
    "\n",
    "    def classify_point(point, midpoint, vector):\n",
    "        relative_position = point - midpoint\n",
    "        dot_product = np.dot(relative_position, vector)\n",
    "        return 'left' if dot_product > 0 else 'right'\n",
    "\n",
    "    classified_points = {'left': [], 'right': []}\n",
    "\n",
    "    for p_idx in range(points_idx.shape[1]):\n",
    "        point = np.array([points_idx[0][p_idx], points_idx[1][p_idx]])\n",
    "        side = classify_point(point, midpoint, vector)\n",
    "        classified_points[side].append(point)\n",
    "\n",
    "    # Convert classified points to numpy arrays for plotting\n",
    "    classified_points['left'] = np.array(classified_points['left'])\n",
    "    classified_points['right'] = np.array(classified_points['right'])\n",
    "    \n",
    "    separated_distance_map = np.zeros(distance_image.shape)\n",
    "    for l in classified_points['left']:\n",
    "        separated_distance_map[l[0], l[1]] = 1\n",
    "\n",
    "    for r in classified_points['right']:\n",
    "        separated_distance_map[r[0], r[1]] = 2\n",
    "        \n",
    "    return separated_distance_map"
   ]
  },
  {
   "cell_type": "code",
   "execution_count": 3,
   "metadata": {},
   "outputs": [],
   "source": [
    "viewer = napari.Viewer()"
   ]
  },
  {
   "cell_type": "code",
   "execution_count": 6,
   "metadata": {},
   "outputs": [],
   "source": [
    "dir = r\"C:\\rkka_Projects\\cell_death_v1\\Data\\pathway\\raw\\Apoptosis\"\n",
    "file = r\"/compressed_230512.160429.CD95_TNF_Ctr.003.CD95.A1.T001P12.TCF\"\n",
    "\n",
    "tcfile = TCFile(dir + file, '3D')"
   ]
  },
  {
   "cell_type": "code",
   "execution_count": 7,
   "metadata": {},
   "outputs": [
    {
     "name": "stderr",
     "output_type": "stream",
     "text": [
      "100%|██████████| 36/36 [00:35<00:00,  1.00it/s]\n"
     ]
    }
   ],
   "source": [
    "data = np.zeros((36, 1009, 1009))\n",
    "data_stack = np.zeros((36, 1009, 1009))\n",
    "\n",
    "for i in tqdm(range(36)):\n",
    "    # 1. 로딩\n",
    "    img = tcfile[i]\n",
    "    img_max = np.max(img, axis=0)\n",
    "    data[i] = img_max\n",
    "    \n",
    "    aa = get_mip_with_noise_reduction(img, first_thr_idx=0, second_thr_idx=1)\n",
    "    img_max[aa==0]=0\n",
    "    data_stack[i] = img_max"
   ]
  },
  {
   "cell_type": "code",
   "execution_count": 8,
   "metadata": {},
   "outputs": [
    {
     "data": {
      "text/plain": [
       "<Image layer 'data_stack' at 0x1fc89bcd010>"
      ]
     },
     "execution_count": 8,
     "metadata": {},
     "output_type": "execute_result"
    }
   ],
   "source": [
    "viewer.add_image(data)\n",
    "viewer.add_image(data_stack)"
   ]
  },
  {
   "cell_type": "code",
   "execution_count": 192,
   "metadata": {},
   "outputs": [],
   "source": [
    "temp = data_stack.copy()\n",
    "for i in range(36):\n",
    "    \n",
    "    temp[i] = ndimage.distance_transform_edt(temp[i])\n",
    "    thr = filters.threshold_multiotsu(temp[i], 4)\n",
    "    temp[i][temp[i]<thr[1]] = 0\n",
    "    "
   ]
  },
  {
   "cell_type": "code",
   "execution_count": 141,
   "metadata": {},
   "outputs": [
    {
     "data": {
      "text/plain": [
       "<Image layer 'temp' at 0x236640d5eb0>"
      ]
     },
     "execution_count": 141,
     "metadata": {},
     "output_type": "execute_result"
    }
   ],
   "source": [
    "viewer.add_image(temp)"
   ]
  },
  {
   "cell_type": "code",
   "execution_count": 193,
   "metadata": {},
   "outputs": [
    {
     "data": {
      "text/html": [
       "<div>\n",
       "<style scoped>\n",
       "    .dataframe tbody tr th:only-of-type {\n",
       "        vertical-align: middle;\n",
       "    }\n",
       "\n",
       "    .dataframe tbody tr th {\n",
       "        vertical-align: top;\n",
       "    }\n",
       "\n",
       "    .dataframe thead th {\n",
       "        text-align: right;\n",
       "    }\n",
       "</style>\n",
       "<table border=\"1\" class=\"dataframe\">\n",
       "  <thead>\n",
       "    <tr style=\"text-align: right;\">\n",
       "      <th></th>\n",
       "      <th>label</th>\n",
       "      <th>bbox-0</th>\n",
       "      <th>bbox-1</th>\n",
       "      <th>bbox-2</th>\n",
       "      <th>bbox-3</th>\n",
       "      <th>bbox-4</th>\n",
       "      <th>bbox-5</th>\n",
       "      <th>centroid-1</th>\n",
       "      <th>centroid-2</th>\n",
       "    </tr>\n",
       "  </thead>\n",
       "  <tbody>\n",
       "    <tr>\n",
       "      <th>0</th>\n",
       "      <td>1</td>\n",
       "      <td>0</td>\n",
       "      <td>0</td>\n",
       "      <td>522</td>\n",
       "      <td>36</td>\n",
       "      <td>133</td>\n",
       "      <td>696</td>\n",
       "      <td>34.983106</td>\n",
       "      <td>617.281638</td>\n",
       "    </tr>\n",
       "    <tr>\n",
       "      <th>1</th>\n",
       "      <td>2</td>\n",
       "      <td>0</td>\n",
       "      <td>56</td>\n",
       "      <td>59</td>\n",
       "      <td>36</td>\n",
       "      <td>218</td>\n",
       "      <td>351</td>\n",
       "      <td>129.011914</td>\n",
       "      <td>215.673233</td>\n",
       "    </tr>\n",
       "    <tr>\n",
       "      <th>2</th>\n",
       "      <td>3</td>\n",
       "      <td>0</td>\n",
       "      <td>149</td>\n",
       "      <td>452</td>\n",
       "      <td>36</td>\n",
       "      <td>430</td>\n",
       "      <td>625</td>\n",
       "      <td>264.786273</td>\n",
       "      <td>559.691364</td>\n",
       "    </tr>\n",
       "    <tr>\n",
       "      <th>3</th>\n",
       "      <td>4</td>\n",
       "      <td>0</td>\n",
       "      <td>157</td>\n",
       "      <td>722</td>\n",
       "      <td>36</td>\n",
       "      <td>335</td>\n",
       "      <td>866</td>\n",
       "      <td>244.509297</td>\n",
       "      <td>793.566544</td>\n",
       "    </tr>\n",
       "    <tr>\n",
       "      <th>4</th>\n",
       "      <td>5</td>\n",
       "      <td>0</td>\n",
       "      <td>148</td>\n",
       "      <td>0</td>\n",
       "      <td>36</td>\n",
       "      <td>281</td>\n",
       "      <td>197</td>\n",
       "      <td>215.082517</td>\n",
       "      <td>81.818904</td>\n",
       "    </tr>\n",
       "    <tr>\n",
       "      <th>6</th>\n",
       "      <td>7</td>\n",
       "      <td>0</td>\n",
       "      <td>407</td>\n",
       "      <td>741</td>\n",
       "      <td>36</td>\n",
       "      <td>549</td>\n",
       "      <td>977</td>\n",
       "      <td>482.499478</td>\n",
       "      <td>843.898815</td>\n",
       "    </tr>\n",
       "    <tr>\n",
       "      <th>7</th>\n",
       "      <td>8</td>\n",
       "      <td>0</td>\n",
       "      <td>422</td>\n",
       "      <td>368</td>\n",
       "      <td>36</td>\n",
       "      <td>780</td>\n",
       "      <td>591</td>\n",
       "      <td>609.527608</td>\n",
       "      <td>473.588143</td>\n",
       "    </tr>\n",
       "    <tr>\n",
       "      <th>8</th>\n",
       "      <td>9</td>\n",
       "      <td>0</td>\n",
       "      <td>565</td>\n",
       "      <td>164</td>\n",
       "      <td>36</td>\n",
       "      <td>911</td>\n",
       "      <td>405</td>\n",
       "      <td>764.189071</td>\n",
       "      <td>288.186827</td>\n",
       "    </tr>\n",
       "    <tr>\n",
       "      <th>9</th>\n",
       "      <td>10</td>\n",
       "      <td>0</td>\n",
       "      <td>564</td>\n",
       "      <td>16</td>\n",
       "      <td>36</td>\n",
       "      <td>787</td>\n",
       "      <td>169</td>\n",
       "      <td>689.382205</td>\n",
       "      <td>81.477456</td>\n",
       "    </tr>\n",
       "    <tr>\n",
       "      <th>10</th>\n",
       "      <td>11</td>\n",
       "      <td>0</td>\n",
       "      <td>630</td>\n",
       "      <td>705</td>\n",
       "      <td>36</td>\n",
       "      <td>865</td>\n",
       "      <td>868</td>\n",
       "      <td>758.161699</td>\n",
       "      <td>773.172198</td>\n",
       "    </tr>\n",
       "    <tr>\n",
       "      <th>11</th>\n",
       "      <td>12</td>\n",
       "      <td>0</td>\n",
       "      <td>819</td>\n",
       "      <td>179</td>\n",
       "      <td>36</td>\n",
       "      <td>983</td>\n",
       "      <td>521</td>\n",
       "      <td>901.582213</td>\n",
       "      <td>431.472934</td>\n",
       "    </tr>\n",
       "    <tr>\n",
       "      <th>12</th>\n",
       "      <td>13</td>\n",
       "      <td>0</td>\n",
       "      <td>830</td>\n",
       "      <td>604</td>\n",
       "      <td>36</td>\n",
       "      <td>997</td>\n",
       "      <td>739</td>\n",
       "      <td>920.435607</td>\n",
       "      <td>668.659850</td>\n",
       "    </tr>\n",
       "  </tbody>\n",
       "</table>\n",
       "</div>"
      ],
      "text/plain": [
       "    label  bbox-0  bbox-1  bbox-2  bbox-3  bbox-4  bbox-5  centroid-1  \\\n",
       "0       1       0       0     522      36     133     696   34.983106   \n",
       "1       2       0      56      59      36     218     351  129.011914   \n",
       "2       3       0     149     452      36     430     625  264.786273   \n",
       "3       4       0     157     722      36     335     866  244.509297   \n",
       "4       5       0     148       0      36     281     197  215.082517   \n",
       "6       7       0     407     741      36     549     977  482.499478   \n",
       "7       8       0     422     368      36     780     591  609.527608   \n",
       "8       9       0     565     164      36     911     405  764.189071   \n",
       "9      10       0     564      16      36     787     169  689.382205   \n",
       "10     11       0     630     705      36     865     868  758.161699   \n",
       "11     12       0     819     179      36     983     521  901.582213   \n",
       "12     13       0     830     604      36     997     739  920.435607   \n",
       "\n",
       "    centroid-2  \n",
       "0   617.281638  \n",
       "1   215.673233  \n",
       "2   559.691364  \n",
       "3   793.566544  \n",
       "4    81.818904  \n",
       "6   843.898815  \n",
       "7   473.588143  \n",
       "8   288.186827  \n",
       "9    81.477456  \n",
       "10  773.172198  \n",
       "11  431.472934  \n",
       "12  668.659850  "
      ]
     },
     "execution_count": 193,
     "metadata": {},
     "output_type": "execute_result"
    }
   ],
   "source": [
    "temp_labels = measure.label(temp.astype(bool))\n",
    "props = measure.regionprops_table(temp_labels, properties=['label', 'bbox', 'centroid'])\n",
    "props = pd.DataFrame(props)\n",
    "props = props.drop(index=props[props['bbox-0']!=0].index)\n",
    "props = props.drop(index=props[props['bbox-3']!=36].index)\n",
    "props = props.drop(columns=['centroid-0'])\n",
    "props"
   ]
  },
  {
   "cell_type": "code",
   "execution_count": 194,
   "metadata": {},
   "outputs": [],
   "source": [
    "z = np.zeros((36, 1009, 1009))\n",
    "for i in range(props.shape[0]):\n",
    "    z = z + (temp_labels==props.iloc[i]['label']).astype(int)\n",
    "    \n",
    "labels = measure.label(z)"
   ]
  },
  {
   "cell_type": "code",
   "execution_count": 195,
   "metadata": {},
   "outputs": [
    {
     "data": {
      "text/plain": [
       "<Labels layer 'labels' at 0x236646b8a90>"
      ]
     },
     "execution_count": 195,
     "metadata": {},
     "output_type": "execute_result"
    }
   ],
   "source": [
    "viewer.add_labels(labels)"
   ]
  },
  {
   "cell_type": "code",
   "execution_count": 200,
   "metadata": {},
   "outputs": [
    {
     "data": {
      "text/plain": [
       "1.3428000211715698"
      ]
     },
     "execution_count": 200,
     "metadata": {},
     "output_type": "execute_result"
    }
   ],
   "source": [
    "data[0, 750, 259]"
   ]
  },
  {
   "cell_type": "code",
   "execution_count": 196,
   "metadata": {},
   "outputs": [],
   "source": [
    "dtemp = data_stack.copy()\n",
    "for i in range(36):\n",
    "    for k in range(10):\n",
    "        dtemp[i] = morphology.erosion(dtemp[i])"
   ]
  },
  {
   "cell_type": "code",
   "execution_count": 197,
   "metadata": {},
   "outputs": [],
   "source": [
    "from skimage import segmentation\n",
    "la = np.zeros((36, 1009, 1009))\n",
    "for i in range(36):\n",
    "    la[i] = segmentation.watershed(data_stack[i], markers=labels[i], mask=dtemp.astype(bool)[i])"
   ]
  },
  {
   "cell_type": "code",
   "execution_count": 198,
   "metadata": {},
   "outputs": [
    {
     "data": {
      "text/plain": [
       "<Labels layer 'Labels' at 0x235a9a15d00>"
      ]
     },
     "execution_count": 198,
     "metadata": {},
     "output_type": "execute_result"
    }
   ],
   "source": [
    "viewer.add_labels(la.astype(int))"
   ]
  }
 ],
 "metadata": {
  "kernelspec": {
   "display_name": "cell",
   "language": "python",
   "name": "python3"
  },
  "language_info": {
   "codemirror_mode": {
    "name": "ipython",
    "version": 3
   },
   "file_extension": ".py",
   "mimetype": "text/x-python",
   "name": "python",
   "nbconvert_exporter": "python",
   "pygments_lexer": "ipython3",
   "version": "3.12.4"
  }
 },
 "nbformat": 4,
 "nbformat_minor": 2
}
