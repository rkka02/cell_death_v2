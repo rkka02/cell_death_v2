{
 "cells": [
  {
   "cell_type": "code",
   "execution_count": 1,
   "metadata": {},
   "outputs": [],
   "source": [
    "import numpy as np\n",
    "import napari\n",
    "from skimage import filters, measure\n",
    "from tqdm import tqdm\n",
    "import pandas as pd\n",
    "\n",
    "from sklearn import preprocessing\n",
    "import h5py\n",
    "import warnings\n",
    "import matplotlib.pyplot as plt\n",
    "\n",
    "\n",
    "# Suppress specific warnings\n",
    "warnings.filterwarnings(\"ignore\", category=UserWarning, module=\"skimage.measure._regionprops\")\n",
    "warnings.filterwarnings(\"ignore\", category=RuntimeWarning)\n",
    "\n",
    "def circular_filter(array_shape, pixel_radius):\n",
    "    filter = np.zeros(array_shape)\n",
    "    N = array_shape[0]\n",
    "    x, y = np.arange(N), np.arange(N)\n",
    "    X, Y = np.meshgrid(x, y)\n",
    "    filter[(X-N//2)**2 + (Y-N//2)**2 < pixel_radius**2] = 1\n",
    "    return filter\n",
    "\n",
    "def fourier_filter_with_thresholding(image, threshold, filter):\n",
    "\n",
    "    temp = np.zeros(image.shape)\n",
    "    temp = temp + image\n",
    "    temp[image<threshold] = 0\n",
    "    ###############################\n",
    "    temp = filters.gaussian(temp)\n",
    "\n",
    "    a_fourier = np.fft.fftshift(np.fft.fft2(temp))\n",
    "    H, W = a_fourier.shape\n",
    "    a_fourier[H//2:H//2 + 1, W//2:W//2 + 1]=0\n",
    "    a_fourier = a_fourier * filter\n",
    "    a_mod = np.fft.ifft2(a_fourier)\n",
    "    ################################\n",
    "    return np.abs(a_mod)"
   ]
  },
  {
   "cell_type": "code",
   "execution_count": 4,
   "metadata": {},
   "outputs": [],
   "source": [
    "apop_dir = \"C:/rkka_Projects/Cell/Data/Apoptosis/\"\n",
    "# necro_dir = \"C:/rkka_Projects/Cell/Data/Necrosis/\"\n",
    "necropto_dir = \"C:/rkka_Projects/Cell/Data/Necroptosis/\"\n",
    "\n",
    "apop_file_list = ['sam_manual_mlp_boxed_compressed_230512.160429.CD95_TNF_Ctr.003.CD95.A1.T001P12.TCF.h5',\n",
    "                'sam_manual_mlp_boxed_compressed_230512.160429.CD95_TNF_Ctr.003.CD95.A1.T001P15.TCF.h5',\n",
    "                'sam_manual_mlp_boxed_compressed_230512.160429.CD95_TNF_Ctr.003.CD95.A1.T001P19.TCF.h5',\n",
    "                'sam_manual_mlp_boxed_compressed_230512.160429.CD95_TNF_Ctr.003.CD95.A1.T001P20.TCF.h5',\n",
    "                'sam_manual_mlp_boxed_compressed_230512.160429.CD95_TNF_Ctr.003.CD95.A1.T001P26.TCF.h5',\n",
    "                'sam_manual_mlp_boxed_compressed_230512.160429.CD95_TNF_Ctr.003.CD95.A1.T001P28.TCF.h5',\n",
    "                'sam_manual_mlp_boxed_compressed_230512.160429.CD95_TNF_Ctr.003.CD95.A1.T001P29.TCF.h5',\n",
    "                'sam_manual_mlp_boxed_compressed_230512.160429.CD95_TNF_Ctr.003.CD95.A1.T001P34.TCF.h5',\n",
    "                'sam_manual_mlp_boxed_compressed_230512.160429.CD95_TNF_Ctr.003.CD95.A1.T001P35.TCF.h5'\n",
    "            ]\n",
    "\n",
    "\"\"\"\n",
    "necro_file_list = ['timelapsed_mlp_boxed_230721.132040.Necrosis_NaOH.001.Group1.A1.T001P01.TCF.h5',\n",
    "                'timelapsed_mlp_boxed_230725.092931.HeLa_NaOH.002.Group1.A1.T002P01.TCF.h5',\n",
    "                'timelapsed_mlp_boxed_230725.094439.HeLa_NaOH.002.Group1.A1.T002P01.TCF.h5',\n",
    "                'timelapsed_mlp_boxed_230725.095615.HeLa_NaOH.003.Group1.A1.T003P01.TCF.h5',\n",
    "                'timelapsed_mlp_boxed_230725.100700.HeLa_NaOH.004.Group1.A1.T004P01.TCF.h5',\n",
    "                'timelapsed_mlp_boxed_230725.102033.HeLa_NaOH.005.Group1.A1.T005P01.TCF.h5',\n",
    "            ]\n",
    "\"\"\"\n",
    "\n",
    "necropto_file_list = ['sam_manual_mlp_boxed_compressed_230510.174730.HeLa_Hoechst.001.Group1.A2.T001P02.TCF.h5',\n",
    "             'sam_manual_mlp_boxed_compressed_230510.174730.HeLa_Hoechst.001.Group1.A2.T001P03.TCF.h5',\n",
    "             'sam_manual_mlp_boxed_compressed_230510.174730.HeLa_Hoechst.001.Group1.A2.T001P17.TCF.h5',\n",
    "             'sam_manual_mlp_boxed_compressed_230510.174730.HeLa_Hoechst.001.Group2.A1.T001P02.TCF.h5',\n",
    "             'sam_manual_mlp_boxed_compressed_230510.174730.HeLa_Hoechst.001.Group2.A1.T001P10.TCF.h5',\n",
    "             'sam_manual_mlp_boxed_compressed_230510.174730.HeLa_Hoechst.001.Group2.A1.T001P19.TCF.h5',\n",
    "             'sam_manual_mlp_boxed_compressed_230510.174730.HeLa_Hoechst.001.Group2.A1.T001P20.TCF.h5'\n",
    "            ]\n",
    "\n",
    "mode_list = ['manual_sam_not_rescaled_Apoptosis_with_bshape', 'manual_sam_not_rescaled_Necroptosis_with_bshape']\n",
    "dir_list = [apop_dir, necropto_dir]\n",
    "file_list_list = [apop_file_list, necropto_file_list]\n",
    "\n",
    "time_list = [str(i*0.5).zfill(4) for i in range(36)]"
   ]
  },
  {
   "cell_type": "code",
   "execution_count": 2,
   "metadata": {},
   "outputs": [],
   "source": [
    "necropto_dir = \"C:/rkka_Projects/Cell/Data/Necroptosis/\"\n",
    "\n",
    "necropto_file_list = ['sam_manual_mlp_boxed_compressed_230510.174730.HeLa_Hoechst.001.Group1.A2.T001P03.TCF.h5'\n",
    "            ]\n",
    "\n",
    "mode_list = ['manual_sam_not_rescaled_Necroptosis_with_bshape']\n",
    "dir_list = [necropto_dir]\n",
    "file_list_list = [necropto_file_list]\n",
    "\n",
    "time_list = [str(i*0.5).zfill(4) for i in range(36)]"
   ]
  },
  {
   "cell_type": "markdown",
   "metadata": {},
   "source": [
    "<h1> 병렬처리 코드 </h1>"
   ]
  },
  {
   "cell_type": "markdown",
   "metadata": {},
   "source": [
    "<h3> (1) box가 애초에 크기 리스케일링 안하고 된거라서, 그 volume 자체가 물리적으로 유의미한 값이기는 함. </h3>\n",
    "<h3> 다만 문제는 box간에 크기를 맞춰주지 않은것인데, 이부분은 으음.. 실험마다 세포크기가 다르다는게 문제임 </h3>"
   ]
  },
  {
   "cell_type": "code",
   "execution_count": 5,
   "metadata": {},
   "outputs": [
    {
     "name": "stderr",
     "output_type": "stream",
     "text": [
      "Cell Death Iters: 0it [00:00, ?it/s]"
     ]
    },
    {
     "name": "stdout",
     "output_type": "stream",
     "text": [
      "a box processed\n",
      "a box processed\n",
      "a box processed\n",
      "a box processed\n",
      "a box processed\n",
      "a box processed\n",
      "a box processed\n",
      "a box processed\n",
      "a box processed\n",
      "a box processed\n",
      "a box processed\n",
      "a box processed\n",
      "a box processed\n",
      "a box processed\n",
      "a box processed\n",
      "a box processed\n",
      "a box processed\n",
      "a box processed\n",
      "a box processed\n",
      "a box processed\n",
      "a box processed\n",
      "a box processed\n",
      "a box processed\n",
      "a box processed\n",
      "a box processed\n",
      "a box processed\n",
      "a box processed\n",
      "a box processed\n",
      "a box processed\n",
      "a box processed\n",
      "a box processed\n",
      "a box processed\n",
      "a box processed\n",
      "a box processed\n",
      "a box processed\n",
      "################\n",
      "a file processed\n",
      "################\n",
      "a box processed\n",
      "a box processed\n",
      "a box processed\n",
      "a box processed\n",
      "a box processeda box processed\n",
      "\n",
      "################\n",
      "a file processed\n",
      "################\n",
      "a box processed\n",
      "a box processed\n",
      "a box processed\n",
      "a box processed\n",
      "a box processed\n",
      "a box processed\n",
      "################\n",
      "a file processed\n",
      "################\n",
      "a box processed\n",
      "a box processed\n",
      "a box processed\n",
      "a box processed\n",
      "a box processed\n",
      "a box processed\n",
      "a box processed\n",
      "################\n",
      "a file processed\n",
      "################\n",
      "a box processed\n",
      "################\n",
      "a file processed\n",
      "################\n",
      "a box processed\n",
      "################\n",
      "a file processed\n",
      "################\n",
      "a box processed\n",
      "################\n",
      "a file processed\n",
      "################\n",
      "a box processed\n",
      "################\n",
      "a file processed\n",
      "################\n"
     ]
    },
    {
     "name": "stderr",
     "output_type": "stream",
     "text": [
      "Cell Death Iters: 1it [21:44, 1304.09s/it]"
     ]
    },
    {
     "name": "stdout",
     "output_type": "stream",
     "text": [
      "a box processed\n",
      "################\n",
      "a file processed\n",
      "################\n",
      "a box processed\n",
      "a box processed\n",
      "a box processed\n",
      "a box processed\n",
      "a box processed\n",
      "a box processed\n",
      "a box processed\n",
      "a box processed\n",
      "a box processed\n",
      "a box processed\n",
      "a box processed\n",
      "a box processed\n",
      "a box processed\n",
      "a box processed\n",
      "a box processed\n",
      "a box processed\n",
      "a box processed\n",
      "a box processed\n",
      "a box processed\n",
      "a box processed\n",
      "a box processed\n",
      "a box processed\n",
      "a box processed\n",
      "a box processed\n",
      "a box processed\n",
      "a box processed\n",
      "a box processed\n",
      "a box processed\n",
      "a box processed\n",
      "a box processed\n",
      "a box processed\n",
      "a box processed\n",
      "a box processed\n",
      "a box processed\n",
      "a box processed\n",
      "a box processed\n",
      "a box processed\n",
      "a box processed\n",
      "a box processed\n",
      "a box processed\n",
      "a box processed\n",
      "a box processed\n",
      "################\n",
      "a file processed\n",
      "################\n",
      "a box processed\n",
      "a box processed\n",
      "################\n",
      "a file processed\n",
      "################\n",
      "a box processed\n",
      "a box processed\n",
      "a box processed\n",
      "a box processed\n",
      "a box processed\n",
      "a box processed\n",
      "################\n",
      "a file processed\n",
      "################\n",
      "a box processed\n",
      "a box processed\n",
      "################\n",
      "a file processed\n",
      "################\n",
      "a box processed\n",
      "################\n",
      "a file processed\n",
      "################\n",
      "a box processed\n",
      "a box processed\n",
      "a box processed\n",
      "################\n",
      "a file processed\n",
      "################\n",
      "a box processed\n"
     ]
    },
    {
     "name": "stderr",
     "output_type": "stream",
     "text": [
      "Cell Death Iters: 2it [52:30, 1575.12s/it]"
     ]
    },
    {
     "name": "stdout",
     "output_type": "stream",
     "text": [
      "a box processed\n",
      "################\n",
      "a file processed\n",
      "################\n"
     ]
    },
    {
     "name": "stderr",
     "output_type": "stream",
     "text": [
      "\n"
     ]
    }
   ],
   "source": [
    "import h5py\n",
    "import numpy as np\n",
    "import pandas as pd\n",
    "from skimage import filters, measure, morphology\n",
    "from tqdm import tqdm\n",
    "from concurrent.futures import ThreadPoolExecutor\n",
    "import logging\n",
    "\n",
    "logging.basicConfig(level=logging.INFO)  # Configure logging level as needed\n",
    "\n",
    "def process_time(box, time, file, box_idx):\n",
    "\n",
    "    # Above 1.327에 대해서만 분석\n",
    "    \n",
    "    box_for_labeling = box.copy()\n",
    "    try:\n",
    "        thr = filters.threshold_multiotsu(box_for_labeling, 4)\n",
    "\n",
    "        box_for_labeling[box_for_labeling<1.327] = 0\n",
    "        temp_bin = box_for_labeling.copy().astype(bool)\n",
    "        temp_bin = morphology.remove_small_objects(temp_bin, 500)\n",
    "        temp_bin = morphology.remove_small_holes(temp_bin, 500)\n",
    "        temp_int = temp_bin.astype(int)\n",
    "        \n",
    "    except Exception as e:\n",
    "        # when otsu fails:\n",
    "        logging.error(f\"Otsu fail for box : {box_idx}, time : {time} -- file : {file}: {e}. Applied RI threshold 1.31\")\n",
    "        box_for_labeling[box_for_labeling<1.31] = 0\n",
    "        temp_bin = box_for_labeling.copy().astype(bool)\n",
    "        temp_bin = morphology.remove_small_objects(temp_bin, 500)\n",
    "        temp_bin = morphology.remove_small_holes(temp_bin, 500)\n",
    "        temp_int = temp_bin.astype(int)\n",
    "        \n",
    "    properties = ['area', 'area_convex','axis_major_length', 'euler_number', 'extent',\n",
    "                            'solidity', 'inertia_tensor_eigvals'] \n",
    "    cell_props = measure.regionprops_table(temp_int, properties=properties)\n",
    "    cell_props = pd.DataFrame(cell_props)\n",
    "    cell_props = cell_props[cell_props['area'] >= 100]\n",
    "    cell_props = cell_props.replace([-np.inf, np.inf], 0)\n",
    "        \n",
    "    box_props = pd.DataFrame()\n",
    "\n",
    "    # box shape\n",
    "    box_props['box_shape'] = [box.shape]\n",
    "    # find mean_RI\n",
    "    box_props['mean_RI'] = np.mean(box[temp_bin!=0])\n",
    "    # high RI : over 1.35\n",
    "    temp = box.copy()\n",
    "    temp[temp<1.35]=0\n",
    "    box_props['ri_above_1.35_volume'] = len(temp[temp!=0])\n",
    "    \n",
    "    for cell_prop in list(cell_props.columns):\n",
    "        if cell_prop=='area':\n",
    "            box_props['volume'] = cell_props[cell_prop]\n",
    "        elif cell_prop=='area_convex':\n",
    "            box_props['volume_convex'] = cell_props[cell_prop]\n",
    "        else:\n",
    "            box_props[cell_prop] = cell_props[cell_prop]\n",
    "    \n",
    "\n",
    "    for prop in list(box_props.columns):\n",
    "        box_props = box_props.rename(columns={prop: time + 'h_' + prop})\n",
    "            \n",
    "    box_props = box_props.reset_index(drop=True)\n",
    "            \n",
    "    return box_props\n",
    "\n",
    "\n",
    "def process_box(a, box_idx, time_list, file):\n",
    "    \n",
    "    box_df = pd.DataFrame()\n",
    "    cell_props_list = []\n",
    "    \n",
    "    for time in time_list:\n",
    "        box = np.array(a['box/' + str(box_idx).zfill(3) + '/time/' + str(time)])\n",
    "        # RI : 1.3~1.4 rescaling\n",
    "        # box = 1.3 + 0.1*(box-box.min())/(box.max()-box.min())\n",
    "        \n",
    "        cell_props = process_time(box, time, file, box_idx)\n",
    "        cell_props_list.append(cell_props)\n",
    "    \n",
    "    box_df = pd.concat(cell_props_list, axis=1)\n",
    "    \n",
    "    print('a box processed')\n",
    "    \n",
    "    return box_df\n",
    "\n",
    "def process_file(file, dir, time_list):\n",
    "    try:\n",
    "        a = h5py.File(dir + file)\n",
    "        file_df = pd.DataFrame()\n",
    "        futures = []\n",
    "        \n",
    "        with ThreadPoolExecutor() as executor:\n",
    "            for box_idx in range(len(a['box'])):\n",
    "                futures.append(executor.submit(process_box, a, box_idx, time_list, file))\n",
    "            \n",
    "            for future in futures:\n",
    "                box_df = future.result()\n",
    "                if not box_df.empty:\n",
    "                    file_df = pd.concat([file_df, box_df], axis=0)\n",
    "                    \n",
    "        print('################')\n",
    "        print('a file processed')\n",
    "        print('################')\n",
    "        return file_df\n",
    "    \n",
    "    except Exception as e:\n",
    "        logging.error(f\"Error processing file {file}: {e}\")\n",
    "        return pd.DataFrame()\n",
    "\n",
    "for dir_idx, dir in tqdm(enumerate(dir_list), desc='Cell Death Iters'):\n",
    "    mode = mode_list[dir_idx]\n",
    "    file_list = file_list_list[dir_idx]\n",
    "    cell_death_df = pd.DataFrame()\n",
    "    futures = []\n",
    "    \n",
    "    with ThreadPoolExecutor() as executor:\n",
    "        for file in file_list:\n",
    "            futures.append(executor.submit(process_file, file, dir, time_list))\n",
    "        \n",
    "        for future in futures:\n",
    "            try:\n",
    "                file_df = future.result()\n",
    "                if not file_df.empty:\n",
    "                    cell_death_df = pd.concat([cell_death_df, file_df], axis=0)\n",
    "            except Exception as e:\n",
    "                logging.error(f\"Error processing file: {e}\")\n",
    "    \n",
    "    cell_death_df.to_csv(mode + '.csv', index=False)\n"
   ]
  },
  {
   "cell_type": "markdown",
   "metadata": {},
   "source": [
    "<h1> 원래 코드 </h1>"
   ]
  },
  {
   "cell_type": "code",
   "execution_count": 4,
   "metadata": {},
   "outputs": [],
   "source": [
    "import napari\n",
    "viewer = napari.Viewer()"
   ]
  },
  {
   "cell_type": "code",
   "execution_count": 5,
   "metadata": {},
   "outputs": [],
   "source": [
    "import h5py\n",
    "import numpy as np\n",
    "a = h5py.File(r\"C:\\rkka_Projects\\Cell\\Data\\Necroptosis\\sam_manual_mlp_boxed_compressed_230510.174730.HeLa_Hoechst.001.Group1.A2.T001P03.TCF.h5\")\n",
    "box = np.array(a['box/003/time/10.0'])"
   ]
  },
  {
   "cell_type": "code",
   "execution_count": 6,
   "metadata": {},
   "outputs": [
    {
     "data": {
      "text/plain": [
       "<Image layer 'box' at 0x1cfbb85ef40>"
      ]
     },
     "execution_count": 6,
     "metadata": {},
     "output_type": "execute_result"
    }
   ],
   "source": [
    "viewer.add_image(box)"
   ]
  },
  {
   "cell_type": "code",
   "execution_count": 7,
   "metadata": {},
   "outputs": [],
   "source": [
    "import pandas as pd\n",
    "from skimage import morphology, filters, measure"
   ]
  },
  {
   "cell_type": "code",
   "execution_count": 8,
   "metadata": {},
   "outputs": [
    {
     "data": {
      "text/plain": [
       "<Image layer 'temp_bin' at 0x1cff7cf0910>"
      ]
     },
     "execution_count": 8,
     "metadata": {},
     "output_type": "execute_result"
    }
   ],
   "source": [
    "temp = box.copy()\n",
    "thr = filters.threshold_multiotsu(temp, 4)\n",
    "\n",
    "temp[temp<1.33] = 0\n",
    "temp_bin = temp.copy().astype(bool)\n",
    "temp_bin = morphology.remove_small_objects(temp_bin, 500)\n",
    "temp_bin = morphology.remove_small_holes(temp_bin, 500)\n",
    "viewer.add_image(temp_bin)"
   ]
  },
  {
   "cell_type": "code",
   "execution_count": 10,
   "metadata": {},
   "outputs": [
    {
     "data": {
      "text/html": [
       "<div>\n",
       "<style scoped>\n",
       "    .dataframe tbody tr th:only-of-type {\n",
       "        vertical-align: middle;\n",
       "    }\n",
       "\n",
       "    .dataframe tbody tr th {\n",
       "        vertical-align: top;\n",
       "    }\n",
       "\n",
       "    .dataframe thead th {\n",
       "        text-align: right;\n",
       "    }\n",
       "</style>\n",
       "<table border=\"1\" class=\"dataframe\">\n",
       "  <thead>\n",
       "    <tr style=\"text-align: right;\">\n",
       "      <th></th>\n",
       "      <th>area</th>\n",
       "      <th>area_convex</th>\n",
       "      <th>axis_major_length</th>\n",
       "      <th>euler_number</th>\n",
       "      <th>extent</th>\n",
       "      <th>solidity</th>\n",
       "      <th>inertia_tensor_eigvals-0</th>\n",
       "      <th>inertia_tensor_eigvals-1</th>\n",
       "      <th>inertia_tensor_eigvals-2</th>\n",
       "      <th>ri_above_1.35_volume</th>\n",
       "      <th>mean_ri</th>\n",
       "    </tr>\n",
       "  </thead>\n",
       "  <tbody>\n",
       "    <tr>\n",
       "      <th>0</th>\n",
       "      <td>15769.0</td>\n",
       "      <td>87112.0</td>\n",
       "      <td>129.928106</td>\n",
       "      <td>-159</td>\n",
       "      <td>0.091414</td>\n",
       "      <td>0.18102</td>\n",
       "      <td>1536.543463</td>\n",
       "      <td>847.311302</td>\n",
       "      <td>695.723501</td>\n",
       "      <td>845</td>\n",
       "      <td>1.336069</td>\n",
       "    </tr>\n",
       "  </tbody>\n",
       "</table>\n",
       "</div>"
      ],
      "text/plain": [
       "      area  area_convex  axis_major_length  euler_number    extent  solidity  \\\n",
       "0  15769.0      87112.0         129.928106          -159  0.091414   0.18102   \n",
       "\n",
       "   inertia_tensor_eigvals-0  inertia_tensor_eigvals-1  \\\n",
       "0               1536.543463                847.311302   \n",
       "\n",
       "   inertia_tensor_eigvals-2  ri_above_1.35_volume   mean_ri  \n",
       "0                695.723501                   845  1.336069  "
      ]
     },
     "execution_count": 10,
     "metadata": {},
     "output_type": "execute_result"
    }
   ],
   "source": [
    "properties = ['area', 'area_convex','axis_major_length', 'euler_number', 'extent',\n",
    "                        'solidity', 'inertia_tensor_eigvals'] \n",
    "\n",
    "props = measure.regionprops_table(temp_bin.astype(int), properties=properties)\n",
    "props = pd.DataFrame(props)\n",
    "\n",
    "temp = box.copy()\n",
    "temp[temp<1.35]=0\n",
    "props['ri_above_1.35_volume'] = len(temp[temp!=0])\n",
    "props['mean_ri'] = np.mean(box[temp_bin!=0])\n",
    "\n",
    "props"
   ]
  },
  {
   "cell_type": "code",
   "execution_count": 76,
   "metadata": {},
   "outputs": [
    {
     "data": {
      "text/html": [
       "<div>\n",
       "<style scoped>\n",
       "    .dataframe tbody tr th:only-of-type {\n",
       "        vertical-align: middle;\n",
       "    }\n",
       "\n",
       "    .dataframe tbody tr th {\n",
       "        vertical-align: top;\n",
       "    }\n",
       "\n",
       "    .dataframe thead th {\n",
       "        text-align: right;\n",
       "    }\n",
       "</style>\n",
       "<table border=\"1\" class=\"dataframe\">\n",
       "  <thead>\n",
       "    <tr style=\"text-align: right;\">\n",
       "      <th></th>\n",
       "      <th>area</th>\n",
       "      <th>area_convex</th>\n",
       "      <th>axis_major_length</th>\n",
       "      <th>euler_number</th>\n",
       "      <th>extent</th>\n",
       "      <th>solidity</th>\n",
       "      <th>inertia_tensor_eigvals-0</th>\n",
       "      <th>inertia_tensor_eigvals-1</th>\n",
       "      <th>inertia_tensor_eigvals-2</th>\n",
       "      <th>ri_above_1.35_volume</th>\n",
       "    </tr>\n",
       "  </thead>\n",
       "  <tbody>\n",
       "    <tr>\n",
       "      <th>0</th>\n",
       "      <td>33593.0</td>\n",
       "      <td>121635.0</td>\n",
       "      <td>148.622875</td>\n",
       "      <td>-452</td>\n",
       "      <td>0.127851</td>\n",
       "      <td>0.276179</td>\n",
       "      <td>1600.718597</td>\n",
       "      <td>1107.928814</td>\n",
       "      <td>499.771522</td>\n",
       "      <td>244</td>\n",
       "    </tr>\n",
       "  </tbody>\n",
       "</table>\n",
       "</div>"
      ],
      "text/plain": [
       "      area  area_convex  axis_major_length  euler_number    extent  solidity  \\\n",
       "0  33593.0     121635.0         148.622875          -452  0.127851  0.276179   \n",
       "\n",
       "   inertia_tensor_eigvals-0  inertia_tensor_eigvals-1  \\\n",
       "0               1600.718597               1107.928814   \n",
       "\n",
       "   inertia_tensor_eigvals-2  ri_above_1.35_volume  \n",
       "0                499.771522                   244  "
      ]
     },
     "execution_count": 76,
     "metadata": {},
     "output_type": "execute_result"
    }
   ],
   "source": [
    "properties = ['area', 'area_convex','axis_major_length', 'euler_number', 'extent',\n",
    "                        'solidity', 'inertia_tensor_eigvals'] \n",
    "\n",
    "props = measure.regionprops_table(temp_bin.astype(int), properties=properties)\n",
    "props = pd.DataFrame(props)\n",
    "\n",
    "temp = box.copy()\n",
    "temp[temp<1.35]=0\n",
    "props['ri_above_1.35_volume'] = len(temp[temp!=0])\n",
    "\n",
    "props"
   ]
  },
  {
   "cell_type": "code",
   "execution_count": 51,
   "metadata": {},
   "outputs": [
    {
     "data": {
      "text/plain": [
       "7020528"
      ]
     },
     "execution_count": 51,
     "metadata": {},
     "output_type": "execute_result"
    }
   ],
   "source": [
    "box.shape[0]*box.shape[1]*box.shape[2]"
   ]
  },
  {
   "cell_type": "code",
   "execution_count": 49,
   "metadata": {},
   "outputs": [
    {
     "data": {
      "text/plain": [
       "845"
      ]
     },
     "execution_count": 49,
     "metadata": {},
     "output_type": "execute_result"
    }
   ],
   "source": [
    "len(temp[temp!=0])"
   ]
  },
  {
   "cell_type": "code",
   "execution_count": 32,
   "metadata": {},
   "outputs": [
    {
     "data": {
      "text/plain": [
       "<Image layer 'temp [1]' at 0x29b1e2628b0>"
      ]
     },
     "execution_count": 32,
     "metadata": {},
     "output_type": "execute_result"
    }
   ],
   "source": [
    "temp = box.copy()\n",
    "temp[temp<1.35]=0\n",
    "viewer.add_image(temp)"
   ]
  },
  {
   "cell_type": "code",
   "execution_count": 7,
   "metadata": {},
   "outputs": [
    {
     "data": {
      "text/plain": [
       "<Image layer 'box' at 0x18cd76e70a0>"
      ]
     },
     "execution_count": 7,
     "metadata": {},
     "output_type": "execute_result"
    }
   ],
   "source": [
    "viewer.add_image(box)"
   ]
  },
  {
   "cell_type": "code",
   "execution_count": 113,
   "metadata": {},
   "outputs": [
    {
     "data": {
      "text/plain": [
       "<Image layer 'Image' at 0x2463b28dd60>"
      ]
     },
     "execution_count": 113,
     "metadata": {},
     "output_type": "execute_result"
    }
   ],
   "source": [
    "viewer.add_image(measure.label(temp_bin))"
   ]
  },
  {
   "cell_type": "code",
   "execution_count": 55,
   "metadata": {},
   "outputs": [
    {
     "data": {
      "text/plain": [
       "Text(0.5, 1.0, 'filter applied')"
      ]
     },
     "execution_count": 55,
     "metadata": {},
     "output_type": "execute_result"
    },
    {
     "data": {
      "image/png": "[encoded data removed]",
      "text/plain": [
       "<Figure size 640x480 with 2 Axes>"
      ]
     },
     "metadata": {},
     "output_type": "display_data"
    }
   ],
   "source": [
    "fig, axes = plt.subplots(1,2)\n",
    "axes[0].imshow(box[30])\n",
    "axes[0].set_title('z-slice')\n",
    "axes[1].imshow(filters.gaussian(box[30]))\n",
    "axes[1].set_title('filter applied')"
   ]
  },
  {
   "cell_type": "code",
   "execution_count": 76,
   "metadata": {},
   "outputs": [
    {
     "data": {
      "text/plain": [
       "<matplotlib.image.AxesImage at 0x24641535af0>"
      ]
     },
     "execution_count": 76,
     "metadata": {},
     "output_type": "execute_result"
    },
    {
     "data": {
      "image/png": "[encoded data removed]",
      "text/plain": [
       "<Figure size 640x480 with 1 Axes>"
      ]
     },
     "metadata": {},
     "output_type": "display_data"
    }
   ],
   "source": [
    "v1 = np.max(box, axis=1)\n",
    "thr = filters.threshold_multiotsu(v1, 4)\n",
    "v1[v1<thr[1]]=0\n",
    "v2 = np.max(v1, axis=1)\n",
    "height = len(np.where(v2!=0)[0])\n",
    "plt.imshow(v1)"
   ]
  },
  {
   "cell_type": "code",
   "execution_count": 72,
   "metadata": {},
   "outputs": [
    {
     "data": {
      "text/plain": [
       "(array([ 0,  1,  2,  3,  4,  5,  6,  7,  8,  9, 10, 11, 12, 13, 14, 15, 16,\n",
       "        17, 18, 19, 20, 21, 22, 23, 24, 25, 26, 27, 28, 44, 45, 46, 47, 48,\n",
       "        49, 50, 51, 52, 53, 54, 55, 56, 57, 58], dtype=int64),)"
      ]
     },
     "execution_count": 72,
     "metadata": {},
     "output_type": "execute_result"
    }
   ],
   "source": [
    "np.where(v2==0)"
   ]
  },
  {
   "cell_type": "code",
   "execution_count": 46,
   "metadata": {},
   "outputs": [],
   "source": [
    "from skimage import morphology"
   ]
  },
  {
   "cell_type": "code",
   "execution_count": 51,
   "metadata": {},
   "outputs": [
    {
     "data": {
      "text/plain": [
       "<Image layer 'box_mask' at 0x2de868c1f10>"
      ]
     },
     "execution_count": 51,
     "metadata": {},
     "output_type": "execute_result"
    }
   ],
   "source": [
    "thr = filters.threshold_multiotsu(box, 4)\n",
    "box[box<thr[1]] = 0\n",
    "box_mask = morphology.remove_small_objects(box.astype(bool), min_size=300)\n",
    "viewer.add_image(box_mask)"
   ]
  },
  {
   "cell_type": "code",
   "execution_count": 52,
   "metadata": {},
   "outputs": [],
   "source": [
    "box[box_mask==0] = 1.3"
   ]
  },
  {
   "cell_type": "code",
   "execution_count": 53,
   "metadata": {},
   "outputs": [],
   "source": [
    "time = '01.0'\n",
    "box_for_labeling = box.copy()\n",
    "box_for_labeling[box < 1.327] = 0\n",
    "        \n",
    "labels = measure.label(box_for_labeling)\n",
    "properties = ['area', 'area_convex','axis_major_length', 'euler_number', 'extent',\n",
    "                            'solidity', 'inertia_tensor_eigvals', 'centroid'] \n",
    "cell_props = measure.regionprops_table(labels, properties=properties)\n",
    "cell_props = pd.DataFrame(cell_props)\n",
    "cell_props = cell_props[cell_props['area'] >= 100]\n",
    "cell_props = cell_props.replace([-np.inf, np.inf], 0)\n",
    "        \n",
    "box_props = pd.DataFrame()\n",
    "    \n",
    "# find mean_RI\n",
    "box_props['mean_RI_above_1.327'] = [np.mean(box_for_labeling[labels!=0])]\n",
    "    \n",
    "# find height \n",
    "v1 = np.max(box, axis=1)\n",
    "thr = filters.threshold_multiotsu(v1, 4)\n",
    "v1[v1<thr[0]] = 0\n",
    "v2 = np.max(v1, axis=1)\n",
    "height = len(np.where(v2!=0)[0])\n",
    "box_props['maximum_height'] = [height]\n",
    "    \n",
    "    \n",
    "    \n",
    "for cell_prop in list(cell_props.columns):\n",
    "    if cell_prop=='area':\n",
    "        box_props['volume_sum'] = [np.sum(cell_props[cell_prop])]\n",
    "        box_props['volume_mean'] = [np.mean(cell_props[cell_prop])]\n",
    "        box_props['volume_std'] = [np.std(cell_props[cell_prop])]\n",
    "    elif cell_prop=='area_convex':\n",
    "        box_props['volume_convex_sum'] = [np.sum(cell_props[cell_prop])]\n",
    "        box_props['volume_convex_mean'] = [np.mean(cell_props[cell_prop])]\n",
    "        box_props['volume_convex_std'] = [np.std(cell_props[cell_prop])]\n",
    "    else:\n",
    "        box_props[cell_prop+'_sum'] = [np.sum(cell_props[cell_prop])]\n",
    "        box_props[cell_prop+'_mean'] = [np.mean(cell_props[cell_prop])]\n",
    "        box_props[cell_prop+'_std'] = [np.std(cell_props[cell_prop])]\n",
    "\n",
    "for prop in list(box_props.columns):\n",
    "    box_props = box_props.rename(columns={prop: time + 'h_' + prop})\n",
    "            \n",
    "box_props = box_props.reset_index(drop=True)"
   ]
  },
  {
   "cell_type": "code",
   "execution_count": 14,
   "metadata": {},
   "outputs": [
    {
     "data": {
      "text/plain": [
       "<Image layer 'labels [1]' at 0x2ded8237bb0>"
      ]
     },
     "execution_count": 14,
     "metadata": {},
     "output_type": "execute_result"
    }
   ],
   "source": [
    "viewer.add_image(labels)"
   ]
  },
  {
   "cell_type": "code",
   "execution_count": 54,
   "metadata": {},
   "outputs": [
    {
     "data": {
      "text/html": [
       "<div>\n",
       "<style scoped>\n",
       "    .dataframe tbody tr th:only-of-type {\n",
       "        vertical-align: middle;\n",
       "    }\n",
       "\n",
       "    .dataframe tbody tr th {\n",
       "        vertical-align: top;\n",
       "    }\n",
       "\n",
       "    .dataframe thead th {\n",
       "        text-align: right;\n",
       "    }\n",
       "</style>\n",
       "<table border=\"1\" class=\"dataframe\">\n",
       "  <thead>\n",
       "    <tr style=\"text-align: right;\">\n",
       "      <th></th>\n",
       "      <th>01.0h_mean_RI_above_1.327</th>\n",
       "      <th>01.0h_maximum_height</th>\n",
       "      <th>01.0h_volume_sum</th>\n",
       "      <th>01.0h_volume_mean</th>\n",
       "      <th>01.0h_volume_std</th>\n",
       "      <th>01.0h_volume_convex_sum</th>\n",
       "      <th>01.0h_volume_convex_mean</th>\n",
       "      <th>01.0h_volume_convex_std</th>\n",
       "      <th>01.0h_axis_major_length_sum</th>\n",
       "      <th>01.0h_axis_major_length_mean</th>\n",
       "      <th>...</th>\n",
       "      <th>01.0h_inertia_tensor_eigvals-2_std</th>\n",
       "      <th>01.0h_centroid-0_sum</th>\n",
       "      <th>01.0h_centroid-0_mean</th>\n",
       "      <th>01.0h_centroid-0_std</th>\n",
       "      <th>01.0h_centroid-1_sum</th>\n",
       "      <th>01.0h_centroid-1_mean</th>\n",
       "      <th>01.0h_centroid-1_std</th>\n",
       "      <th>01.0h_centroid-2_sum</th>\n",
       "      <th>01.0h_centroid-2_mean</th>\n",
       "      <th>01.0h_centroid-2_std</th>\n",
       "    </tr>\n",
       "  </thead>\n",
       "  <tbody>\n",
       "    <tr>\n",
       "      <th>0</th>\n",
       "      <td>1.333528</td>\n",
       "      <td>40</td>\n",
       "      <td>892696.0</td>\n",
       "      <td>446348.0</td>\n",
       "      <td>445601.0</td>\n",
       "      <td>1796532.0</td>\n",
       "      <td>898266.0</td>\n",
       "      <td>894017.0</td>\n",
       "      <td>368.064153</td>\n",
       "      <td>184.032077</td>\n",
       "      <td>...</td>\n",
       "      <td>1075.253572</td>\n",
       "      <td>60.729203</td>\n",
       "      <td>30.364601</td>\n",
       "      <td>0.619334</td>\n",
       "      <td>590.014937</td>\n",
       "      <td>295.007468</td>\n",
       "      <td>76.860001</td>\n",
       "      <td>196.431796</td>\n",
       "      <td>98.215898</td>\n",
       "      <td>37.320316</td>\n",
       "    </tr>\n",
       "  </tbody>\n",
       "</table>\n",
       "<p>1 rows × 38 columns</p>\n",
       "</div>"
      ],
      "text/plain": [
       "   01.0h_mean_RI_above_1.327  01.0h_maximum_height  01.0h_volume_sum  \\\n",
       "0                   1.333528                    40          892696.0   \n",
       "\n",
       "   01.0h_volume_mean  01.0h_volume_std  01.0h_volume_convex_sum  \\\n",
       "0           446348.0          445601.0                1796532.0   \n",
       "\n",
       "   01.0h_volume_convex_mean  01.0h_volume_convex_std  \\\n",
       "0                  898266.0                 894017.0   \n",
       "\n",
       "   01.0h_axis_major_length_sum  01.0h_axis_major_length_mean  ...  \\\n",
       "0                   368.064153                    184.032077  ...   \n",
       "\n",
       "   01.0h_inertia_tensor_eigvals-2_std  01.0h_centroid-0_sum  \\\n",
       "0                         1075.253572             60.729203   \n",
       "\n",
       "   01.0h_centroid-0_mean  01.0h_centroid-0_std  01.0h_centroid-1_sum  \\\n",
       "0              30.364601              0.619334            590.014937   \n",
       "\n",
       "   01.0h_centroid-1_mean  01.0h_centroid-1_std  01.0h_centroid-2_sum  \\\n",
       "0             295.007468             76.860001            196.431796   \n",
       "\n",
       "   01.0h_centroid-2_mean  01.0h_centroid-2_std  \n",
       "0              98.215898             37.320316  \n",
       "\n",
       "[1 rows x 38 columns]"
      ]
     },
     "execution_count": 54,
     "metadata": {},
     "output_type": "execute_result"
    }
   ],
   "source": [
    "box_props"
   ]
  },
  {
   "cell_type": "code",
   "execution_count": 64,
   "metadata": {},
   "outputs": [
    {
     "data": {
      "text/plain": [
       "<matplotlib.image.AxesImage at 0x2463d0c2eb0>"
      ]
     },
     "execution_count": 64,
     "metadata": {},
     "output_type": "execute_result"
    },
    {
     "data": {
      "image/png": "[encoded data removed]",
      "text/plain": [
       "<Figure size 640x480 with 1 Axes>"
      ]
     },
     "metadata": {},
     "output_type": "display_data"
    }
   ],
   "source": [
    "import matplotlib.pyplot as plt\n",
    "\n",
    "plt.imshow(np.max(box, axis=1))"
   ]
  },
  {
   "cell_type": "code",
   "execution_count": 65,
   "metadata": {},
   "outputs": [
    {
     "data": {
      "text/plain": [
       "<matplotlib.image.AxesImage at 0x24645309490>"
      ]
     },
     "execution_count": 65,
     "metadata": {},
     "output_type": "execute_result"
    },
    {
     "data": {
      "image/png": "[encoded data removed]",
      "text/plain": [
       "<Figure size 640x480 with 1 Axes>"
      ]
     },
     "metadata": {},
     "output_type": "display_data"
    }
   ],
   "source": [
    "v1 = np.max(box, axis=1)\n",
    "plt.imshow(v1)"
   ]
  },
  {
   "cell_type": "code",
   "execution_count": 67,
   "metadata": {},
   "outputs": [
    {
     "data": {
      "text/plain": [
       "<matplotlib.image.AxesImage at 0x2463d427880>"
      ]
     },
     "execution_count": 67,
     "metadata": {},
     "output_type": "execute_result"
    },
    {
     "data": {
      "image/png": "[encoded data removed]",
      "text/plain": [
       "<Figure size 640x480 with 1 Axes>"
      ]
     },
     "metadata": {},
     "output_type": "display_data"
    }
   ],
   "source": [
    "v1 = np.max(box, axis=1)\n",
    "thr = filters.threshold_multiotsu(v1, 4)\n",
    "v1[v1<thr[1]] = 0\n",
    "v2 = np.max(v1, axis=1)\n",
    "height = len(np.where(v2!=0)[0])\n",
    "plt.imshow(v1)"
   ]
  },
  {
   "cell_type": "code",
   "execution_count": 68,
   "metadata": {},
   "outputs": [
    {
     "data": {
      "text/plain": [
       "15"
      ]
     },
     "execution_count": 68,
     "metadata": {},
     "output_type": "execute_result"
    }
   ],
   "source": [
    "height"
   ]
  },
  {
   "cell_type": "code",
   "execution_count": 35,
   "metadata": {},
   "outputs": [],
   "source": [
    "# Thresholding\n",
    "thr = filters.threshold_multiotsu(box, 4)\n",
    "box_for_labeling = box.copy()\n",
    "box_for_labeling[box<thr[1]] = 0\n",
    "\n",
    "# Gaussiuan\n",
    "box_for_labeling = filters.gaussian(box_for_labeling)"
   ]
  },
  {
   "cell_type": "code",
   "execution_count": 36,
   "metadata": {},
   "outputs": [
    {
     "data": {
      "text/html": [
       "<div>\n",
       "<style scoped>\n",
       "    .dataframe tbody tr th:only-of-type {\n",
       "        vertical-align: middle;\n",
       "    }\n",
       "\n",
       "    .dataframe tbody tr th {\n",
       "        vertical-align: top;\n",
       "    }\n",
       "\n",
       "    .dataframe thead th {\n",
       "        text-align: right;\n",
       "    }\n",
       "</style>\n",
       "<table border=\"1\" class=\"dataframe\">\n",
       "  <thead>\n",
       "    <tr style=\"text-align: right;\">\n",
       "      <th></th>\n",
       "      <th>label</th>\n",
       "      <th>area</th>\n",
       "      <th>area_convex</th>\n",
       "      <th>axis_major_length</th>\n",
       "      <th>euler_number</th>\n",
       "      <th>extent</th>\n",
       "      <th>inertia_tensor_eigvals-0</th>\n",
       "      <th>inertia_tensor_eigvals-1</th>\n",
       "      <th>inertia_tensor_eigvals-2</th>\n",
       "      <th>solidity</th>\n",
       "      <th>mean_RI</th>\n",
       "    </tr>\n",
       "  </thead>\n",
       "  <tbody>\n",
       "    <tr>\n",
       "      <th>0</th>\n",
       "      <td>1</td>\n",
       "      <td>354241.0</td>\n",
       "      <td>533670.0</td>\n",
       "      <td>361.302269</td>\n",
       "      <td>1</td>\n",
       "      <td>0.209862</td>\n",
       "      <td>7113.91078</td>\n",
       "      <td>6545.607426</td>\n",
       "      <td>605.585255</td>\n",
       "      <td>0.663783</td>\n",
       "      <td>1.334008</td>\n",
       "    </tr>\n",
       "  </tbody>\n",
       "</table>\n",
       "</div>"
      ],
      "text/plain": [
       "   label      area  area_convex  axis_major_length  euler_number    extent  \\\n",
       "0      1  354241.0     533670.0         361.302269             1  0.209862   \n",
       "\n",
       "   inertia_tensor_eigvals-0  inertia_tensor_eigvals-1  \\\n",
       "0                7113.91078               6545.607426   \n",
       "\n",
       "   inertia_tensor_eigvals-2  solidity   mean_RI  \n",
       "0                605.585255  0.663783  1.334008  "
      ]
     },
     "execution_count": 36,
     "metadata": {},
     "output_type": "execute_result"
    }
   ],
   "source": [
    "# Labeling\n",
    "properties = ['label', 'area', 'area_convex','axis_major_length', 'euler_number', 'extent',\n",
    "                            'inertia_tensor_eigvals', 'solidity'] \n",
    "\n",
    "labels = measure.label(box_for_labeling)\n",
    "props = measure.regionprops_table(labels, properties=properties)\n",
    "props = pd.DataFrame(props)\n",
    "props = props[props['area']>=100]\n",
    "\n",
    "# find mean RI\n",
    "cell_props['mean_RI'] = np.mean(box[box!=0])\n",
    "cell_props"
   ]
  },
  {
   "cell_type": "code",
   "execution_count": 40,
   "metadata": {},
   "outputs": [],
   "source": [
    "props = pd.DataFrame(measure.regionprops_table(labels, properties=properties))\n",
    "props['mean_RI'] = np.mean(box[labels!=0])"
   ]
  },
  {
   "cell_type": "code",
   "execution_count": 46,
   "metadata": {},
   "outputs": [
    {
     "data": {
      "text/plain": [
       "1.3414646"
      ]
     },
     "execution_count": 46,
     "metadata": {},
     "output_type": "execute_result"
    }
   ],
   "source": [
    "np.mean(box[labels!=0])"
   ]
  },
  {
   "cell_type": "code",
   "execution_count": 42,
   "metadata": {},
   "outputs": [
    {
     "data": {
      "text/plain": [
       "<Image layer 'labels' at 0x1e987b1d460>"
      ]
     },
     "execution_count": 42,
     "metadata": {},
     "output_type": "execute_result"
    }
   ],
   "source": [
    "viewer.add_image(labels)"
   ]
  },
  {
   "cell_type": "code",
   "execution_count": 41,
   "metadata": {},
   "outputs": [
    {
     "data": {
      "text/html": [
       "<div>\n",
       "<style scoped>\n",
       "    .dataframe tbody tr th:only-of-type {\n",
       "        vertical-align: middle;\n",
       "    }\n",
       "\n",
       "    .dataframe tbody tr th {\n",
       "        vertical-align: top;\n",
       "    }\n",
       "\n",
       "    .dataframe thead th {\n",
       "        text-align: right;\n",
       "    }\n",
       "</style>\n",
       "<table border=\"1\" class=\"dataframe\">\n",
       "  <thead>\n",
       "    <tr style=\"text-align: right;\">\n",
       "      <th></th>\n",
       "      <th>label</th>\n",
       "      <th>area</th>\n",
       "      <th>area_convex</th>\n",
       "      <th>axis_major_length</th>\n",
       "      <th>euler_number</th>\n",
       "      <th>extent</th>\n",
       "      <th>inertia_tensor_eigvals-0</th>\n",
       "      <th>inertia_tensor_eigvals-1</th>\n",
       "      <th>inertia_tensor_eigvals-2</th>\n",
       "      <th>solidity</th>\n",
       "    </tr>\n",
       "  </thead>\n",
       "  <tbody>\n",
       "    <tr>\n",
       "      <th>0</th>\n",
       "      <td>1</td>\n",
       "      <td>274237.0</td>\n",
       "      <td>393769.0</td>\n",
       "      <td>390.032745</td>\n",
       "      <td>4</td>\n",
       "      <td>0.163017</td>\n",
       "      <td>8044.193011</td>\n",
       "      <td>7618.441266</td>\n",
       "      <td>450.080067</td>\n",
       "      <td>0.696441</td>\n",
       "    </tr>\n",
       "    <tr>\n",
       "      <th>1</th>\n",
       "      <td>2</td>\n",
       "      <td>20055.0</td>\n",
       "      <td>27531.0</td>\n",
       "      <td>89.077192</td>\n",
       "      <td>0</td>\n",
       "      <td>0.310872</td>\n",
       "      <td>483.042580</td>\n",
       "      <td>404.860676</td>\n",
       "      <td>94.428648</td>\n",
       "      <td>0.728452</td>\n",
       "    </tr>\n",
       "    <tr>\n",
       "      <th>2</th>\n",
       "      <td>3</td>\n",
       "      <td>5696.0</td>\n",
       "      <td>10805.0</td>\n",
       "      <td>82.171407</td>\n",
       "      <td>1</td>\n",
       "      <td>0.209289</td>\n",
       "      <td>389.342836</td>\n",
       "      <td>339.194656</td>\n",
       "      <td>53.323488</td>\n",
       "      <td>0.527163</td>\n",
       "    </tr>\n",
       "    <tr>\n",
       "      <th>3</th>\n",
       "      <td>4</td>\n",
       "      <td>6.0</td>\n",
       "      <td>0.0</td>\n",
       "      <td>4.472136</td>\n",
       "      <td>1</td>\n",
       "      <td>0.750000</td>\n",
       "      <td>1.166667</td>\n",
       "      <td>1.000000</td>\n",
       "      <td>0.166667</td>\n",
       "      <td>0.000000</td>\n",
       "    </tr>\n",
       "    <tr>\n",
       "      <th>4</th>\n",
       "      <td>5</td>\n",
       "      <td>1.0</td>\n",
       "      <td>0.0</td>\n",
       "      <td>0.000000</td>\n",
       "      <td>1</td>\n",
       "      <td>1.000000</td>\n",
       "      <td>0.000000</td>\n",
       "      <td>0.000000</td>\n",
       "      <td>0.000000</td>\n",
       "      <td>0.000000</td>\n",
       "    </tr>\n",
       "    <tr>\n",
       "      <th>5</th>\n",
       "      <td>6</td>\n",
       "      <td>1.0</td>\n",
       "      <td>0.0</td>\n",
       "      <td>0.000000</td>\n",
       "      <td>1</td>\n",
       "      <td>1.000000</td>\n",
       "      <td>0.000000</td>\n",
       "      <td>0.000000</td>\n",
       "      <td>0.000000</td>\n",
       "      <td>0.000000</td>\n",
       "    </tr>\n",
       "    <tr>\n",
       "      <th>6</th>\n",
       "      <td>7</td>\n",
       "      <td>116.0</td>\n",
       "      <td>157.0</td>\n",
       "      <td>13.222207</td>\n",
       "      <td>1</td>\n",
       "      <td>0.405594</td>\n",
       "      <td>12.470604</td>\n",
       "      <td>8.964998</td>\n",
       "      <td>3.952924</td>\n",
       "      <td>0.738854</td>\n",
       "    </tr>\n",
       "    <tr>\n",
       "      <th>7</th>\n",
       "      <td>8</td>\n",
       "      <td>4.0</td>\n",
       "      <td>0.0</td>\n",
       "      <td>2.236068</td>\n",
       "      <td>1</td>\n",
       "      <td>1.000000</td>\n",
       "      <td>0.500000</td>\n",
       "      <td>0.250000</td>\n",
       "      <td>0.250000</td>\n",
       "      <td>0.000000</td>\n",
       "    </tr>\n",
       "    <tr>\n",
       "      <th>8</th>\n",
       "      <td>9</td>\n",
       "      <td>6.0</td>\n",
       "      <td>0.0</td>\n",
       "      <td>4.472136</td>\n",
       "      <td>1</td>\n",
       "      <td>0.750000</td>\n",
       "      <td>1.166667</td>\n",
       "      <td>1.000000</td>\n",
       "      <td>0.166667</td>\n",
       "      <td>0.000000</td>\n",
       "    </tr>\n",
       "    <tr>\n",
       "      <th>9</th>\n",
       "      <td>10</td>\n",
       "      <td>55.0</td>\n",
       "      <td>72.0</td>\n",
       "      <td>14.706183</td>\n",
       "      <td>1</td>\n",
       "      <td>0.423077</td>\n",
       "      <td>12.084585</td>\n",
       "      <td>10.922724</td>\n",
       "      <td>1.380128</td>\n",
       "      <td>0.763889</td>\n",
       "    </tr>\n",
       "    <tr>\n",
       "      <th>10</th>\n",
       "      <td>11</td>\n",
       "      <td>2.0</td>\n",
       "      <td>0.0</td>\n",
       "      <td>2.236068</td>\n",
       "      <td>1</td>\n",
       "      <td>1.000000</td>\n",
       "      <td>0.250000</td>\n",
       "      <td>0.250000</td>\n",
       "      <td>0.000000</td>\n",
       "      <td>0.000000</td>\n",
       "    </tr>\n",
       "    <tr>\n",
       "      <th>11</th>\n",
       "      <td>12</td>\n",
       "      <td>1.0</td>\n",
       "      <td>0.0</td>\n",
       "      <td>0.000000</td>\n",
       "      <td>1</td>\n",
       "      <td>1.000000</td>\n",
       "      <td>0.000000</td>\n",
       "      <td>0.000000</td>\n",
       "      <td>0.000000</td>\n",
       "      <td>0.000000</td>\n",
       "    </tr>\n",
       "    <tr>\n",
       "      <th>12</th>\n",
       "      <td>13</td>\n",
       "      <td>10.0</td>\n",
       "      <td>0.0</td>\n",
       "      <td>5.000000</td>\n",
       "      <td>1</td>\n",
       "      <td>0.625000</td>\n",
       "      <td>1.890000</td>\n",
       "      <td>1.250000</td>\n",
       "      <td>0.640000</td>\n",
       "      <td>0.000000</td>\n",
       "    </tr>\n",
       "    <tr>\n",
       "      <th>13</th>\n",
       "      <td>14</td>\n",
       "      <td>6.0</td>\n",
       "      <td>0.0</td>\n",
       "      <td>5.674541</td>\n",
       "      <td>1</td>\n",
       "      <td>0.500000</td>\n",
       "      <td>1.805556</td>\n",
       "      <td>1.610021</td>\n",
       "      <td>0.195535</td>\n",
       "      <td>0.000000</td>\n",
       "    </tr>\n",
       "    <tr>\n",
       "      <th>14</th>\n",
       "      <td>15</td>\n",
       "      <td>8.0</td>\n",
       "      <td>0.0</td>\n",
       "      <td>3.872983</td>\n",
       "      <td>1</td>\n",
       "      <td>0.888889</td>\n",
       "      <td>1.218750</td>\n",
       "      <td>0.750000</td>\n",
       "      <td>0.468750</td>\n",
       "      <td>0.000000</td>\n",
       "    </tr>\n",
       "    <tr>\n",
       "      <th>15</th>\n",
       "      <td>16</td>\n",
       "      <td>1.0</td>\n",
       "      <td>0.0</td>\n",
       "      <td>0.000000</td>\n",
       "      <td>1</td>\n",
       "      <td>1.000000</td>\n",
       "      <td>0.000000</td>\n",
       "      <td>0.000000</td>\n",
       "      <td>0.000000</td>\n",
       "      <td>0.000000</td>\n",
       "    </tr>\n",
       "  </tbody>\n",
       "</table>\n",
       "</div>"
      ],
      "text/plain": [
       "    label      area  area_convex  axis_major_length  euler_number    extent  \\\n",
       "0       1  274237.0     393769.0         390.032745             4  0.163017   \n",
       "1       2   20055.0      27531.0          89.077192             0  0.310872   \n",
       "2       3    5696.0      10805.0          82.171407             1  0.209289   \n",
       "3       4       6.0          0.0           4.472136             1  0.750000   \n",
       "4       5       1.0          0.0           0.000000             1  1.000000   \n",
       "5       6       1.0          0.0           0.000000             1  1.000000   \n",
       "6       7     116.0        157.0          13.222207             1  0.405594   \n",
       "7       8       4.0          0.0           2.236068             1  1.000000   \n",
       "8       9       6.0          0.0           4.472136             1  0.750000   \n",
       "9      10      55.0         72.0          14.706183             1  0.423077   \n",
       "10     11       2.0          0.0           2.236068             1  1.000000   \n",
       "11     12       1.0          0.0           0.000000             1  1.000000   \n",
       "12     13      10.0          0.0           5.000000             1  0.625000   \n",
       "13     14       6.0          0.0           5.674541             1  0.500000   \n",
       "14     15       8.0          0.0           3.872983             1  0.888889   \n",
       "15     16       1.0          0.0           0.000000             1  1.000000   \n",
       "\n",
       "    inertia_tensor_eigvals-0  inertia_tensor_eigvals-1  \\\n",
       "0                8044.193011               7618.441266   \n",
       "1                 483.042580                404.860676   \n",
       "2                 389.342836                339.194656   \n",
       "3                   1.166667                  1.000000   \n",
       "4                   0.000000                  0.000000   \n",
       "5                   0.000000                  0.000000   \n",
       "6                  12.470604                  8.964998   \n",
       "7                   0.500000                  0.250000   \n",
       "8                   1.166667                  1.000000   \n",
       "9                  12.084585                 10.922724   \n",
       "10                  0.250000                  0.250000   \n",
       "11                  0.000000                  0.000000   \n",
       "12                  1.890000                  1.250000   \n",
       "13                  1.805556                  1.610021   \n",
       "14                  1.218750                  0.750000   \n",
       "15                  0.000000                  0.000000   \n",
       "\n",
       "    inertia_tensor_eigvals-2  solidity  \n",
       "0                 450.080067  0.696441  \n",
       "1                  94.428648  0.728452  \n",
       "2                  53.323488  0.527163  \n",
       "3                   0.166667  0.000000  \n",
       "4                   0.000000  0.000000  \n",
       "5                   0.000000  0.000000  \n",
       "6                   3.952924  0.738854  \n",
       "7                   0.250000  0.000000  \n",
       "8                   0.166667  0.000000  \n",
       "9                   1.380128  0.763889  \n",
       "10                  0.000000  0.000000  \n",
       "11                  0.000000  0.000000  \n",
       "12                  0.640000  0.000000  \n",
       "13                  0.195535  0.000000  \n",
       "14                  0.468750  0.000000  \n",
       "15                  0.000000  0.000000  "
      ]
     },
     "execution_count": 41,
     "metadata": {},
     "output_type": "execute_result"
    }
   ],
   "source": [
    "props.replace([-np.inf, np.inf], 0)"
   ]
  },
  {
   "cell_type": "code",
   "execution_count": 32,
   "metadata": {},
   "outputs": [
    {
     "data": {
      "text/plain": [
       "<Image layer 'box' at 0x1e987908850>"
      ]
     },
     "execution_count": 32,
     "metadata": {},
     "output_type": "execute_result"
    }
   ],
   "source": [
    "viewer.add_image(box)"
   ]
  },
  {
   "cell_type": "code",
   "execution_count": 26,
   "metadata": {},
   "outputs": [],
   "source": [
    "box[labels==0]=1.3"
   ]
  },
  {
   "cell_type": "code",
   "execution_count": 41,
   "metadata": {},
   "outputs": [],
   "source": [
    "cell_props_list[0] = cell_props_list[0].reset_index(drop=True)\n",
    "cell_props_list[1] = cell_props_list[1].reset_index(drop=True)"
   ]
  },
  {
   "cell_type": "code",
   "execution_count": 42,
   "metadata": {},
   "outputs": [
    {
     "data": {
      "text/html": [
       "<div>\n",
       "<style scoped>\n",
       "    .dataframe tbody tr th:only-of-type {\n",
       "        vertical-align: middle;\n",
       "    }\n",
       "\n",
       "    .dataframe tbody tr th {\n",
       "        vertical-align: top;\n",
       "    }\n",
       "\n",
       "    .dataframe thead th {\n",
       "        text-align: right;\n",
       "    }\n",
       "</style>\n",
       "<table border=\"1\" class=\"dataframe\">\n",
       "  <thead>\n",
       "    <tr style=\"text-align: right;\">\n",
       "      <th></th>\n",
       "      <th>0</th>\n",
       "      <th>1</th>\n",
       "      <th>2</th>\n",
       "      <th>3</th>\n",
       "      <th>4</th>\n",
       "      <th>5</th>\n",
       "      <th>6</th>\n",
       "      <th>7</th>\n",
       "      <th>8</th>\n",
       "      <th>9</th>\n",
       "      <th>...</th>\n",
       "      <th>12</th>\n",
       "      <th>13</th>\n",
       "      <th>14</th>\n",
       "      <th>15</th>\n",
       "      <th>16</th>\n",
       "      <th>17</th>\n",
       "      <th>18</th>\n",
       "      <th>19</th>\n",
       "      <th>20</th>\n",
       "      <th>21</th>\n",
       "    </tr>\n",
       "  </thead>\n",
       "  <tbody>\n",
       "    <tr>\n",
       "      <th>0</th>\n",
       "      <td>5</td>\n",
       "      <td>854596.0</td>\n",
       "      <td>2986046.0</td>\n",
       "      <td>486.956102</td>\n",
       "      <td>-346</td>\n",
       "      <td>0.153452</td>\n",
       "      <td>14419.513539</td>\n",
       "      <td>11911.148045</td>\n",
       "      <td>2618.037081</td>\n",
       "      <td>0.286197</td>\n",
       "      <td>...</td>\n",
       "      <td>354241.0</td>\n",
       "      <td>533670.0</td>\n",
       "      <td>361.302269</td>\n",
       "      <td>1</td>\n",
       "      <td>0.209862</td>\n",
       "      <td>7113.91078</td>\n",
       "      <td>6545.607426</td>\n",
       "      <td>605.585255</td>\n",
       "      <td>0.663783</td>\n",
       "      <td>1.340485</td>\n",
       "    </tr>\n",
       "  </tbody>\n",
       "</table>\n",
       "<p>1 rows × 22 columns</p>\n",
       "</div>"
      ],
      "text/plain": [
       "   0         1          2           3    4         5             6   \\\n",
       "0   5  854596.0  2986046.0  486.956102 -346  0.153452  14419.513539   \n",
       "\n",
       "             7            8         9   ...        12        13          14  \\\n",
       "0  11911.148045  2618.037081  0.286197  ...  354241.0  533670.0  361.302269   \n",
       "\n",
       "   15        16          17           18          19        20        21  \n",
       "0   1  0.209862  7113.91078  6545.607426  605.585255  0.663783  1.340485  \n",
       "\n",
       "[1 rows x 22 columns]"
      ]
     },
     "execution_count": 42,
     "metadata": {},
     "output_type": "execute_result"
    }
   ],
   "source": [
    "df = pd.DataFrame()\n",
    "df = pd.concat(cell_props_list, axis=1, ignore_index=True)\n",
    "df"
   ]
  }
 ],
 "metadata": {
  "kernelspec": {
   "display_name": "Python 3 (ipykernel)",
   "language": "python",
   "name": "python3"
  },
  "language_info": {
   "codemirror_mode": {
    "name": "ipython",
    "version": 3
   },
   "file_extension": ".py",
   "mimetype": "text/x-python",
   "name": "python",
   "nbconvert_exporter": "python",
   "pygments_lexer": "ipython3",
   "version": "3.9.19"
  }
 },
 "nbformat": 4,
 "nbformat_minor": 4
}
