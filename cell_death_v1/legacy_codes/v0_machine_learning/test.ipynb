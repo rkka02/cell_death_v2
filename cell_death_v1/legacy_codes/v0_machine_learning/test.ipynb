{
 "cells": [
  {
   "cell_type": "code",
   "execution_count": 1,
   "metadata": {},
   "outputs": [],
   "source": [
    "import h5py\n",
    "import numpy as np\n",
    "from TCFile import TCFile\n",
    "import napari"
   ]
  },
  {
   "cell_type": "code",
   "execution_count": 2,
   "metadata": {},
   "outputs": [],
   "source": [
    "viewer = napari.Viewer()"
   ]
  },
  {
   "cell_type": "code",
   "execution_count": 5,
   "metadata": {},
   "outputs": [
    {
     "data": {
      "text/plain": [
       "<Image layer 'a [1]' at 0x22006e46e80>"
      ]
     },
     "execution_count": 5,
     "metadata": {},
     "output_type": "execute_result"
    }
   ],
   "source": [
    "dir = 'C:/rkka_Projects/Cell/Data/Apoptosis/'\n",
    "file = 'sam_manual_mlp_boxed_compressed_230512.160429.CD95_TNF_Ctr.003.CD95.A1.T001P12.TCF.h5'\n",
    "\n",
    "a = h5py.File(dir+file)\n",
    "a = np.array(a['box/003/time/10.0'])\n",
    "\n",
    "viewer.add_image(a)"
   ]
  },
  {
   "cell_type": "code",
   "execution_count": 1,
   "metadata": {},
   "outputs": [
    {
     "data": {
      "text/plain": [
       "<Image layer 'a' at 0x2e2c22690d0>"
      ]
     },
     "execution_count": 1,
     "metadata": {},
     "output_type": "execute_result"
    }
   ],
   "source": [
    "import napari, tifffile\n",
    "a = tifffile.imread('Data/Necroptosis/boxmask_compressed_230510.174730.HeLa_Hoechst.001.Group1.A2.T001P02.tif')\n",
    "viewer = napari.Viewer()\n",
    "viewer.add_image(a)"
   ]
  }
 ],
 "metadata": {
  "kernelspec": {
   "display_name": "lab",
   "language": "python",
   "name": "python3"
  },
  "language_info": {
   "codemirror_mode": {
    "name": "ipython",
    "version": 3
   },
   "file_extension": ".py",
   "mimetype": "text/x-python",
   "name": "python",
   "nbconvert_exporter": "python",
   "pygments_lexer": "ipython3",
   "version": "3.9.19"
  }
 },
 "nbformat": 4,
 "nbformat_minor": 2
}
