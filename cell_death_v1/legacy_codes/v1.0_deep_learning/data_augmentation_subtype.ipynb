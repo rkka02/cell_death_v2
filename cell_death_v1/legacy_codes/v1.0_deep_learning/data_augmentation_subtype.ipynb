{
 "cells": [
  {
   "cell_type": "code",
   "execution_count": 3,
   "metadata": {},
   "outputs": [],
   "source": [
    "import os\n",
    "from PIL import Image\n",
    "import torch\n",
    "from torchvision import transforms\n",
    "import random\n",
    "\n",
    "# Define the data augmentation transformations\n",
    "def get_augmentation_transforms():\n",
    "    return transforms.Compose([\n",
    "        transforms.Resize((1024, 1024)),  # Resize to fixed size\n",
    "        transforms.RandomResizedCrop((1024, 1024), scale=(0.3, 0.6)),\n",
    "        transforms.RandomRotation(90),  # Random rotation within 30 degrees\n",
    "        transforms.RandomHorizontalFlip(),  # Random horizontal flip\n",
    "        transforms.RandomVerticalFlip(),  # Random vertical flip\n",
    "        transforms.ToTensor(),\n",
    "    ])\n",
    "\n",
    "# Function to save augmented images\n",
    "def augment_and_save_images(root_dir, save_dir, augmentations_per_image=5):\n",
    "    transform = get_augmentation_transforms()\n",
    "\n",
    "    for label, class_name in enumerate(['Apoptosis', 'Necroptosis', 'Necrosis']):\n",
    "        class_dir = os.path.join(root_dir, class_name)\n",
    "        save_class_dir = os.path.join(save_dir, class_name)\n",
    "        os.makedirs(save_class_dir, exist_ok=True)\n",
    "\n",
    "        for img_name in os.listdir(class_dir):\n",
    "            img_path = os.path.join(class_dir, img_name)\n",
    "            image = Image.open(img_path).convert(\"RGB\")\n",
    "\n",
    "            # Save the original image as well\n",
    "            original_save_path = os.path.join(save_class_dir, img_name)\n",
    "            image.save(original_save_path)\n",
    "\n",
    "            # Generate multiple augmented versions of the image\n",
    "            for i in range(augmentations_per_image):\n",
    "                augmented_image = transform(image)\n",
    "                augmented_image_pil = transforms.ToPILImage()(augmented_image)\n",
    "\n",
    "                # Create a new file name for each augmented image\n",
    "                new_img_name = f\"{os.path.splitext(img_name)[0]}_aug_{i}.png\"\n",
    "                new_img_path = os.path.join(save_class_dir, new_img_name)\n",
    "\n",
    "                # Save the augmented image\n",
    "                augmented_image_pil.save(new_img_path)\n"
   ]
  },
  {
   "cell_type": "code",
   "execution_count": 5,
   "metadata": {},
   "outputs": [
    {
     "name": "stdout",
     "output_type": "stream",
     "text": [
      "Augmented images saved in: C:\\rkka_Projects\\cell_death_v1\\Data\\pathway\\collected/test/augmented\n"
     ]
    }
   ],
   "source": [
    "root_dir = r'C:\\rkka_Projects\\cell_death_v1\\Data\\pathway\\collected/test'\n",
    "save_dir = r'C:\\rkka_Projects\\cell_death_v1\\Data\\pathway\\collected/test/augmented'\n",
    "augmentations_per_image = 10\n",
    "\n",
    "augment_and_save_images(root_dir, save_dir, augmentations_per_image)\n",
    "print(f\"Augmented images saved in: {save_dir}\")"
   ]
  }
 ],
 "metadata": {
  "kernelspec": {
   "display_name": "cell",
   "language": "python",
   "name": "python3"
  },
  "language_info": {
   "codemirror_mode": {
    "name": "ipython",
    "version": 3
   },
   "file_extension": ".py",
   "mimetype": "text/x-python",
   "name": "python",
   "nbconvert_exporter": "python",
   "pygments_lexer": "ipython3",
   "version": "3.12.4"
  }
 },
 "nbformat": 4,
 "nbformat_minor": 2
}
