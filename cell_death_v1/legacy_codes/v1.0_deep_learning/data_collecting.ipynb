{
 "cells": [
  {
   "cell_type": "code",
   "execution_count": 1,
   "metadata": {},
   "outputs": [],
   "source": [
    "import os\n",
    "import shutil\n",
    "\n",
    "root = r'D:\\celldeath'  # Set the root directory containing 'cell death' folders\n",
    "dataset_folder = r\"C:\\rkka_Projects\\cell_death_v1/Data/live_dead/raw\"  # Set the destination folder for 'live' and 'dead' images\n",
    "\n",
    "live_folder = os.path.join(dataset_folder, 'live')\n",
    "dead_folder = os.path.join(dataset_folder, 'dead')\n",
    "os.makedirs(live_folder, exist_ok=True)\n",
    "os.makedirs(dead_folder, exist_ok=True)\n",
    "\n",
    "k=0\n",
    "    \n",
    "# Iterate through folders starting with 'cell death'\n",
    "for folder in os.listdir(root):\n",
    "    if folder.startswith('cell death'):\n",
    "        experiment_folder = os.path.join(root, folder)\n",
    "            \n",
    "        # List folders starting with '24~' inside the experiment folder\n",
    "        for subfolder in os.listdir(experiment_folder):\n",
    "            if subfolder.startswith('24'):\n",
    "                subfolder_path = os.path.join(experiment_folder, subfolder)\n",
    "                    \n",
    "                # Check for the 'thumbnail' folder\n",
    "                thumbnail_folder = os.path.join(subfolder_path, 'thumbnail')\n",
    "                if os.path.exists(thumbnail_folder):\n",
    "                    # Get all PNG files in the thumbnail folder\n",
    "                    png_files = sorted([f for f in os.listdir(thumbnail_folder) if f.endswith('.png') and f.startswith('HT_')])\n",
    "                        \n",
    "                    if len(png_files) >= 2:\n",
    "                        # Move the first two images to 'live' folder\n",
    "                        live_images = png_files[:2]\n",
    "                        for img in live_images:\n",
    "                            src_path = os.path.join(thumbnail_folder, img)\n",
    "                            shutil.copy(src_path, os.path.join(live_folder, str(k) + '_' + img))\n",
    "                        \n",
    "                    if len(png_files) >= 2:\n",
    "                        # Move the last two images to 'dead' folder\n",
    "                        dead_images = png_files[-2:]\n",
    "                        for img in dead_images:\n",
    "                            src_path = os.path.join(thumbnail_folder, img)\n",
    "                            shutil.copy(src_path, os.path.join(dead_folder, str(k) + '_' + img))\n",
    "            k += 1"
   ]
  }
 ],
 "metadata": {
  "kernelspec": {
   "display_name": "cell",
   "language": "python",
   "name": "python3"
  },
  "language_info": {
   "codemirror_mode": {
    "name": "ipython",
    "version": 3
   },
   "file_extension": ".py",
   "mimetype": "text/x-python",
   "name": "python",
   "nbconvert_exporter": "python",
   "pygments_lexer": "ipython3",
   "version": "3.12.4"
  }
 },
 "nbformat": 4,
 "nbformat_minor": 2
}
