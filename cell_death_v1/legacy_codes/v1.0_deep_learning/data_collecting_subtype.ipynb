{
 "cells": [
  {
   "cell_type": "code",
   "execution_count": 2,
   "metadata": {},
   "outputs": [],
   "source": [
    "from TCFile import TCFile\n",
    "import numpy as np\n",
    "from PIL import Image\n",
    "import matplotlib.pyplot as plt\n",
    "import utils"
   ]
  },
  {
   "cell_type": "code",
   "execution_count": 10,
   "metadata": {},
   "outputs": [
    {
     "data": {
      "text/plain": [
       "'C:/rkka_Projects/cell_death_v1/Data/pathway\\\\Pyroptosis\\\\compressed_230512.160429.CD95_TNF_Ctr.003.TNF.A2.T001P13.TCF'"
      ]
     },
     "execution_count": 10,
     "metadata": {},
     "output_type": "execute_result"
    }
   ],
   "source": [
    "subtype_path"
   ]
  },
  {
   "cell_type": "code",
   "execution_count": 8,
   "metadata": {},
   "outputs": [
    {
     "name": "stderr",
     "output_type": "stream",
     "text": [
      "c:\\miniconda3\\envs\\cell\\Lib\\site-packages\\TCFile\\TCFile_class.py:174: UserWarning: You use an experimental file format deprecated.\n",
      "Update your reconstruction program and rebuild TCF file.\n",
      "  warnings.warn((\"You use an experimental file format deprecated.\\n\"\n"
     ]
    },
    {
     "ename": "FileNotFoundError",
     "evalue": "[Errno 2] No such file or directory: 'C:\\\\rkka_Projects\\\\cell_death_v1\\\\Data\\\\pathway\\\\collected\\\\Pyroptosis\\\\0.png'",
     "output_type": "error",
     "traceback": [
      "\u001b[1;31m---------------------------------------------------------------------------\u001b[0m",
      "\u001b[1;31mFileNotFoundError\u001b[0m                         Traceback (most recent call last)",
      "Cell \u001b[1;32mIn[8], line 15\u001b[0m\n\u001b[0;32m     13\u001b[0m subtype_path \u001b[38;5;241m=\u001b[39m os\u001b[38;5;241m.\u001b[39mpath\u001b[38;5;241m.\u001b[39mjoin(subtype_folder, file)\n\u001b[0;32m     14\u001b[0m tcf_file \u001b[38;5;241m=\u001b[39m TCFile(subtype_path, \u001b[38;5;124m'\u001b[39m\u001b[38;5;124m2DMIP\u001b[39m\u001b[38;5;124m'\u001b[39m)\n\u001b[1;32m---> 15\u001b[0m utils\u001b[38;5;241m.\u001b[39msave_np_to_img(tcf_file[\u001b[38;5;241m0\u001b[39m], os\u001b[38;5;241m.\u001b[39mpath\u001b[38;5;241m.\u001b[39mjoin(dataset_folder, subtype, \u001b[38;5;28mstr\u001b[39m(k)\u001b[38;5;241m+\u001b[39m\u001b[38;5;124m'\u001b[39m\u001b[38;5;124m.png\u001b[39m\u001b[38;5;124m'\u001b[39m))\n\u001b[0;32m     16\u001b[0m k \u001b[38;5;241m+\u001b[39m\u001b[38;5;241m=\u001b[39m \u001b[38;5;241m1\u001b[39m\n\u001b[0;32m     17\u001b[0m utils\u001b[38;5;241m.\u001b[39msave_np_to_img(tcf_file[\u001b[38;5;241m-\u001b[39m\u001b[38;5;241m1\u001b[39m], os\u001b[38;5;241m.\u001b[39mpath\u001b[38;5;241m.\u001b[39mjoin(dataset_folder, subtype, \u001b[38;5;28mstr\u001b[39m(k)\u001b[38;5;241m+\u001b[39m\u001b[38;5;124m'\u001b[39m\u001b[38;5;124m.png\u001b[39m\u001b[38;5;124m'\u001b[39m))\n",
      "File \u001b[1;32mc:\\rkka_Projects\\cell_death_v1\\utils\\save_np_to_img.py:9\u001b[0m, in \u001b[0;36msave_np_to_img\u001b[1;34m(array, destination_path)\u001b[0m\n\u001b[0;32m      7\u001b[0m array \u001b[38;5;241m=\u001b[39m (array \u001b[38;5;241m-\u001b[39m array_min)\u001b[38;5;241m/\u001b[39m(array_max \u001b[38;5;241m-\u001b[39m array_min)\n\u001b[0;32m      8\u001b[0m image \u001b[38;5;241m=\u001b[39m Image\u001b[38;5;241m.\u001b[39mfromarray(array\u001b[38;5;241m.\u001b[39mastype(\u001b[38;5;28mint\u001b[39m))\n\u001b[1;32m----> 9\u001b[0m image\u001b[38;5;241m.\u001b[39msave(destination_path)\n\u001b[0;32m     10\u001b[0m \u001b[38;5;28;01mreturn\u001b[39;00m \u001b[38;5;241m0\u001b[39m\n",
      "File \u001b[1;32mc:\\miniconda3\\envs\\cell\\Lib\\site-packages\\PIL\\Image.py:2563\u001b[0m, in \u001b[0;36mImage.save\u001b[1;34m(self, fp, format, **params)\u001b[0m\n\u001b[0;32m   2561\u001b[0m         fp \u001b[38;5;241m=\u001b[39m builtins\u001b[38;5;241m.\u001b[39mopen(filename, \u001b[38;5;124m\"\u001b[39m\u001b[38;5;124mr+b\u001b[39m\u001b[38;5;124m\"\u001b[39m)\n\u001b[0;32m   2562\u001b[0m     \u001b[38;5;28;01melse\u001b[39;00m:\n\u001b[1;32m-> 2563\u001b[0m         fp \u001b[38;5;241m=\u001b[39m builtins\u001b[38;5;241m.\u001b[39mopen(filename, \u001b[38;5;124m\"\u001b[39m\u001b[38;5;124mw+b\u001b[39m\u001b[38;5;124m\"\u001b[39m)\n\u001b[0;32m   2564\u001b[0m \u001b[38;5;28;01melse\u001b[39;00m:\n\u001b[0;32m   2565\u001b[0m     fp \u001b[38;5;241m=\u001b[39m cast(IO[\u001b[38;5;28mbytes\u001b[39m], fp)\n",
      "\u001b[1;31mFileNotFoundError\u001b[0m: [Errno 2] No such file or directory: 'C:\\\\rkka_Projects\\\\cell_death_v1\\\\Data\\\\pathway\\\\collected\\\\Pyroptosis\\\\0.png'"
     ]
    }
   ],
   "source": [
    "import os\n",
    "\n",
    "root = 'C:/rkka_Projects/cell_death_v1/Data/pathway'  # Set the root directory containing 'cell death' folders\n",
    "dataset_folder = \"C:/rkka_Projects/cell_death_v1/Data/pathway/collected\"  # Set the destination folder for 'live' and 'dead' images\n",
    "\n",
    "# Iterate through folders starting with 'cell death'\n",
    "for subtype in os.listdir(root):\n",
    "    subtype_folder = os.path.join(root, subtype)\n",
    "    k = 0\n",
    "    # List folders starting with '24~' inside the experiment folder\n",
    "    for file in os.listdir(subtype_folder):\n",
    "        if file.endswith('.TCF'):\n",
    "            subtype_path = os.path.join(subtype_folder, file)\n",
    "            tcf_file = TCFile(subtype_path, '2DMIP')\n",
    "            utils.save_np_to_img(tcf_file[0], os.path.join(dataset_folder, subtype, str(k)+'.png'))\n",
    "            k += 1\n",
    "            utils.save_np_to_img(tcf_file[-1], os.path.join(dataset_folder, subtype, str(k)+'.png'))\n",
    "            k += 1"
   ]
  },
  {
   "cell_type": "code",
   "execution_count": null,
   "metadata": {},
   "outputs": [],
   "source": [
    "import os\n",
    "import shutil\n",
    "\n",
    "root = r'C:\\rkka_Projects\\cell_death_v1\\Data\\pathway'  # Set the root directory containing 'cell death' folders\n",
    "dataset_folder = r\"C:\\rkka_Projects\\cell_death_v1/Data/pathway/collected\"  # Set the destination folder for 'live' and 'dead' images\n",
    "\n",
    "apoptosis_folder = os.path.join(dataset_folder, 'apoptosis')\n",
    "necroptosis_folder = os.path.join(dataset_folder, 'necroptosis')\n",
    "necrosis_folder = os.path.join(dataset_folder, 'necrosis')\n",
    "os.makedirs(apoptosis_folder, exist_ok=True)\n",
    "os.makedirs(necroptosis_folder, exist_ok=True)\n",
    "os.makedirs(necrosis_folder, exist_ok=True)\n",
    "\n",
    "k=0\n",
    "    \n",
    "# Iterate through folders starting with 'cell death'\n",
    "for folder in os.listdir(root):\n",
    "    subtype_folder = os.path.join(root, folder)\n",
    "            \n",
    "    # List folders starting with '24~' inside the experiment folder\n",
    "    for subtype in os.listdir(subtype_folder):\n",
    "        tcf_files = sorted([f for f in os.listdir(subtype) if f.endswith('.TCF')])\n",
    "                        \n",
    "        for tcf in tcf_files:\n",
    "            file = TCFile()\n",
    "            src_path = os.path.join(thumbnail_folder, img)\n",
    "            shutil.copy(src_path, os.path.join(live_folder, str(k) + '_' + img))\n",
    "                        \n",
    "        if len(png_files) >= 2:\n",
    "            # Move the last two images to 'dead' folder\n",
    "            dead_images = png_files[-2:]\n",
    "            for img in dead_images:\n",
    "                src_path = os.path.join(thumbnail_folder, img)\n",
    "                shutil.copy(src_path, os.path.join(dead_folder, str(k) + '_' + img))\n",
    "    k += 1"
   ]
  }
 ],
 "metadata": {
  "kernelspec": {
   "display_name": "cell",
   "language": "python",
   "name": "python3"
  },
  "language_info": {
   "codemirror_mode": {
    "name": "ipython",
    "version": 3
   },
   "file_extension": ".py",
   "mimetype": "text/x-python",
   "name": "python",
   "nbconvert_exporter": "python",
   "pygments_lexer": "ipython3",
   "version": "3.12.4"
  }
 },
 "nbformat": 4,
 "nbformat_minor": 2
}
