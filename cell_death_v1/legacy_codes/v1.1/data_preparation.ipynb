{
 "cells": [
  {
   "cell_type": "code",
   "execution_count": 1,
   "metadata": {},
   "outputs": [],
   "source": [
    "from TCFile import TCFile\n",
    "import numpy as np\n",
    "import matplotlib.pyplot as plt\n",
    "import napari"
   ]
  },
  {
   "cell_type": "code",
   "execution_count": 72,
   "metadata": {},
   "outputs": [
    {
     "name": "stdout",
     "output_type": "stream",
     "text": [
      "Processing file: C:\\rkka_Projects\\cell_death_v1\\Data\\Hela_Segmentation_test_PWS\\TCF\\230510.174730.HeLa_Hoechst.001.Group1.A2.T001P25.TCF\n"
     ]
    }
   ],
   "source": [
    "import os\n",
    "import numpy as np\n",
    "import imageio  # pip install imageio\n",
    "from TCFile import TCFile\n",
    "\n",
    "def preprocess_and_save_to_png(\n",
    "    tcf_paths,\n",
    "    output_dir,\n",
    "    time_indices_live=(0, 1),\n",
    "    time_indices_dead=(35, 36),\n",
    "    mode='qpi',\n",
    "    crop_size=(480, 480),  # change to the size you want,\n",
    "    patch_num = None\n",
    "):\n",
    "    \"\"\"\n",
    "    Preprocess 3D tomography data from TCF files, create a 2D projection,\n",
    "    crop into tiles (no overlap), and save each tile as an 8-bit PNG.\n",
    "\n",
    "    Args:\n",
    "        tcf_paths (list of str): Paths to TCF files.\n",
    "        output_dir (str): Directory to save output subfolders ('live', 'dead').\n",
    "        time_indices_live (tuple): Time indices for 'live' label.\n",
    "        time_indices_dead (tuple): Time indices for 'dead' label.\n",
    "        mode (str): 'qpi' (sum across z) or 'mip' (max intensity projection).\n",
    "        crop_size (tuple): (crop_height, crop_width) for each tile.\n",
    "    \"\"\"\n",
    "\n",
    "    # Create output subdirectories for each label\n",
    "    live_dir = os.path.join(output_dir, \"live\")\n",
    "    dead_dir = os.path.join(output_dir, \"dead\")\n",
    "    os.makedirs(live_dir, exist_ok=True)\n",
    "    os.makedirs(dead_dir, exist_ok=True)\n",
    "\n",
    "    for path in tcf_paths:\n",
    "        print(f\"Processing file: {path}\")\n",
    "\n",
    "        # Open the TCF file in '3D' mode\n",
    "        tcf_file = TCFile(path, '3D')\n",
    "\n",
    "        # Process the 'live' time indices\n",
    "        for t_idx in time_indices_live:\n",
    "            # data_3d has shape (z, y, x)\n",
    "            data_3d = tcf_file[t_idx]\n",
    "\n",
    "            # 2D projection (sum or max)\n",
    "            if mode.lower() == 'qpi':\n",
    "                slice_2d = np.sum(data_3d, axis=0)  # shape: (y, x)\n",
    "            elif mode.lower() == 'mip':\n",
    "                slice_2d = np.max(data_3d, axis=0)\n",
    "            else:\n",
    "                raise ValueError(f\"Unknown mode: {mode}\")\n",
    "\n",
    "            # Crop the 2D slice\n",
    "            _crop_and_save(slice_2d, live_dir, path, t_idx, mode, crop_size, patch_num)\n",
    "\n",
    "        # Process the 'dead' time indices\n",
    "        for t_idx in time_indices_dead:\n",
    "            data_3d = tcf_file[t_idx]\n",
    "            \n",
    "            if mode.lower() == 'qpi':\n",
    "                slice_2d = np.sum(data_3d, axis=0)\n",
    "            elif mode.lower() == 'mip':\n",
    "                slice_2d = np.max(data_3d, axis=0)\n",
    "            else:\n",
    "                raise ValueError(f\"Unknown mode: {mode}\")\n",
    "\n",
    "            _crop_and_save(slice_2d, dead_dir, path, t_idx, mode, crop_size, patch_num)\n",
    "\n",
    "\n",
    "def _crop_and_save(slice_2d, out_dir, file_path, time_idx, mode, crop_size, patch_num):\n",
    "    \"\"\"\n",
    "    Given a 2D array (slice_2d), split it into non-overlapping\n",
    "    tiles (of size crop_size) and save each tile as PNG.\n",
    "    \"\"\"\n",
    "\n",
    "    crop_h, crop_w = crop_size\n",
    "    height, width = slice_2d.shape\n",
    "\n",
    "    base_name = os.path.splitext(os.path.basename(file_path))[0]\n",
    "\n",
    "    # Number of vertical/horizontal steps (discard remainder if it doesn't fit exactly)\n",
    "    num_steps_y = height // crop_h\n",
    "    num_steps_x = width // crop_w\n",
    "\n",
    "    # For each tile\n",
    "    patch_step = 0\n",
    "    for iy in range(num_steps_y):\n",
    "        for ix in range(num_steps_x):\n",
    "            top = iy * crop_h\n",
    "            left = ix * crop_w\n",
    "            patch = slice_2d[top:top+crop_h, left:left+crop_w]\n",
    "\n",
    "            # Min-max normalization (float64 -> uint8)\n",
    "            min_val, max_val = patch.min(), patch.max()\n",
    "            if max_val - min_val < 1e-10:\n",
    "                norm_patch = np.zeros_like(patch, dtype=np.uint8)\n",
    "            else:\n",
    "                norm_patch = ((patch - min_val) / (max_val - min_val) * 255).astype(np.uint8)\n",
    "\n",
    "            # Construct output filename\n",
    "            # Example: \"file_t{0}_y0_x0_mode-mip.png\"\n",
    "            \"\"\"\n",
    "            out_name = (\n",
    "                f\"{base_name}_t{time_idx}\"\n",
    "                f\"_y{iy}_x{ix}\"\n",
    "                f\"_mode-{mode}.png\"\n",
    "            )\n",
    "            \"\"\"\n",
    "            out_name = (\n",
    "                str(time_idx).zfill(2) + \".png\"\n",
    "            )\n",
    "            out_path = os.path.join(out_dir, out_name)\n",
    "\n",
    "            # Save the tile\n",
    "            imageio.imwrite(out_path, norm_patch)\n",
    "            \n",
    "            patch_step += 1\n",
    "\n",
    "            if patch_step == patch_num :\n",
    "                break\n",
    "        if patch_step == patch_num :\n",
    "                break\n",
    "\n",
    "# -----------------------------\n",
    "# Example usage:\n",
    "# -----------------------------\n",
    "# Example TCF paths\n",
    "tcf_paths = [\n",
    "    r\"C:\\rkka_Projects\\cell_death_v1\\Data\\Hela_Segmentation_test_PWS\\TCF\\230510.174730.HeLa_Hoechst.001.Group1.A2.T001P25.TCF\"\n",
    "]\n",
    "output_directory = r\"C:\\rkka_Projects\\cell_death_v1\\Data\\test\"\n",
    "\n",
    "preprocess_and_save_to_png(\n",
    "    tcf_paths,\n",
    "    output_dir=output_directory,\n",
    "    time_indices_live=(i for i in range(18)),\n",
    "    time_indices_dead=(i+18 for i in range(18)),\n",
    "    mode='mip',        # or 'mip'\n",
    "    crop_size=(480, 480),  # adjust as needed\n",
    "    patch_num= 1\n",
    ")\n"
   ]
  },
  {
   "cell_type": "code",
   "execution_count": 1,
   "metadata": {},
   "outputs": [],
   "source": [
    "import os\n",
    "from PIL import Image\n",
    "import torch\n",
    "from torch.utils.data import Dataset\n",
    "import torchvision.transforms as T\n",
    "import numpy as np\n",
    "\n",
    "# Augmentation Transform\n",
    "augmentation_transform_2d = T.Compose([\n",
    "    T.RandomHorizontalFlip(p=0.5),\n",
    "    T.RandomVerticalFlip(p=0.5),\n",
    "    T.RandomRotation(degrees=90),\n",
    "])\n",
    "\n",
    "class ImageDatasetWithAugmentation(Dataset):\n",
    "    def __init__(self, root_dir, transform=None, augmentation=True, rescale=True, gaussian=False):\n",
    "        \"\"\"\n",
    "        Args:\n",
    "            root_dir (str): Path to the root directory containing 'live' and 'dead' subfolders.\n",
    "            transform (callable, optional): Additional preprocessing or transforms.\n",
    "            augmentation (bool): Whether to apply data augmentation.\n",
    "            rescale (bool): Whether to rescale image intensities to [0, 1].\n",
    "            gaussian (bool): Whether to apply Gaussian blur.\n",
    "        \"\"\"\n",
    "        self.root_dir = root_dir\n",
    "        self.transform = transform\n",
    "        self.augmentation = augmentation\n",
    "        self.rescale = rescale\n",
    "        self.gaussian = gaussian\n",
    "\n",
    "        self.samples = []\n",
    "        self.labels = []\n",
    "\n",
    "        # Collect file paths and labels\n",
    "        for label, class_name in enumerate(['dead', 'live']):\n",
    "            class_dir = os.path.join(root_dir, class_name)\n",
    "            for filename in os.listdir(class_dir):\n",
    "                if filename.endswith('.png'):\n",
    "                    self.samples.append(os.path.join(class_dir, filename))\n",
    "                    self.labels.append(label)\n",
    "\n",
    "    def __len__(self):\n",
    "        return len(self.samples)\n",
    "\n",
    "    def __getitem__(self, idx):\n",
    "        # Load the image\n",
    "        img_path = self.samples[idx]\n",
    "        image = Image.open(img_path).convert('L')  # Load as grayscale\n",
    "\n",
    "        # Convert to numpy array\n",
    "        image_np = np.array(image)\n",
    "\n",
    "        # Rescale\n",
    "        if self.rescale:\n",
    "            image_np = (image_np - image_np.min()) / (image_np.max() - image_np.min())\n",
    "\n",
    "        # Convert to tensor and expand to 3 channels\n",
    "        image_tensor = torch.from_numpy(image_np).float().unsqueeze(0).repeat(3, 1, 1)\n",
    "\n",
    "        # Gaussian blur\n",
    "        if self.gaussian:\n",
    "            image_tensor = T.GaussianBlur(kernel_size=(5, 5))(image_tensor)\n",
    "\n",
    "        # Data augmentation\n",
    "        if self.augmentation:\n",
    "            edge_mean = calculate_edge_mean_2d(image_tensor)\n",
    "            image_tensor = augmentation_transform_2d(image_tensor)\n",
    "            image_tensor[image_tensor == 0] = edge_mean\n",
    "\n",
    "        # Additional transforms\n",
    "        if self.transform:\n",
    "            image_tensor = self.transform(image_tensor)\n",
    "\n",
    "        label = torch.tensor(self.labels[idx]).long()\n",
    "        return image_tensor, label\n",
    "\n",
    "\n",
    "def calculate_edge_mean_2d(tensor):\n",
    "    \"\"\"Calculate mean of edges for a tensor (used in augmentation).\"\"\"\n",
    "    return torch.mean(\n",
    "        torch.cat([tensor[:, 0, :], tensor[:, -1, :], tensor[:, :, 0], tensor[:, :, -1]])\n",
    "    )\n"
   ]
  },
  {
   "cell_type": "code",
   "execution_count": 2,
   "metadata": {},
   "outputs": [],
   "source": [
    "import torch\n",
    "from torch.utils.data import DataLoader, random_split\n",
    "from torchvision.models import resnet101\n",
    "from torchvision import models\n",
    "from torch import nn, optim\n",
    "from torchvision.transforms import Normalize\n",
    "from torch_tomogram_dataset import AugmentedDatasetWrapper\n",
    "\n",
    "# Dataset Parameters\n",
    "train_data_dir = r\"C:\\rkka_Projects\\cell_death_v1\\Data\\output\\train\"\n",
    "val_data_dir = r\"C:\\rkka_Projects\\cell_death_v1\\Data\\output\\val\"\n",
    "batch_size = 32\n",
    "num_epochs = 20\n",
    "learning_rate = 1e-4\n",
    "\n",
    "# Dataset and DataLoader\n",
    "transform = models.ResNet101_Weights.IMAGENET1K_V2.transforms()\n",
    "train_dataset = ImageDatasetWithAugmentation(root_dir=train_data_dir, transform=transform, augmentation=True)\n",
    "val_dataset = ImageDatasetWithAugmentation(root_dir=val_data_dir, transform=transform, augmentation=False)\n",
    "\n",
    "# Augment wrapping\n",
    "train_dataset = AugmentedDatasetWrapper(train_dataset, num_repeats=3)\n",
    "train_loader = DataLoader(train_dataset, batch_size=batch_size, shuffle=True)\n",
    "val_loader = DataLoader(val_dataset, batch_size=batch_size, shuffle=False)"
   ]
  },
  {
   "cell_type": "code",
   "execution_count": null,
   "metadata": {},
   "outputs": [],
   "source": [
    "# Load EfficientNetV2\n",
    "model = resnet101(pretrained=True)  # Use EfficientNetV2-Small\n",
    "num_features = model.fc.in_features\n",
    "model.fc = nn.Sequential(\n",
    "    nn.Dropout(0.2),\n",
    "    nn.Linear(num_features, 2)  # Binary classification (live/dead)\n",
    ")\n",
    "\n",
    "for name, param in model.named_parameters():\n",
    "    if 'layer4.2' in name or 'fc' in name:\n",
    "        param.requires_grad = True\n",
    "    else:\n",
    "        param.requires_grad = False\n",
    "\n",
    "model = model.cuda()\n",
    "\n",
    "# Loss and Optimizer\n",
    "criterion = nn.CrossEntropyLoss()\n",
    "optimizer = optim.Adam(model.parameters(), lr=learning_rate)"
   ]
  },
  {
   "cell_type": "code",
   "execution_count": 4,
   "metadata": {},
   "outputs": [
    {
     "name": "stderr",
     "output_type": "stream",
     "text": [
      "c:\\miniconda3\\envs\\cell\\Lib\\site-packages\\torchvision\\models\\_utils.py:208: UserWarning: The parameter 'pretrained' is deprecated since 0.13 and may be removed in the future, please use 'weights' instead.\n",
      "  warnings.warn(\n",
      "c:\\miniconda3\\envs\\cell\\Lib\\site-packages\\torchvision\\models\\_utils.py:223: UserWarning: Arguments other than a weight enum or `None` for 'weights' are deprecated since 0.13 and may be removed in the future. The current behavior is equivalent to passing `weights=ResNet101_Weights.IMAGENET1K_V1`. You can also use `weights=ResNet101_Weights.DEFAULT` to get the most up-to-date weights.\n",
      "  warnings.warn(msg)\n"
     ]
    }
   ],
   "source": [
    "model = resnet101(pretrained=True)\n",
    "num_features = model.fc.in_features\n",
    "model.fc = nn.Sequential(\n",
    "    nn.Dropout(0.2),\n",
    "    nn.Linear(num_features, 2)\n",
    ")\n",
    "\n",
    "for name, param in model.named_parameters():\n",
    "    if 'layer4.2' in name or 'fc' in name:\n",
    "        param.requires_grad = True\n",
    "    else:\n",
    "        param.requires_grad = False\n",
    "        \n",
    "model = model.cuda()\n",
    "        \n",
    "criterion = nn.CrossEntropyLoss()\n",
    "optimizer = optim.Adam(params=model.parameters(), lr=learning_rate)"
   ]
  },
  {
   "cell_type": "code",
   "execution_count": null,
   "metadata": {},
   "outputs": [],
   "source": [
    "for epoch in range(10):\n",
    "    model.train()\n",
    "    train_loss, train_correct = 0, 0\n",
    "    for images, labels in train_loader:\n",
    "        images, labels = images.cuda(), labels.cuda()\n",
    "        \n",
    "        # Forward Pass\n",
    "        outputs = model(images)\n",
    "        loss = criterion(outputs, labels)\n",
    "        \n",
    "        # Calculate loss and back propagate\n",
    "        optimizer.zero_grad()\n",
    "        loss.backward()\n",
    "        optimizer.step()\n",
    "        \n",
    "        # Accuracy\n",
    "        _, preds = torch.max(outputs, 1)\n",
    "        train_correct += (preds==labels).sum().item()"
   ]
  },
  {
   "cell_type": "code",
   "execution_count": 66,
   "metadata": {},
   "outputs": [
    {
     "name": "stdout",
     "output_type": "stream",
     "text": [
      "Total Parameters: 42,504,258\n",
      "Trainable Parameters: 4,466,690\n"
     ]
    }
   ],
   "source": [
    "# Count total and trainable parameters\n",
    "total_params = sum(p.numel() for p in model.parameters())\n",
    "trainable_params = sum(p.numel() for p in model.parameters() if p.requires_grad)\n",
    "\n",
    "print(f\"Total Parameters: {total_params:,}\")\n",
    "print(f\"Trainable Parameters: {trainable_params:,}\")"
   ]
  },
  {
   "cell_type": "code",
   "execution_count": 50,
   "metadata": {},
   "outputs": [
    {
     "name": "stderr",
     "output_type": "stream",
     "text": [
      "  5%|▌         | 1/20 [00:09<02:55,  9.22s/it]"
     ]
    },
    {
     "name": "stdout",
     "output_type": "stream",
     "text": [
      "Epoch 1/20, Train Loss: 0.0012, Train Acc: 0.9870, Val Loss: 0.0005, Val Acc: 0.9900\n"
     ]
    },
    {
     "name": "stderr",
     "output_type": "stream",
     "text": [
      " 10%|█         | 2/20 [00:18<02:44,  9.13s/it]"
     ]
    },
    {
     "name": "stdout",
     "output_type": "stream",
     "text": [
      "Epoch 2/20, Train Loss: 0.0004, Train Acc: 0.9980, Val Loss: 0.0009, Val Acc: 0.9900\n"
     ]
    },
    {
     "name": "stderr",
     "output_type": "stream",
     "text": [
      " 15%|█▌        | 3/20 [00:27<02:34,  9.08s/it]"
     ]
    },
    {
     "name": "stdout",
     "output_type": "stream",
     "text": [
      "Epoch 3/20, Train Loss: 0.0005, Train Acc: 0.9950, Val Loss: 0.0010, Val Acc: 0.9900\n"
     ]
    },
    {
     "name": "stderr",
     "output_type": "stream",
     "text": [
      " 20%|██        | 4/20 [00:36<02:26,  9.13s/it]"
     ]
    },
    {
     "name": "stdout",
     "output_type": "stream",
     "text": [
      "Epoch 4/20, Train Loss: 0.0003, Train Acc: 0.9990, Val Loss: 0.0010, Val Acc: 0.9900\n"
     ]
    },
    {
     "name": "stderr",
     "output_type": "stream",
     "text": [
      " 20%|██        | 4/20 [00:39<02:36,  9.77s/it]\n"
     ]
    },
    {
     "ename": "KeyboardInterrupt",
     "evalue": "",
     "output_type": "error",
     "traceback": [
      "\u001b[1;31m---------------------------------------------------------------------------\u001b[0m",
      "\u001b[1;31mKeyboardInterrupt\u001b[0m                         Traceback (most recent call last)",
      "Cell \u001b[1;32mIn[50], line 7\u001b[0m\n\u001b[0;32m      5\u001b[0m model\u001b[38;5;241m.\u001b[39mtrain()\n\u001b[0;32m      6\u001b[0m train_loss, train_correct, train_total \u001b[38;5;241m=\u001b[39m \u001b[38;5;241m0\u001b[39m, \u001b[38;5;241m0\u001b[39m, \u001b[38;5;241m0\u001b[39m\n\u001b[1;32m----> 7\u001b[0m \u001b[38;5;28;01mfor\u001b[39;00m images, labels \u001b[38;5;129;01min\u001b[39;00m train_loader:\n\u001b[0;32m      8\u001b[0m     images, labels \u001b[38;5;241m=\u001b[39m images\u001b[38;5;241m.\u001b[39mcuda(), labels\u001b[38;5;241m.\u001b[39mcuda()\n\u001b[0;32m     10\u001b[0m     \u001b[38;5;66;03m# Forward pass\u001b[39;00m\n",
      "File \u001b[1;32mc:\\miniconda3\\envs\\cell\\Lib\\site-packages\\torch\\utils\\data\\dataloader.py:630\u001b[0m, in \u001b[0;36m_BaseDataLoaderIter.__next__\u001b[1;34m(self)\u001b[0m\n\u001b[0;32m    627\u001b[0m \u001b[38;5;28;01mif\u001b[39;00m \u001b[38;5;28mself\u001b[39m\u001b[38;5;241m.\u001b[39m_sampler_iter \u001b[38;5;129;01mis\u001b[39;00m \u001b[38;5;28;01mNone\u001b[39;00m:\n\u001b[0;32m    628\u001b[0m     \u001b[38;5;66;03m# TODO(https://github.com/pytorch/pytorch/issues/76750)\u001b[39;00m\n\u001b[0;32m    629\u001b[0m     \u001b[38;5;28mself\u001b[39m\u001b[38;5;241m.\u001b[39m_reset()  \u001b[38;5;66;03m# type: ignore[call-arg]\u001b[39;00m\n\u001b[1;32m--> 630\u001b[0m data \u001b[38;5;241m=\u001b[39m \u001b[38;5;28mself\u001b[39m\u001b[38;5;241m.\u001b[39m_next_data()\n\u001b[0;32m    631\u001b[0m \u001b[38;5;28mself\u001b[39m\u001b[38;5;241m.\u001b[39m_num_yielded \u001b[38;5;241m+\u001b[39m\u001b[38;5;241m=\u001b[39m \u001b[38;5;241m1\u001b[39m\n\u001b[0;32m    632\u001b[0m \u001b[38;5;28;01mif\u001b[39;00m \u001b[38;5;28mself\u001b[39m\u001b[38;5;241m.\u001b[39m_dataset_kind \u001b[38;5;241m==\u001b[39m _DatasetKind\u001b[38;5;241m.\u001b[39mIterable \u001b[38;5;129;01mand\u001b[39;00m \\\n\u001b[0;32m    633\u001b[0m         \u001b[38;5;28mself\u001b[39m\u001b[38;5;241m.\u001b[39m_IterableDataset_len_called \u001b[38;5;129;01mis\u001b[39;00m \u001b[38;5;129;01mnot\u001b[39;00m \u001b[38;5;28;01mNone\u001b[39;00m \u001b[38;5;129;01mand\u001b[39;00m \\\n\u001b[0;32m    634\u001b[0m         \u001b[38;5;28mself\u001b[39m\u001b[38;5;241m.\u001b[39m_num_yielded \u001b[38;5;241m>\u001b[39m \u001b[38;5;28mself\u001b[39m\u001b[38;5;241m.\u001b[39m_IterableDataset_len_called:\n",
      "File \u001b[1;32mc:\\miniconda3\\envs\\cell\\Lib\\site-packages\\torch\\utils\\data\\dataloader.py:673\u001b[0m, in \u001b[0;36m_SingleProcessDataLoaderIter._next_data\u001b[1;34m(self)\u001b[0m\n\u001b[0;32m    671\u001b[0m \u001b[38;5;28;01mdef\u001b[39;00m \u001b[38;5;21m_next_data\u001b[39m(\u001b[38;5;28mself\u001b[39m):\n\u001b[0;32m    672\u001b[0m     index \u001b[38;5;241m=\u001b[39m \u001b[38;5;28mself\u001b[39m\u001b[38;5;241m.\u001b[39m_next_index()  \u001b[38;5;66;03m# may raise StopIteration\u001b[39;00m\n\u001b[1;32m--> 673\u001b[0m     data \u001b[38;5;241m=\u001b[39m \u001b[38;5;28mself\u001b[39m\u001b[38;5;241m.\u001b[39m_dataset_fetcher\u001b[38;5;241m.\u001b[39mfetch(index)  \u001b[38;5;66;03m# may raise StopIteration\u001b[39;00m\n\u001b[0;32m    674\u001b[0m     \u001b[38;5;28;01mif\u001b[39;00m \u001b[38;5;28mself\u001b[39m\u001b[38;5;241m.\u001b[39m_pin_memory:\n\u001b[0;32m    675\u001b[0m         data \u001b[38;5;241m=\u001b[39m _utils\u001b[38;5;241m.\u001b[39mpin_memory\u001b[38;5;241m.\u001b[39mpin_memory(data, \u001b[38;5;28mself\u001b[39m\u001b[38;5;241m.\u001b[39m_pin_memory_device)\n",
      "File \u001b[1;32mc:\\miniconda3\\envs\\cell\\Lib\\site-packages\\torch\\utils\\data\\_utils\\fetch.py:52\u001b[0m, in \u001b[0;36m_MapDatasetFetcher.fetch\u001b[1;34m(self, possibly_batched_index)\u001b[0m\n\u001b[0;32m     50\u001b[0m         data \u001b[38;5;241m=\u001b[39m \u001b[38;5;28mself\u001b[39m\u001b[38;5;241m.\u001b[39mdataset\u001b[38;5;241m.\u001b[39m__getitems__(possibly_batched_index)\n\u001b[0;32m     51\u001b[0m     \u001b[38;5;28;01melse\u001b[39;00m:\n\u001b[1;32m---> 52\u001b[0m         data \u001b[38;5;241m=\u001b[39m [\u001b[38;5;28mself\u001b[39m\u001b[38;5;241m.\u001b[39mdataset[idx] \u001b[38;5;28;01mfor\u001b[39;00m idx \u001b[38;5;129;01min\u001b[39;00m possibly_batched_index]\n\u001b[0;32m     53\u001b[0m \u001b[38;5;28;01melse\u001b[39;00m:\n\u001b[0;32m     54\u001b[0m     data \u001b[38;5;241m=\u001b[39m \u001b[38;5;28mself\u001b[39m\u001b[38;5;241m.\u001b[39mdataset[possibly_batched_index]\n",
      "File \u001b[1;32mc:\\rkka_Projects\\cell_death_v1\\torch_tomogram_dataset\\augmented_dataset_wrapper.py:15\u001b[0m, in \u001b[0;36mAugmentedDatasetWrapper.__getitem__\u001b[1;34m(self, idx)\u001b[0m\n\u001b[0;32m     12\u001b[0m \u001b[38;5;28;01mdef\u001b[39;00m \u001b[38;5;21m__getitem__\u001b[39m(\u001b[38;5;28mself\u001b[39m, idx):\n\u001b[0;32m     13\u001b[0m     \u001b[38;5;66;03m# Map the index to a sample in the original dataset\u001b[39;00m\n\u001b[0;32m     14\u001b[0m     original_idx \u001b[38;5;241m=\u001b[39m idx \u001b[38;5;241m%\u001b[39m \u001b[38;5;28mlen\u001b[39m(\u001b[38;5;28mself\u001b[39m\u001b[38;5;241m.\u001b[39mdataset)\n\u001b[1;32m---> 15\u001b[0m     sample, label \u001b[38;5;241m=\u001b[39m \u001b[38;5;28mself\u001b[39m\u001b[38;5;241m.\u001b[39mdataset[original_idx]\n\u001b[0;32m     17\u001b[0m     \u001b[38;5;66;03m# Each time we fetch the sample, it will have an augmentation applied\u001b[39;00m\n\u001b[0;32m     18\u001b[0m     \u001b[38;5;28;01mreturn\u001b[39;00m sample, label\n",
      "Cell \u001b[1;32mIn[1], line 58\u001b[0m, in \u001b[0;36mImageDatasetWithAugmentation.__getitem__\u001b[1;34m(self, idx)\u001b[0m\n\u001b[0;32m     55\u001b[0m     image_np \u001b[38;5;241m=\u001b[39m (image_np \u001b[38;5;241m-\u001b[39m image_np\u001b[38;5;241m.\u001b[39mmin()) \u001b[38;5;241m/\u001b[39m (image_np\u001b[38;5;241m.\u001b[39mmax() \u001b[38;5;241m-\u001b[39m image_np\u001b[38;5;241m.\u001b[39mmin())\n\u001b[0;32m     57\u001b[0m \u001b[38;5;66;03m# Convert to tensor and expand to 3 channels\u001b[39;00m\n\u001b[1;32m---> 58\u001b[0m image_tensor \u001b[38;5;241m=\u001b[39m torch\u001b[38;5;241m.\u001b[39mfrom_numpy(image_np)\u001b[38;5;241m.\u001b[39mfloat()\u001b[38;5;241m.\u001b[39munsqueeze(\u001b[38;5;241m0\u001b[39m)\u001b[38;5;241m.\u001b[39mrepeat(\u001b[38;5;241m3\u001b[39m, \u001b[38;5;241m1\u001b[39m, \u001b[38;5;241m1\u001b[39m)\n\u001b[0;32m     60\u001b[0m \u001b[38;5;66;03m# Gaussian blur\u001b[39;00m\n\u001b[0;32m     61\u001b[0m \u001b[38;5;28;01mif\u001b[39;00m \u001b[38;5;28mself\u001b[39m\u001b[38;5;241m.\u001b[39mgaussian:\n",
      "\u001b[1;31mKeyboardInterrupt\u001b[0m: "
     ]
    }
   ],
   "source": [
    "\n",
    "from tqdm import tqdm\n",
    "\n",
    "# Training Loop\n",
    "for epoch in tqdm(range(num_epochs)):\n",
    "    model.train()\n",
    "    train_loss, train_correct, train_total = 0, 0, 0\n",
    "    for images, labels in train_loader:\n",
    "        images, labels = images.cuda(), labels.cuda()\n",
    "\n",
    "        # Forward pass\n",
    "        outputs = model(images)\n",
    "        loss = criterion(outputs, labels)\n",
    "        train_loss += loss.item()\n",
    "\n",
    "        # Backward pass\n",
    "        optimizer.zero_grad()\n",
    "        loss.backward()\n",
    "        optimizer.step()\n",
    "\n",
    "        # Accuracy\n",
    "        _, preds = torch.max(outputs, 1)\n",
    "        train_correct += (preds == labels).sum().item()\n",
    "        train_total += len(labels)\n",
    "\n",
    "    val_loss, val_correct, val_total = 0, 0, 0\n",
    "    model.eval()\n",
    "    with torch.no_grad():\n",
    "        for images, labels in val_loader:\n",
    "            images, labels = images.cuda(), labels.cuda()\n",
    "            \n",
    "            outputs = model(images)\n",
    "            loss = criterion(outputs, labels)\n",
    "            val_loss += loss.item()\n",
    "            \n",
    "            _, preds = torch.max(outputs, 1)\n",
    "            val_correct += (preds == labels).sum().item()\n",
    "            val_total += len(labels)\n",
    "    print(\n",
    "        f\"Epoch {epoch+1}/{num_epochs}, \"\n",
    "        f\"Train Loss: {train_loss/train_total:.4f}, Train Acc: {train_correct/train_total:.4f}, \"\n",
    "        f\"Val Loss: {val_loss/val_total:.4f}, Val Acc: {val_correct/val_total:.4f}\"\n",
    "    )\n"
   ]
  },
  {
   "cell_type": "code",
   "execution_count": 26,
   "metadata": {},
   "outputs": [
    {
     "data": {
      "text/plain": [
       "tensor([0, 0, 1, 1, 0, 0, 1, 0, 1, 1, 1, 1, 1, 1, 1, 0, 1, 0, 1, 0, 1, 1, 1, 1,\n",
       "        0, 0, 0, 0, 1, 1, 1, 1], device='cuda:0')"
      ]
     },
     "execution_count": 26,
     "metadata": {},
     "output_type": "execute_result"
    }
   ],
   "source": [
    "c, preds = torch.max(outputs, 1)\n",
    "preds"
   ]
  },
  {
   "cell_type": "code",
   "execution_count": 29,
   "metadata": {},
   "outputs": [
    {
     "name": "stderr",
     "output_type": "stream",
     "text": [
      "C:\\Users\\김민욱\\AppData\\Local\\Temp\\ipykernel_1664\\3266578923.py:1: UserWarning: Implicit dimension choice for softmax has been deprecated. Change the call to include dim=X as an argument.\n",
      "  torch.nn.functional.softmax(outputs)[2]\n"
     ]
    },
    {
     "data": {
      "text/plain": [
       "tensor([0.0317, 0.9683], device='cuda:0', grad_fn=<SelectBackward0>)"
      ]
     },
     "execution_count": 29,
     "metadata": {},
     "output_type": "execute_result"
    }
   ],
   "source": [
    "torch.nn.functional.softmax(outputs)[2]"
   ]
  },
  {
   "cell_type": "code",
   "execution_count": 4,
   "metadata": {},
   "outputs": [
    {
     "ename": "NameError",
     "evalue": "name 'model' is not defined",
     "output_type": "error",
     "traceback": [
      "\u001b[1;31m---------------------------------------------------------------------------\u001b[0m",
      "\u001b[1;31mNameError\u001b[0m                                 Traceback (most recent call last)",
      "Cell \u001b[1;32mIn[4], line 2\u001b[0m\n\u001b[0;32m      1\u001b[0m \u001b[38;5;28;01mimport\u001b[39;00m \u001b[38;5;21;01mtorch\u001b[39;00m\n\u001b[1;32m----> 2\u001b[0m torch\u001b[38;5;241m.\u001b[39msave(\u001b[38;5;124m'\u001b[39m\u001b[38;5;124mqpi_model.pth\u001b[39m\u001b[38;5;124m'\u001b[39m, model\u001b[38;5;241m.\u001b[39mstate_dict)\n",
      "\u001b[1;31mNameError\u001b[0m: name 'model' is not defined"
     ]
    }
   ],
   "source": [
    "import torch\n",
    "torch.save('qpi_model.pth', model.state_dict)"
   ]
  },
  {
   "cell_type": "code",
   "execution_count": null,
   "metadata": {},
   "outputs": [],
   "source": []
  },
  {
   "cell_type": "code",
   "execution_count": 73,
   "metadata": {},
   "outputs": [
    {
     "name": "stdout",
     "output_type": "stream",
     "text": [
      "Processed 00.png: Death Probability = 0.0003\n",
      "Processed 01.png: Death Probability = 0.0005\n",
      "Processed 02.png: Death Probability = 0.0002\n",
      "Processed 03.png: Death Probability = 0.0070\n",
      "Processed 04.png: Death Probability = 0.0007\n",
      "Processed 05.png: Death Probability = 0.0257\n",
      "Processed 06.png: Death Probability = 0.0005\n",
      "Processed 07.png: Death Probability = 0.0007\n",
      "Processed 08.png: Death Probability = 0.0012\n",
      "Processed 09.png: Death Probability = 0.0032\n",
      "Processed 10.png: Death Probability = 0.0115\n",
      "Processed 11.png: Death Probability = 0.0175\n",
      "Processed 12.png: Death Probability = 0.0108\n",
      "Processed 13.png: Death Probability = 0.0028\n",
      "Processed 14.png: Death Probability = 0.0904\n",
      "Processed 15.png: Death Probability = 0.0457\n",
      "Processed 16.png: Death Probability = 0.9558\n",
      "Processed 17.png: Death Probability = 0.5270\n",
      "Processed 18.png: Death Probability = 0.9790\n",
      "Processed 19.png: Death Probability = 0.9840\n",
      "Processed 20.png: Death Probability = 0.9969\n",
      "Processed 21.png: Death Probability = 0.9706\n",
      "Processed 22.png: Death Probability = 0.9854\n",
      "Processed 23.png: Death Probability = 0.9802\n",
      "Processed 24.png: Death Probability = 0.9961\n",
      "Processed 25.png: Death Probability = 0.9979\n",
      "Processed 26.png: Death Probability = 0.9996\n",
      "Processed 27.png: Death Probability = 0.9985\n",
      "Processed 28.png: Death Probability = 0.9925\n",
      "Processed 29.png: Death Probability = 0.9996\n",
      "Processed 30.png: Death Probability = 0.9987\n",
      "Processed 31.png: Death Probability = 0.9973\n",
      "Processed 32.png: Death Probability = 0.9760\n",
      "Processed 33.png: Death Probability = 0.9959\n",
      "Processed 34.png: Death Probability = 0.9656\n",
      "Processed 35.png: Death Probability = 0.9837\n"
     ]
    }
   ],
   "source": [
    "model.eval()  # Set model to evaluation mode\n",
    "model = model.cuda()\n",
    "\n",
    "# Transform for input preprocessing\n",
    "transform = models.ResNet101_Weights.IMAGENET1K_V2.transforms()\n",
    "\n",
    "# Folder containing timelapse PNG images\n",
    "test_folder = r\"C:\\rkka_Projects\\cell_death_v1\\Data\\test\"\n",
    "\n",
    "# Ensure the files are sorted by their names\n",
    "file_list = sorted([f for f in os.listdir(test_folder) if f.endswith('.png')])\n",
    "\n",
    "# List to store death probabilities\n",
    "death_probabilities = []\n",
    "\n",
    "# Predict death probabilities for sorted PNG files\n",
    "with torch.no_grad():  # Disable gradient computation\n",
    "    for filename in file_list:\n",
    "        file_path = os.path.join(test_folder, filename)\n",
    "\n",
    "        # Load and preprocess the image\n",
    "        image = Image.open(file_path).convert('RGB')  # Ensure RGB channels\n",
    "        input_tensor = transform(image).unsqueeze(0).cuda()  # Add batch dimension\n",
    "\n",
    "        # Forward pass through the model\n",
    "        output = model(input_tensor)  # Shape: (1, 2)\n",
    "        probabilities = torch.nn.functional.softmax(output, dim=1)  # Convert to probabilities\n",
    "\n",
    "        # Extract the death probability (class index 1)\n",
    "        death_probability = probabilities[0, 0].item()\n",
    "        death_probabilities.append(death_probability)\n",
    "\n",
    "        print(f\"Processed {filename}: Death Probability = {death_probability:.4f}\")"
   ]
  },
  {
   "cell_type": "code",
   "execution_count": 74,
   "metadata": {},
   "outputs": [
    {
     "data": {
      "text/plain": [
       "[<matplotlib.lines.Line2D at 0x1c7390baea0>]"
      ]
     },
     "execution_count": 74,
     "metadata": {},
     "output_type": "execute_result"
    },
    {
     "data": {
      "image/png": "[encoded data removed]",
      "text/plain": [
       "<Figure size 640x480 with 1 Axes>"
      ]
     },
     "metadata": {},
     "output_type": "display_data"
    }
   ],
   "source": [
    "import matplotlib.pyplot as plt\n",
    "plt.ylim(0,1)\n",
    "plt.plot(death_probabilities)"
   ]
  },
  {
   "cell_type": "code",
   "execution_count": 31,
   "metadata": {},
   "outputs": [],
   "source": [
    "import os\n",
    "\n",
    "file_list = []\n",
    "\n",
    "for f in os.listdir(r\"C:\\rkka_Projects\\cell_death_v1\\Data\\test\"):\n",
    "    if f.endswith('.png'):\n",
    "        file_list.append(f)"
   ]
  },
  {
   "cell_type": "code",
   "execution_count": 48,
   "metadata": {},
   "outputs": [],
   "source": [
    "import torch\n",
    "from torch.utils.data import Dataset, DataLoader\n",
    "from torch_tomogram_dataset.utils import calculate_edge_mean_2d\n",
    "from torch_tomogram_dataset.transforms import augmentation_transform_2d\n",
    "from PIL import Image\n",
    "\n",
    "class Cata(Dataset):\n",
    "    def __init__(self, root_dir, transform=None, augmentation=False):\n",
    "        super().__init__()\n",
    "        \n",
    "        self.root_dir = root_dir\n",
    "        self.augmentation = augmentation\n",
    "        self.transform = transform\n",
    "        self.samples = []\n",
    "        self.labels = []\n",
    "        \n",
    "        states = ['live', 'dead']\n",
    "        for label, state in enumerate(states):\n",
    "            path = os.path.join(self.root_dir, state)\n",
    "            for file in os.listdir(path):\n",
    "                if file.endswith('.png'):\n",
    "                    self.samples.append(os.path.join(path, file))\n",
    "                    self.labels.append(label)\n",
    "    \n",
    "    def __len__(self):\n",
    "        return len(self.samples)\n",
    "    \n",
    "    def __getitem__(self, idx):\n",
    "        image = Image.open(self.samples[idx]).convert('L')\n",
    "        image = np.array(image)\n",
    "        image = torch.from_numpy(image)\n",
    "        label = self.labels[idx]\n",
    "        \n",
    "        if transform is not None:\n",
    "            image = transform(image)\n",
    "        \n",
    "        # Rotation with edge mean filling\n",
    "        if self.augmentation:\n",
    "            edge_mean = calculate_edge_mean_2d(image_tensor)\n",
    "            image_tensor = augmentation_transform_2d(image_tensor)\n",
    "            image_tensor[image_tensor==0] = edge_mean\n",
    "        \n",
    "        return image, label"
   ]
  }
 ],
 "metadata": {
  "kernelspec": {
   "display_name": "cell",
   "language": "python",
   "name": "python3"
  },
  "language_info": {
   "codemirror_mode": {
    "name": "ipython",
    "version": 3
   },
   "file_extension": ".py",
   "mimetype": "text/x-python",
   "name": "python",
   "nbconvert_exporter": "python",
   "pygments_lexer": "ipython3",
   "version": "3.12.4"
  }
 },
 "nbformat": 4,
 "nbformat_minor": 2
}
