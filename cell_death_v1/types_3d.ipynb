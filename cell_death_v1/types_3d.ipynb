{
 "cells": [
  {
   "cell_type": "code",
   "execution_count": 45,
   "metadata": {},
   "outputs": [],
   "source": [
    "import os\n",
    "import numpy as np\n",
    "import torch\n",
    "from torch.utils.data import Dataset, DataLoader\n",
    "from TCFile import TCFile\n",
    "import torchvision\n",
    "import matplotlib.pyplot as plt\n",
    "import utils"
   ]
  },
  {
   "cell_type": "code",
   "execution_count": 48,
   "metadata": {},
   "outputs": [],
   "source": [
    "from utils.models.transforms import augmentation_transform_3d\n",
    "import tifffile\n",
    "\n",
    "class type_3d_dataset(Dataset):\n",
    "    def __init__(self, root_dir, sample_D, transform=None, augmentation=False):\n",
    "        \n",
    "        self.data_path = []\n",
    "        self.sample_D = sample_D\n",
    "        self.transform = transform\n",
    "        self.augmentation = augmentation\n",
    "        \n",
    "        pathways = ['apoptosis', 'necroptosis', 'necrosis', 'live']\n",
    "        for pathway_label, pathway in enumerate(pathways):\n",
    "            pathway_dir = os.path.join(root_dir, pathway)\n",
    "            for i in os.listdir(pathway_dir):\n",
    "                tif_path = os.path.join(pathway_dir, i)\n",
    "                self.data_path.append((tif_path, pathway_label))\n",
    "    \n",
    "    def __len__(self):\n",
    "        return len(self.data_path)\n",
    "    \n",
    "    def __getitem__(self, idx):\n",
    "        image, label = tifffile.imread(self.data_path[idx][0]), self.data_path[idx][1]\n",
    "        image_tensor = torch.from_numpy(image)\n",
    "        image_tensor = 255 * (image_tensor - torch.min(image_tensor))/(torch.max(image_tensor) - torch.min(image_tensor))\n",
    "        image_tensor = image_tensor.to(torch.int)\n",
    "        \n",
    "        if image_tensor.shape[0] != self.sample_D:\n",
    "            difference = image_tensor.shape[0] - self.sample_D\n",
    "            image_tensor = image_tensor[difference//2 : image_tensor.shape[0]-difference//2, :, :]\n",
    "        \n",
    "        image_tensor = image_tensor.unsqueeze(1).repeat(1,3,1,1)\n",
    "        \n",
    "        # Prebuilt transform\n",
    "        if self.transform:\n",
    "            image_tensor = self.transform(image_tensor)\n",
    "        \n",
    "        # Rotation with edge mean filling\n",
    "        if self.augmentation:\n",
    "            image_tensor = augmentation_transform_3d(image_tensor)\n",
    "            \n",
    "        return image_tensor, label"
   ]
  },
  {
   "cell_type": "code",
   "execution_count": 2,
   "metadata": {},
   "outputs": [],
   "source": [
    "from utils.models.transforms import augmentation_transform_3d\n",
    "import tifffile\n",
    "\n",
    "class type_3d_dataset(Dataset):\n",
    "    def __init__(self, root_dir, transform=None, augmentation=False):\n",
    "        \n",
    "        self.data = []\n",
    "        self.transform = transform\n",
    "        self.augmentation = augmentation\n",
    "        \n",
    "        pathways = ['apoptosis', 'necroptosis', 'necrosis', 'live']\n",
    "        for pathway_label, pathway in enumerate(pathways):\n",
    "            pathway_dir = os.path.join(root_dir, pathway)\n",
    "            for i in os.listdir(pathway_dir):\n",
    "                image_path = os.path.join(pathway_dir, i)\n",
    "                image_3d = tifffile.imread(image_path)\n",
    "                self.data.append((image_3d, pathway_label))\n",
    "    \n",
    "    def __len__(self):\n",
    "        return len(self.data)\n",
    "    \n",
    "    def __getitem__(self, idx):\n",
    "        image_3d, label = self.data[idx][0], self.data[idx][1]\n",
    "        image_tensor = torch.from_numpy(image_3d)\n",
    "        image_tensor = 255 * (image_tensor - torch.min(image_tensor))/(torch.max(image_tensor) - torch.min(image_tensor))\n",
    "        image_tensor = image_tensor.to(torch.int)\n",
    "        image_tensor = image_tensor.unsqueeze(1).repeat(1,3,1,1)\n",
    "        \n",
    "        # Prebuilt transform\n",
    "        if self.transform:\n",
    "            image_tensor = self.transform(image_tensor)\n",
    "        \n",
    "        # Rotation with edge mean filling\n",
    "        if self.augmentation:\n",
    "            image_tensor = augmentation_transform_3d(image_tensor)\n",
    "            \n",
    "        return image_tensor, label"
   ]
  },
  {
   "cell_type": "code",
   "execution_count": 49,
   "metadata": {},
   "outputs": [
    {
     "ename": "TypeError",
     "evalue": "type_3d_dataset.__init__() missing 1 required positional argument: 'sample_D'",
     "output_type": "error",
     "traceback": [
      "\u001b[1;31m---------------------------------------------------------------------------\u001b[0m",
      "\u001b[1;31mTypeError\u001b[0m                                 Traceback (most recent call last)",
      "Cell \u001b[1;32mIn[49], line 6\u001b[0m\n\u001b[0;32m      3\u001b[0m val_dir \u001b[38;5;241m=\u001b[39m \u001b[38;5;124mr\u001b[39m\u001b[38;5;124m\"\u001b[39m\u001b[38;5;124mC:\u001b[39m\u001b[38;5;124m\\\u001b[39m\u001b[38;5;124mrkka_Projects\u001b[39m\u001b[38;5;124m\\\u001b[39m\u001b[38;5;124mcell_death_v1\u001b[39m\u001b[38;5;124m\\\u001b[39m\u001b[38;5;124mData\u001b[39m\u001b[38;5;124m\\\u001b[39m\u001b[38;5;124mHela_Segmentation_test_PWS\u001b[39m\u001b[38;5;124m\\\u001b[39m\u001b[38;5;124mTCF\u001b[39m\u001b[38;5;124m\\\u001b[39m\u001b[38;5;124mtest\u001b[39m\u001b[38;5;124m\\\u001b[39m\u001b[38;5;124mpathway_test_3d\u001b[39m\u001b[38;5;124m\"\u001b[39m\n\u001b[0;32m      5\u001b[0m \u001b[38;5;66;03m# transform = models.video.R3D_18_Weights.KINETICS400_V1.transforms()\u001b[39;00m\n\u001b[1;32m----> 6\u001b[0m train_dataset \u001b[38;5;241m=\u001b[39m type_3d_dataset(train_dir, augmentation\u001b[38;5;241m=\u001b[39m\u001b[38;5;28;01mTrue\u001b[39;00m)\n\u001b[0;32m      7\u001b[0m val_dataset \u001b[38;5;241m=\u001b[39m type_3d_dataset(val_dir, )\n\u001b[0;32m      8\u001b[0m aug_train_dataset \u001b[38;5;241m=\u001b[39m AugmentedDatasetWrapper(train_dataset, num_repeats\u001b[38;5;241m=\u001b[39m\u001b[38;5;241m2\u001b[39m)\n",
      "\u001b[1;31mTypeError\u001b[0m: type_3d_dataset.__init__() missing 1 required positional argument: 'sample_D'"
     ]
    }
   ],
   "source": [
    "from utils import AugmentedDatasetWrapper\n",
    "train_dir = r\"C:\\rkka_Projects\\cell_death_v1\\Data\\Hela_Segmentation_test_PWS\\TCF\\pathway_train_3d\"\n",
    "val_dir = r\"C:\\rkka_Projects\\cell_death_v1\\Data\\Hela_Segmentation_test_PWS\\TCF\\test\\pathway_test_3d\"\n",
    "\n",
    "# transform = models.video.R3D_18_Weights.KINETICS400_V1.transforms()\n",
    "train_dataset = type_3d_dataset(train_dir, augmentation=True)\n",
    "val_dataset = type_3d_dataset(val_dir, )\n",
    "aug_train_dataset = AugmentedDatasetWrapper(train_dataset, num_repeats=2)\n",
    "\n",
    "train_loader = DataLoader(dataset=aug_train_dataset, batch_size=16)\n",
    "val_loader = DataLoader(dataset=val_dataset, batch_size=16)"
   ]
  },
  {
   "cell_type": "code",
   "execution_count": 20,
   "metadata": {},
   "outputs": [
    {
     "name": "stdout",
     "output_type": "stream",
     "text": [
      "Total Parameters: 33,168,324\n",
      "Trainable Parameters: 24,910,852\n"
     ]
    }
   ],
   "source": [
    "import utils\n",
    "\n",
    "model = torchvision.models.video.r3d_18(pretrained=True)\n",
    "num_features = model.fc.in_features\n",
    "model.fc = torch.nn.Sequential(\n",
    "    torch.nn.Dropout(0.2),\n",
    "    torch.nn.Linear(num_features, 4)\n",
    ")\n",
    "\n",
    "for name, param in model.named_parameters():\n",
    "    if 'layer4' in name or 'fc' in name:\n",
    "        param.requires_grad = True\n",
    "    else:\n",
    "        param.requires_grad = False\n",
    "\n",
    "utils.print_trainable_parameters(model)"
   ]
  },
  {
   "cell_type": "markdown",
   "metadata": {},
   "source": [
    "<h1> resnet50 </h1>"
   ]
  },
  {
   "cell_type": "code",
   "execution_count": 50,
   "metadata": {},
   "outputs": [],
   "source": [
    "import os\n",
    "import numpy as np\n",
    "import torch\n",
    "from torch.utils.data import Dataset, DataLoader\n",
    "from TCFile import TCFile\n",
    "import torchvision\n",
    "import matplotlib.pyplot as plt\n",
    "import utils"
   ]
  },
  {
   "cell_type": "code",
   "execution_count": 2,
   "metadata": {},
   "outputs": [],
   "source": [
    "from models.transforms import augmentation_transform_3d\n",
    "import tifffile\n",
    "\n",
    "class type_3d_dataset(Dataset):\n",
    "    def __init__(self, root_dir, sample_size, transform=None, augmentation=False):\n",
    "        \n",
    "        self.data = []\n",
    "        self.sample_D = sample_size[0]\n",
    "        self.sample_H = sample_size[1]\n",
    "        self.sample_W = sample_size[2]\n",
    "        self.min_ri_list = []\n",
    "        self.max_ri_list = []\n",
    "        self.transform = transform\n",
    "        self.augmentation = augmentation\n",
    "        \n",
    "        pathways = ['apoptosis', 'necroptosis', 'necrosis', 'live']\n",
    "        for pathway_label, pathway in enumerate(pathways):\n",
    "            pathway_dir = os.path.join(root_dir, pathway)\n",
    "            for i in os.listdir(pathway_dir):\n",
    "                image_path = os.path.join(pathway_dir, i)\n",
    "                image_3d = tifffile.imread(image_path)\n",
    "                image_tensor = torch.from_numpy(image_3d).unsqueeze(0).unsqueeze(0)\n",
    "                \n",
    "                image_tensor = torch.nn.functional.interpolate(\n",
    "                    image_tensor,\n",
    "                    size=(self.sample_D, self.sample_H, self.sample_W),\n",
    "                    mode='trilinear',\n",
    "                    align_corners=False\n",
    "                )\n",
    "                \n",
    "                image_tensor = image_tensor.squeeze(0).squeeze(0)\n",
    "                self.min_ri_list.append(torch.min(image_tensor))\n",
    "                self.max_ri_list.append(torch.max(image_tensor))\n",
    "                self.data.append((image_tensor, pathway_label))\n",
    "\n",
    "        self.min_ri = np.min(np.array(self.min_ri_list))\n",
    "        self.max_ri = np.max(np.array(self.max_ri_list))\n",
    "        \n",
    "    def __len__(self):\n",
    "        return len(self.data)\n",
    "    \n",
    "    def __getitem__(self, idx):\n",
    "        image_tensor, label = self.data[idx][0], self.data[idx][1]\n",
    "        image_tensor = 255 * (image_tensor - self.min_ri)/(self.max_ri - self.min_ri)\n",
    "        image_tensor = image_tensor.to(torch.int)\n",
    "        image_tensor = image_tensor.to(torch.float)\n",
    "        \n",
    "        image_tensor = image_tensor.unsqueeze(0)\n",
    "        image_tensor = image_tensor.repeat(3,1,1,1)\n",
    "\n",
    "        \n",
    "        # Prebuilt transform\n",
    "        if self.transform:\n",
    "            image_tensor = self.transform(image_tensor)\n",
    "        \n",
    "        # Rotation with edge mean filling\n",
    "        if self.augmentation:\n",
    "            image_tensor = augmentation_transform_3d(image_tensor)\n",
    "            \n",
    "        return image_tensor, label"
   ]
  },
  {
   "cell_type": "code",
   "execution_count": 51,
   "metadata": {},
   "outputs": [],
   "source": [
    "from utils.models.transforms import augmentation_transform_3d\n",
    "import tifffile\n",
    "import torchvision\n",
    "\n",
    "class type_3d_dataset(Dataset):\n",
    "    def __init__(self, root_dir, sample_size, transform=None, augmentation=False):\n",
    "        \n",
    "        self.data = []\n",
    "        self.sample_D = sample_size[0]\n",
    "        self.sample_H = sample_size[1]\n",
    "        self.sample_W = sample_size[2]\n",
    "        self.min_ri_list = []\n",
    "        self.max_ri_list = []\n",
    "        self.transform = transform\n",
    "        self.augmentation = augmentation\n",
    "        \n",
    "        pathways = ['apoptosis', 'necroptosis', 'necrosis', 'live']\n",
    "        for pathway_label, pathway in enumerate(pathways):\n",
    "            pathway_dir = os.path.join(root_dir, pathway)\n",
    "            for i in os.listdir(pathway_dir):\n",
    "                image_path = os.path.join(pathway_dir, i)\n",
    "                image_3d = tifffile.imread(image_path)\n",
    "                image_tensor = torch.from_numpy(image_3d).unsqueeze(0).unsqueeze(0)\n",
    "                \n",
    "                image_tensor = torch.nn.functional.interpolate(\n",
    "                    image_tensor,\n",
    "                    size=(self.sample_D, self.sample_H, self.sample_W),\n",
    "                    mode='trilinear',\n",
    "                    align_corners=False\n",
    "                )\n",
    "                \n",
    "                image_tensor = image_tensor.squeeze(0).squeeze(0)\n",
    "                self.min_ri_list.append(torch.min(image_tensor))\n",
    "                self.max_ri_list.append(torch.max(image_tensor))\n",
    "                self.data.append((image_tensor, pathway_label))\n",
    "\n",
    "        self.min_ri = np.min(np.array(self.min_ri_list))\n",
    "        self.max_ri = np.max(np.array(self.max_ri_list))\n",
    "        self.normalizer = torchvision.transforms.Normalize(mean=[0.43216, 0.394666, 0.37645], std=[0.22803, 0.22145, 0.216989])\n",
    "        \n",
    "    def __len__(self):\n",
    "        return len(self.data)\n",
    "    \n",
    "    def __getitem__(self, idx):\n",
    "        image_tensor, label = self.data[idx][0], self.data[idx][1]\n",
    "        \n",
    "        # Step 1 : Rescale to [0.0, 1.0]\n",
    "        image_tensor = (image_tensor - self.min_ri)/(self.max_ri - self.min_ri)\n",
    "\n",
    "        # Step 2 : Make RGB channel - C\n",
    "        image_tensor = image_tensor.unsqueeze(0)\n",
    "        image_tensor = image_tensor.repeat(3,1,1,1) # (C, D, H, W)\n",
    "\n",
    "        # Step 3: Normalize using RGB mean and std\n",
    "        for c in range(3):\n",
    "            image_tensor[c] = (image_tensor[c] - self.normalizer.mean[c]) / self.normalizer.std[c]\n",
    "\n",
    "        \n",
    "        # Prebuilt transform\n",
    "        if self.transform:\n",
    "            image_tensor = self.transform(image_tensor)\n",
    "        \n",
    "        # Rotation with edge mean filling\n",
    "        if self.augmentation:\n",
    "            image_tensor = augmentation_transform_3d(image_tensor)\n",
    "            \n",
    "        return image_tensor, label"
   ]
  },
  {
   "cell_type": "code",
   "execution_count": 52,
   "metadata": {},
   "outputs": [],
   "source": [
    "import utils\n",
    "train_dir = r\"C:\\rkka_Projects\\cell_death_v1\\Data\\Hela_Segmentation_test_PWS\\TCF\\pathway_train_3d\"\n",
    "val_dir = r\"C:\\rkka_Projects\\cell_death_v1\\Data\\Hela_Segmentation_test_PWS\\TCF\\test\\pathway_test_3d\"\n",
    "\n",
    "# transform = models.video.R3D_18_Weights.KINETICS400_V1.transforms()\n",
    "train_dataset = type_3d_dataset(train_dir, (60, 112, 112), augmentation=True)\n",
    "val_dataset = type_3d_dataset(val_dir, (60, 112, 112))\n",
    "aug_train_dataset = utils.AugmentedDatasetWrapper(train_dataset, num_repeats=3)\n",
    "\n",
    "train_loader = DataLoader(dataset=aug_train_dataset, batch_size=16)\n",
    "val_loader = DataLoader(dataset=val_dataset, batch_size=16)"
   ]
  },
  {
   "cell_type": "code",
   "execution_count": 114,
   "metadata": {},
   "outputs": [
    {
     "data": {
      "text/plain": [
       "(1.3207525, 1.4249475)"
      ]
     },
     "execution_count": 114,
     "metadata": {},
     "output_type": "execute_result"
    }
   ],
   "source": [
    "train_dataset.min_ri, train_dataset.max_ri"
   ]
  },
  {
   "cell_type": "code",
   "execution_count": 54,
   "metadata": {},
   "outputs": [
    {
     "data": {
      "text/plain": [
       "(1.32033, 1.4274234)"
      ]
     },
     "execution_count": 54,
     "metadata": {},
     "output_type": "execute_result"
    }
   ],
   "source": [
    "val_dataset.min_ri, val_dataset.max_ri"
   ]
  },
  {
   "cell_type": "code",
   "execution_count": 4,
   "metadata": {},
   "outputs": [
    {
     "name": "stderr",
     "output_type": "stream",
     "text": [
      "c:\\miniconda3\\envs\\cell\\Lib\\site-packages\\torchvision\\models\\_utils.py:208: UserWarning: The parameter 'pretrained' is deprecated since 0.13 and may be removed in the future, please use 'weights' instead.\n",
      "  warnings.warn(\n",
      "c:\\miniconda3\\envs\\cell\\Lib\\site-packages\\torchvision\\models\\_utils.py:223: UserWarning: Arguments other than a weight enum or `None` for 'weights' are deprecated since 0.13 and may be removed in the future. The current behavior is equivalent to passing `weights=R3D_18_Weights.KINETICS400_V1`. You can also use `weights=R3D_18_Weights.DEFAULT` to get the most up-to-date weights.\n",
      "  warnings.warn(msg)\n"
     ]
    },
    {
     "name": "stdout",
     "output_type": "stream",
     "text": [
      "Total Parameters: 33,168,324\n",
      "Trainable Parameters: 24,910,852\n"
     ]
    }
   ],
   "source": [
    "import utils\n",
    "model = torchvision.models.video.r3d_18(pretrained=True)\n",
    "num_features = model.fc.in_features\n",
    "model.fc = torch.nn.Sequential(\n",
    "    torch.nn.Dropout(0.2),\n",
    "    torch.nn.Linear(num_features, 4)\n",
    ")\n",
    "\n",
    "for name, params in model.named_parameters():\n",
    "    if 'layer4' in name or 'fc' in name:\n",
    "        params.requires_grad = True\n",
    "    else:\n",
    "        params.requires_grad = False\n",
    "\n",
    "utils.models.print_trainable_parameters(model)"
   ]
  },
  {
   "cell_type": "code",
   "execution_count": 4,
   "metadata": {},
   "outputs": [
    {
     "name": "stderr",
     "output_type": "stream",
     "text": [
      "Using cache found in C:\\Users\\김민욱/.cache\\torch\\hub\\facebookresearch_pytorchvideo_main\n"
     ]
    },
    {
     "name": "stdout",
     "output_type": "stream",
     "text": [
      "Total Parameters: 31,642,692\n",
      "Trainable Parameters: 31,642,692\n"
     ]
    }
   ],
   "source": [
    "import torch\n",
    "\n",
    "# Load a pretrained slow_r50 (ResNet50) on Kinetics-400.\n",
    "model = torch.hub.load(\"facebookresearch/pytorchvideo\", \"slow_r50\", pretrained=True)\n",
    "\n",
    "# The last linear layer is stored in model.blocks[-1].proj for slow_r50\n",
    "in_features = model.blocks[-1].proj.in_features  # Should be 2048\n",
    "model.blocks[-1].proj = torch.nn.Linear(in_features, 4)  # 4 classes\n",
    "    \n",
    "utils.print_trainable_parameters(model)"
   ]
  },
  {
   "cell_type": "code",
   "execution_count": 5,
   "metadata": {},
   "outputs": [],
   "source": [
    "model = model.cuda()\n",
    "criterion = torch.nn.CrossEntropyLoss()\n",
    "optimizer = torch.optim.Adam(params=model.parameters(), lr=0.001)"
   ]
  },
  {
   "cell_type": "code",
   "execution_count": 6,
   "metadata": {},
   "outputs": [
    {
     "name": "stderr",
     "output_type": "stream",
     "text": [
      "  0%|          | 0/30 [00:00<?, ?it/s]c:\\miniconda3\\envs\\cell\\Lib\\site-packages\\torchio\\data\\image.py:251: UserWarning: Using TorchIO images without a torchio.SubjectsLoader in PyTorch >= 2.3 might have unexpected consequences, e.g., the collated batches will be instances of torchio.Subject with 5D images. Replace your PyTorch DataLoader with a torchio.SubjectsLoader so that the collated batch becomes a dictionary, as expected. See https://github.com/fepegar/torchio/issues/1179 for more context about this issue.\n",
      "  warnings.warn(message, stacklevel=1)\n",
      "  3%|▎         | 1/30 [01:01<29:35, 61.21s/it]"
     ]
    },
    {
     "name": "stdout",
     "output_type": "stream",
     "text": [
      "Epoch : 0\n",
      "train loss : 0.115424 || train_acc : 0.1193\n",
      "val loss : 0.077333 || val_acc : 0.4483\n"
     ]
    },
    {
     "name": "stderr",
     "output_type": "stream",
     "text": [
      "  7%|▋         | 2/30 [02:01<28:10, 60.38s/it]"
     ]
    },
    {
     "name": "stdout",
     "output_type": "stream",
     "text": [
      "Epoch : 1\n",
      "train loss : 0.093987 || train_acc : 0.2418\n",
      "val loss : 0.064868 || val_acc : 0.5172\n"
     ]
    },
    {
     "name": "stderr",
     "output_type": "stream",
     "text": [
      " 10%|█         | 3/30 [03:00<26:53, 59.76s/it]"
     ]
    },
    {
     "name": "stdout",
     "output_type": "stream",
     "text": [
      "Epoch : 2\n",
      "train loss : 0.081920 || train_acc : 0.4248\n",
      "val loss : 0.037460 || val_acc : 0.8506\n"
     ]
    },
    {
     "name": "stderr",
     "output_type": "stream",
     "text": [
      " 13%|█▎        | 4/30 [04:00<26:03, 60.12s/it]"
     ]
    },
    {
     "name": "stdout",
     "output_type": "stream",
     "text": [
      "Epoch : 3\n",
      "train loss : 0.068819 || train_acc : 0.5327\n",
      "val loss : 0.039683 || val_acc : 0.7241\n"
     ]
    },
    {
     "name": "stderr",
     "output_type": "stream",
     "text": [
      " 17%|█▋        | 5/30 [05:02<25:17, 60.70s/it]"
     ]
    },
    {
     "name": "stdout",
     "output_type": "stream",
     "text": [
      "Epoch : 4\n",
      "train loss : 0.057556 || train_acc : 0.6389\n",
      "val loss : 0.016020 || val_acc : 1.0000\n"
     ]
    },
    {
     "name": "stderr",
     "output_type": "stream",
     "text": [
      " 20%|██        | 6/30 [06:08<25:00, 62.52s/it]"
     ]
    },
    {
     "name": "stdout",
     "output_type": "stream",
     "text": [
      "Epoch : 5\n",
      "train loss : 0.037378 || train_acc : 0.8105\n",
      "val loss : 0.011024 || val_acc : 1.0000\n"
     ]
    },
    {
     "name": "stderr",
     "output_type": "stream",
     "text": [
      " 23%|██▎       | 7/30 [07:09<23:49, 62.13s/it]"
     ]
    },
    {
     "name": "stdout",
     "output_type": "stream",
     "text": [
      "Epoch : 6\n",
      "train loss : 0.023395 || train_acc : 0.9003\n",
      "val loss : 0.017683 || val_acc : 0.9540\n"
     ]
    },
    {
     "name": "stderr",
     "output_type": "stream",
     "text": [
      " 27%|██▋       | 8/30 [08:10<22:33, 61.54s/it]"
     ]
    },
    {
     "name": "stdout",
     "output_type": "stream",
     "text": [
      "Epoch : 7\n",
      "train loss : 0.011528 || train_acc : 0.9837\n",
      "val loss : 0.032806 || val_acc : 0.7356\n"
     ]
    },
    {
     "name": "stderr",
     "output_type": "stream",
     "text": [
      " 30%|███       | 9/30 [09:10<21:25, 61.23s/it]"
     ]
    },
    {
     "name": "stdout",
     "output_type": "stream",
     "text": [
      "Epoch : 8\n",
      "train loss : 0.018404 || train_acc : 0.9134\n",
      "val loss : 0.023871 || val_acc : 0.7931\n"
     ]
    },
    {
     "name": "stderr",
     "output_type": "stream",
     "text": [
      " 33%|███▎      | 10/30 [10:10<20:16, 60.80s/it]"
     ]
    },
    {
     "name": "stdout",
     "output_type": "stream",
     "text": [
      "Epoch : 9\n",
      "train loss : 0.012367 || train_acc : 0.9788\n",
      "val loss : 0.020875 || val_acc : 1.0000\n"
     ]
    },
    {
     "name": "stderr",
     "output_type": "stream",
     "text": [
      " 37%|███▋      | 11/30 [11:14<19:34, 61.81s/it]"
     ]
    },
    {
     "name": "stdout",
     "output_type": "stream",
     "text": [
      "Epoch : 10\n",
      "train loss : 0.005724 || train_acc : 0.9902\n",
      "val loss : 0.015327 || val_acc : 0.9655\n"
     ]
    },
    {
     "name": "stderr",
     "output_type": "stream",
     "text": [
      " 40%|████      | 12/30 [12:15<18:26, 61.49s/it]"
     ]
    },
    {
     "name": "stdout",
     "output_type": "stream",
     "text": [
      "Epoch : 11\n",
      "train loss : 0.003861 || train_acc : 0.9935\n",
      "val loss : 0.018466 || val_acc : 1.0000\n"
     ]
    },
    {
     "name": "stderr",
     "output_type": "stream",
     "text": [
      " 43%|████▎     | 13/30 [13:15<17:18, 61.07s/it]"
     ]
    },
    {
     "name": "stdout",
     "output_type": "stream",
     "text": [
      "Epoch : 12\n",
      "train loss : 0.002478 || train_acc : 0.9984\n",
      "val loss : 0.009031 || val_acc : 1.0000\n"
     ]
    },
    {
     "name": "stderr",
     "output_type": "stream",
     "text": [
      " 47%|████▋     | 14/30 [14:15<16:13, 60.84s/it]"
     ]
    },
    {
     "name": "stdout",
     "output_type": "stream",
     "text": [
      "Epoch : 13\n",
      "train loss : 0.001077 || train_acc : 1.0000\n",
      "val loss : 0.008828 || val_acc : 1.0000\n"
     ]
    },
    {
     "name": "stderr",
     "output_type": "stream",
     "text": [
      " 50%|█████     | 15/30 [15:16<15:13, 60.88s/it]"
     ]
    },
    {
     "name": "stdout",
     "output_type": "stream",
     "text": [
      "Epoch : 14\n",
      "train loss : 0.000825 || train_acc : 1.0000\n",
      "val loss : 0.008720 || val_acc : 1.0000\n"
     ]
    },
    {
     "name": "stderr",
     "output_type": "stream",
     "text": [
      " 53%|█████▎    | 16/30 [16:19<14:21, 61.55s/it]"
     ]
    },
    {
     "name": "stdout",
     "output_type": "stream",
     "text": [
      "Epoch : 15\n",
      "train loss : 0.000669 || train_acc : 1.0000\n",
      "val loss : 0.008980 || val_acc : 1.0000\n"
     ]
    },
    {
     "name": "stderr",
     "output_type": "stream",
     "text": [
      " 57%|█████▋    | 17/30 [17:20<13:17, 61.32s/it]"
     ]
    },
    {
     "name": "stdout",
     "output_type": "stream",
     "text": [
      "Epoch : 16\n",
      "train loss : 0.000555 || train_acc : 1.0000\n",
      "val loss : 0.008575 || val_acc : 1.0000\n"
     ]
    },
    {
     "name": "stderr",
     "output_type": "stream",
     "text": [
      " 60%|██████    | 18/30 [18:21<12:13, 61.12s/it]"
     ]
    },
    {
     "name": "stdout",
     "output_type": "stream",
     "text": [
      "Epoch : 17\n",
      "train loss : 0.000508 || train_acc : 1.0000\n",
      "val loss : 0.008979 || val_acc : 1.0000\n"
     ]
    },
    {
     "name": "stderr",
     "output_type": "stream",
     "text": [
      " 63%|██████▎   | 19/30 [19:21<11:08, 60.75s/it]"
     ]
    },
    {
     "name": "stdout",
     "output_type": "stream",
     "text": [
      "Epoch : 18\n",
      "train loss : 0.000492 || train_acc : 1.0000\n",
      "val loss : 0.008234 || val_acc : 1.0000\n"
     ]
    },
    {
     "name": "stderr",
     "output_type": "stream",
     "text": [
      " 67%|██████▋   | 20/30 [20:25<10:18, 61.83s/it]"
     ]
    },
    {
     "name": "stdout",
     "output_type": "stream",
     "text": [
      "Epoch : 19\n",
      "train loss : 0.000411 || train_acc : 1.0000\n",
      "val loss : 0.007582 || val_acc : 1.0000\n"
     ]
    },
    {
     "name": "stderr",
     "output_type": "stream",
     "text": [
      " 70%|███████   | 21/30 [21:26<09:13, 61.51s/it]"
     ]
    },
    {
     "name": "stdout",
     "output_type": "stream",
     "text": [
      "Epoch : 20\n",
      "train loss : 0.000369 || train_acc : 1.0000\n",
      "val loss : 0.008108 || val_acc : 1.0000\n"
     ]
    },
    {
     "name": "stderr",
     "output_type": "stream",
     "text": [
      " 73%|███████▎  | 22/30 [22:27<08:11, 61.41s/it]"
     ]
    },
    {
     "name": "stdout",
     "output_type": "stream",
     "text": [
      "Epoch : 21\n",
      "train loss : 0.000470 || train_acc : 1.0000\n",
      "val loss : 0.006398 || val_acc : 1.0000\n"
     ]
    },
    {
     "name": "stderr",
     "output_type": "stream",
     "text": [
      " 77%|███████▋  | 23/30 [23:27<07:06, 61.00s/it]"
     ]
    },
    {
     "name": "stdout",
     "output_type": "stream",
     "text": [
      "Epoch : 22\n",
      "train loss : 0.000434 || train_acc : 1.0000\n",
      "val loss : 0.007647 || val_acc : 1.0000\n"
     ]
    },
    {
     "name": "stderr",
     "output_type": "stream",
     "text": [
      " 80%|████████  | 24/30 [24:26<06:02, 60.37s/it]"
     ]
    },
    {
     "name": "stdout",
     "output_type": "stream",
     "text": [
      "Epoch : 23\n",
      "train loss : 0.000314 || train_acc : 1.0000\n",
      "val loss : 0.007216 || val_acc : 1.0000\n"
     ]
    },
    {
     "name": "stderr",
     "output_type": "stream",
     "text": [
      " 83%|████████▎ | 25/30 [25:28<05:04, 60.94s/it]"
     ]
    },
    {
     "name": "stdout",
     "output_type": "stream",
     "text": [
      "Epoch : 24\n",
      "train loss : 0.000278 || train_acc : 1.0000\n",
      "val loss : 0.007460 || val_acc : 1.0000\n"
     ]
    },
    {
     "name": "stderr",
     "output_type": "stream",
     "text": [
      " 87%|████████▋ | 26/30 [26:28<04:01, 60.47s/it]"
     ]
    },
    {
     "name": "stdout",
     "output_type": "stream",
     "text": [
      "Epoch : 25\n",
      "train loss : 0.000235 || train_acc : 1.0000\n",
      "val loss : 0.007505 || val_acc : 1.0000\n"
     ]
    },
    {
     "name": "stderr",
     "output_type": "stream",
     "text": [
      " 90%|█████████ | 27/30 [27:27<03:00, 60.19s/it]"
     ]
    },
    {
     "name": "stdout",
     "output_type": "stream",
     "text": [
      "Epoch : 26\n",
      "train loss : 0.000346 || train_acc : 1.0000\n",
      "val loss : 0.007531 || val_acc : 1.0000\n"
     ]
    },
    {
     "name": "stderr",
     "output_type": "stream",
     "text": [
      " 93%|█████████▎| 28/30 [28:26<01:59, 59.68s/it]"
     ]
    },
    {
     "name": "stdout",
     "output_type": "stream",
     "text": [
      "Epoch : 27\n",
      "train loss : 0.001466 || train_acc : 0.9967\n",
      "val loss : 0.007141 || val_acc : 1.0000\n"
     ]
    },
    {
     "name": "stderr",
     "output_type": "stream",
     "text": [
      " 97%|█████████▋| 29/30 [29:26<00:59, 59.88s/it]"
     ]
    },
    {
     "name": "stdout",
     "output_type": "stream",
     "text": [
      "Epoch : 28\n",
      "train loss : 0.002138 || train_acc : 0.9951\n",
      "val loss : 0.009052 || val_acc : 1.0000\n"
     ]
    },
    {
     "name": "stderr",
     "output_type": "stream",
     "text": [
      "100%|██████████| 30/30 [30:30<00:00, 61.02s/it]"
     ]
    },
    {
     "name": "stdout",
     "output_type": "stream",
     "text": [
      "Epoch : 29\n",
      "train loss : 0.000751 || train_acc : 1.0000\n",
      "val loss : 0.006741 || val_acc : 1.0000\n"
     ]
    },
    {
     "name": "stderr",
     "output_type": "stream",
     "text": [
      "\n"
     ]
    }
   ],
   "source": [
    "import utils\n",
    "\n",
    "utils.models.train_model(model, train_loader, val_loader, criterion, optimizer, num_epochs=20, save_model=False)"
   ]
  },
  {
   "cell_type": "code",
   "execution_count": null,
   "metadata": {},
   "outputs": [],
   "source": []
  },
  {
   "cell_type": "markdown",
   "metadata": {},
   "source": [
    "<h1> Confusion matrix </h1>"
   ]
  },
  {
   "cell_type": "code",
   "execution_count": 8,
   "metadata": {},
   "outputs": [
    {
     "data": {
      "image/png": "[encoded data removed]",
      "text/plain": [
       "<Figure size 800x600 with 2 Axes>"
      ]
     },
     "metadata": {},
     "output_type": "display_data"
    }
   ],
   "source": [
    "import utils\n",
    "\n",
    "utils.confusion_matrix(model, val_loader)"
   ]
  },
  {
   "cell_type": "markdown",
   "metadata": {},
   "source": [
    "<h1> Timelapse </h1>"
   ]
  },
  {
   "cell_type": "code",
   "execution_count": 110,
   "metadata": {},
   "outputs": [],
   "source": [
    "import torch\n",
    "from TCFile import TCFile\n",
    "import numpy as np\n",
    "\n",
    "path = r\"C:\\rkka_Projects\\cell_death_v1\\Data\\Hela_Segmentation_test_PWS\\TCF\\test\\241126.155819.hela_none_PP2.001.Group1.A1.T001P09.TCF\"\n",
    "file = TCFile(path, '3D')\n",
    "\n",
    "stack = []\n",
    "for f in file:\n",
    "    temp = torch.from_numpy(f[:, 0:480, 0:480])\n",
    "    temp = temp.unsqueeze(0).unsqueeze(0)\n",
    "    \n",
    "    fz = file.data_resolution[0]/0.1632\n",
    "    fy = file.data_resolution[1]/0.1632\n",
    "    fx = file.data_resolution[2]/0.1632\n",
    "            \n",
    "    temp = torch.nn.functional.interpolate(\n",
    "        temp, scale_factor=(fz, fy, fx), mode='trilinear', align_corners=False\n",
    "    )\n",
    "\n",
    "    temp = torch.nn.functional.interpolate(temp, size=(60, 112, 112), mode='trilinear', align_corners=False)\n",
    "    temp = temp.squeeze(0).squeeze(0)\n",
    "    stack.append(temp)"
   ]
  },
  {
   "cell_type": "code",
   "execution_count": 96,
   "metadata": {},
   "outputs": [
    {
     "name": "stderr",
     "output_type": "stream",
     "text": [
      "C:\\Users\\김민욱\\AppData\\Local\\Temp\\ipykernel_20184\\2561026194.py:10: FutureWarning: You are using `torch.load` with `weights_only=False` (the current default value), which uses the default pickle module implicitly. It is possible to construct malicious pickle data which will execute arbitrary code during unpickling (See https://github.com/pytorch/pytorch/blob/main/SECURITY.md#untrusted-models for more details). In a future release, the default value for `weights_only` will be flipped to `True`. This limits the functions that could be executed during unpickling. Arbitrary objects will no longer be allowed to be loaded via this mode unless they are explicitly allowlisted by the user via `torch.serialization.add_safe_globals`. We recommend you start setting `weights_only=True` for any use case where you don't have full control of the loaded file. Please open an issue on GitHub for any issues related to this experimental feature.\n",
      "  model.load_state_dict(torch.load(r\"C:\\rkka_Projects\\cell_death_v1\\r3d_18_7-3_3d_val_acc_1.0000.pth\"))\n"
     ]
    },
    {
     "data": {
      "text/plain": [
       "<All keys matched successfully>"
      ]
     },
     "execution_count": 96,
     "metadata": {},
     "output_type": "execute_result"
    }
   ],
   "source": [
    "import torchvision\n",
    "\n",
    "model = torchvision.models.video.r3d_18()\n",
    "num_features = model.fc.in_features\n",
    "model.fc = torch.nn.Sequential(\n",
    "    torch.nn.Dropout(0.2),\n",
    "    torch.nn.Linear(num_features, 4)\n",
    ")\n",
    "\n",
    "model.load_state_dict(torch.load(r\"C:\\rkka_Projects\\cell_death_v1\\r3d_18_7-3_3d_val_acc_1.0000.pth\"))"
   ]
  },
  {
   "cell_type": "code",
   "execution_count": 102,
   "metadata": {},
   "outputs": [],
   "source": [
    "min_ri, max_ri = 1.32033, 1.4274234"
   ]
  },
  {
   "cell_type": "code",
   "execution_count": 111,
   "metadata": {},
   "outputs": [
    {
     "name": "stderr",
     "output_type": "stream",
     "text": [
      "C:\\Users\\김민욱\\AppData\\Local\\Temp\\ipykernel_20184\\1903360196.py:32: UserWarning: Implicit dimension choice for softmax has been deprecated. Change the call to include dim=X as an argument.\n",
      "  output_prob = torch.nn.functional.softmax(output)\n"
     ]
    }
   ],
   "source": [
    "import torchvision \n",
    "\n",
    "model = model.cuda()\n",
    "model.eval()\n",
    "normalizer = torchvision.transforms.Normalize(mean=[0.43216, 0.394666, 0.37645], std=[0.22803, 0.22145, 0.216989])\n",
    "\n",
    "with torch.no_grad():\n",
    "    apoptosis_prob = []\n",
    "    necroptosis_prob = []\n",
    "    necrosis_prob = []\n",
    "    live_prob = []\n",
    "    \n",
    "    for s in stack:\n",
    "        N = len(stack)\n",
    "        death_probability = 0\n",
    "        output_list = []\n",
    "        \n",
    "        s = s.cuda()\n",
    "        \n",
    "        # Step 1 : Rescale to [0.0, 1.0]\n",
    "        s = (s - min_ri)/(max_ri - min_ri)\n",
    "            \n",
    "        # Step 2 : Make RGB channel - C\n",
    "        s = s.unsqueeze(0)\n",
    "        s = s.repeat(3,1,1,1) # (C, D, H, W)\n",
    "\n",
    "        # Step 3: Normalize using RGB mean and std\n",
    "        for c in range(3):\n",
    "            s[c] = (s[c] - normalizer.mean[c]) / normalizer.std[c]\n",
    "                \n",
    "        output = model(s.unsqueeze(0).cuda())\n",
    "        output_prob = torch.nn.functional.softmax(output)\n",
    "        \n",
    "        apoptosis_prob.append(float(output_prob[0][0].cpu()))\n",
    "        necroptosis_prob.append(float(output_prob[0][1].cpu()))\n",
    "        necrosis_prob.append(float(output_prob[0][2].cpu()))\n",
    "        live_prob.append(float(output_prob[0][3].cpu()))"
   ]
  },
  {
   "cell_type": "code",
   "execution_count": 112,
   "metadata": {},
   "outputs": [
    {
     "data": {
      "text/plain": [
       "tensor([[0.0316, 0.0381, 0.0052, 0.9251]], device='cuda:0')"
      ]
     },
     "execution_count": 112,
     "metadata": {},
     "output_type": "execute_result"
    }
   ],
   "source": [
    "output_prob"
   ]
  },
  {
   "cell_type": "code",
   "execution_count": 113,
   "metadata": {},
   "outputs": [
    {
     "data": {
      "text/plain": [
       "[<matplotlib.lines.Line2D at 0x14b8abd1df0>]"
      ]
     },
     "execution_count": 113,
     "metadata": {},
     "output_type": "execute_result"
    },
    {
     "data": {
      "image/png": "[encoded data removed]",
      "text/plain": [
       "<Figure size 640x480 with 1 Axes>"
      ]
     },
     "metadata": {},
     "output_type": "display_data"
    }
   ],
   "source": [
    "import matplotlib.pyplot as plt\n",
    "\n",
    "plt.plot(apoptosis_prob, 'r')\n",
    "plt.plot(necroptosis_prob, 'g')\n",
    "plt.plot(necrosis_prob, 'b')\n",
    "plt.plot(live_prob, 'o')"
   ]
  },
  {
   "cell_type": "code",
   "execution_count": 17,
   "metadata": {},
   "outputs": [
    {
     "data": {
      "text/plain": [
       "tensor([[0.2410, 0.3000, 0.2758, 0.1833]], device='cuda:0')"
      ]
     },
     "execution_count": 17,
     "metadata": {},
     "output_type": "execute_result"
    }
   ],
   "source": [
    "output_prob"
   ]
  },
  {
   "cell_type": "code",
   "execution_count": 25,
   "metadata": {},
   "outputs": [
    {
     "data": {
      "text/plain": [
       "0.2999778985977173"
      ]
     },
     "execution_count": 25,
     "metadata": {},
     "output_type": "execute_result"
    }
   ],
   "source": [
    "float(output_prob[0][1].cpu())"
   ]
  },
  {
   "cell_type": "code",
   "execution_count": 16,
   "metadata": {},
   "outputs": [
    {
     "data": {
      "text/plain": [
       "[0.005493477303931054,\n",
       " 0.0057067934502946565,\n",
       " 0.005613242058043784,\n",
       " 0.005584210157394409,\n",
       " 0.005898829470289514,\n",
       " 0.005923929366659611,\n",
       " 0.005825907626050584,\n",
       " 0.005933689310195598,\n",
       " 0.005603427582598747,\n",
       " 0.005423197720913177,\n",
       " 0.0056925517447451324,\n",
       " 0.005308491752502766,\n",
       " 0.005370945372480027,\n",
       " 0.005533048447142256,\n",
       " 0.0054502182818473655,\n",
       " 0.005669045955576795,\n",
       " 0.005698610493477354,\n",
       " 0.006024609220788834,\n",
       " 0.006012246963825632,\n",
       " 0.005721300840377808,\n",
       " 0.005880053373093301,\n",
       " 0.006039836305253049,\n",
       " 0.005923333320211857,\n",
       " 0.006149494901616523,\n",
       " 0.005944618519316328,\n",
       " 0.006027616084890163,\n",
       " 0.00632642685098851,\n",
       " 0.006312265675118629,\n",
       " 0.00597508283371621,\n",
       " 0.006235534206349799,\n",
       " 0.0063690245151519775,\n",
       " 0.006044101841906284,\n",
       " 0.006460927268292041,\n",
       " 0.006274956337949063,\n",
       " 0.0062400159683633355,\n",
       " 0.006311376678182724,\n",
       " 0.006519486295416,\n",
       " 0.006609765773123884,\n",
       " 0.006368909744506187,\n",
       " 0.006441810029618284,\n",
       " 0.006401833067549036,\n",
       " 0.006338434650542888,\n",
       " 0.0063611757248005964,\n",
       " 0.006527432735930098,\n",
       " 0.006508253990335667,\n",
       " 0.006487290275857803,\n",
       " 0.006382508480802495]"
      ]
     },
     "execution_count": 16,
     "metadata": {},
     "output_type": "execute_result"
    }
   ],
   "source": [
    "probabilities"
   ]
  }
 ],
 "metadata": {
  "kernelspec": {
   "display_name": "cell",
   "language": "python",
   "name": "python3"
  },
  "language_info": {
   "codemirror_mode": {
    "name": "ipython",
    "version": 3
   },
   "file_extension": ".py",
   "mimetype": "text/x-python",
   "name": "python",
   "nbconvert_exporter": "python",
   "pygments_lexer": "ipython3",
   "version": "3.12.4"
  }
 },
 "nbformat": 4,
 "nbformat_minor": 2
}
