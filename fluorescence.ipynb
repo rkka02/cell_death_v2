{
 "cells": [
  {
   "cell_type": "code",
   "execution_count": 99,
   "metadata": {},
   "outputs": [],
   "source": [
    "from TCFile import TCFile\n",
    "import numpy as np\n",
    "import cv2"
   ]
  },
  {
   "cell_type": "code",
   "execution_count": 100,
   "metadata": {},
   "outputs": [],
   "source": [
    "import napari\n",
    "viewer = napari.Viewer()"
   ]
  },
  {
   "cell_type": "code",
   "execution_count": 101,
   "metadata": {},
   "outputs": [],
   "source": [
    "path = r\"C:\\rkka_Projects\\cell_death_v2\\Data\\0_Apoptosis\\230510.HeLa_CD95 (28).TCF\""
   ]
  },
  {
   "cell_type": "code",
   "execution_count": 102,
   "metadata": {},
   "outputs": [
    {
     "name": "stderr",
     "output_type": "stream",
     "text": [
      "c:\\miniconda3\\envs\\cell\\Lib\\site-packages\\TCFile\\TCFile_class.py:190: UserWarning: You use an experimental file format deprecated.\n",
      "Update your reconstruction program and rebuild TCF file.\n",
      "  warnings.warn((\"You use an experimental file format deprecated.\\n\"\n"
     ]
    },
    {
     "data": {
      "text/plain": [
       "<Image layer 'target_temp' at 0x18cedd53110>"
      ]
     },
     "execution_count": 102,
     "metadata": {},
     "output_type": "execute_result"
    }
   ],
   "source": [
    "target = TCFile(path, '2DMIP')\n",
    "target_temp = target[32]\n",
    "viewer.add_image(target_temp, gamma=0.3)"
   ]
  },
  {
   "cell_type": "code",
   "execution_count": 103,
   "metadata": {},
   "outputs": [],
   "source": [
    "colors = ['Blue', 'Green', 'Red']\n",
    "for i in range(3):\n",
    "    file = TCFile(path, '3DFL', channel=i)\n",
    "    temp = np.max(file[32], axis=0)\n",
    "    temp = cv2.resize(temp, dsize=target_temp.shape)\n",
    "    viewer.add_image(temp, opacity=0.3, colormap=colors[i])"
   ]
  }
 ],
 "metadata": {
  "kernelspec": {
   "display_name": "cell",
   "language": "python",
   "name": "python3"
  },
  "language_info": {
   "codemirror_mode": {
    "name": "ipython",
    "version": 3
   },
   "file_extension": ".py",
   "mimetype": "text/x-python",
   "name": "python",
   "nbconvert_exporter": "python",
   "pygments_lexer": "ipython3",
   "version": "3.12.4"
  }
 },
 "nbformat": 4,
 "nbformat_minor": 2
}
