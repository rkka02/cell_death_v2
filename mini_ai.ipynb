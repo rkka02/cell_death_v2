{
 "cells": [
  {
   "cell_type": "code",
   "execution_count": 2,
   "metadata": {},
   "outputs": [],
   "source": [
    "import os\n",
    "import random\n",
    "import numpy as np\n",
    "import torch\n",
    "from torch.utils.data import Dataset\n",
    "from PIL import Image\n",
    "import torchvision.transforms as transforms\n",
    "import utils\n",
    "# (Keep your other imports, e.g., for transforms, if needed)\n",
    "\n",
    "class type_dataset(Dataset):\n",
    "    def __init__(self, root_dir, transform=None, augmentation=False, crop_augmentation=False):\n",
    "        self.data = []\n",
    "        self.transform = transform\n",
    "        self.augmentation = augmentation\n",
    "        self.crop_augmentation = crop_augmentation\n",
    "\n",
    "        folder_list = ['blank', 'cells']\n",
    "        for folder_label, folder in enumerate(folder_list):\n",
    "            folder_dir = os.path.join(root_dir, folder)\n",
    "            for fname in os.listdir(folder_dir):\n",
    "                image_path = os.path.join(folder_dir, fname)\n",
    "                image = Image.open(image_path)\n",
    "                image = np.array(image)\n",
    "                self.data.append((image, folder_label))\n",
    "\n",
    "    def __len__(self):\n",
    "        return len(self.data)\n",
    "\n",
    "    def __getitem__(self, idx):\n",
    "        # Get the primary image and label\n",
    "        image, label = self.data[idx]\n",
    "        # Convert to tensor and repeat for 3 channels if necessary\n",
    "        image_tensor = torch.from_numpy(image).repeat(3, 1, 1).float()\n",
    "        # Apply any prebuilt transform\n",
    "        flips = transforms.Compose([\n",
    "                                transforms.RandomHorizontalFlip(p=0.5),\n",
    "                                transforms.RandomVerticalFlip(p=0.5)\n",
    "                            ])\n",
    "        if self.crop_augmentation:\n",
    "            crop_size = random.randint(160, 320)\n",
    "            top = random.randint(0, 320 - crop_size)\n",
    "            left = random.randint(0, 320 - crop_size)\n",
    "            image_tensor = image_tensor[:, top:top+crop_size, left:left+crop_size]\n",
    "\n",
    "        if self.transform:\n",
    "            image_tensor = self.transform(image_tensor)\n",
    "        \n",
    "        if self.augmentation:\n",
    "            # ---- CutMix Augmentation Start ----\n",
    "            image_tensor = flips(image_tensor)\n",
    "            \n",
    "            # Sample a random second image (optionally ensure it's different from idx)\n",
    "            rand_idx = random.randint(0, len(self.data) - 1)\n",
    "            image2, label2 = self.data[rand_idx]\n",
    "            image_tensor2 = torch.from_numpy(image2).repeat(3, 1, 1).float()\n",
    "            if self.crop_augmentation:\n",
    "                image_tensor2 = image_tensor2[:, top:top+crop_size, left:left+crop_size]\n",
    "            \n",
    "            if self.transform:\n",
    "                image_tensor2 = self.transform(image_tensor2)\n",
    "            image_tensor2 = flips(image_tensor2)\n",
    "            \n",
    "            # Sample lambda from a Beta distribution (here using alpha=1.0 for both sides)\n",
    "            lam = np.random.beta(1.0, 1.0)\n",
    "            # Get image dimensions (assuming images are of equal size)\n",
    "            _, H, W = image_tensor.size()\n",
    "            # Compute the size of the patch to cut and paste\n",
    "            r = np.sqrt(1 - lam)\n",
    "            cut_w = int(W * r)\n",
    "            cut_h = int(H * r)\n",
    "            \n",
    "            # Choose a random center point for the patch\n",
    "            cx = np.random.randint(W)\n",
    "            cy = np.random.randint(H)\n",
    "            \n",
    "            # Calculate the bounding box coordinates and clip to image size\n",
    "            x1 = np.clip(cx - cut_w // 2, 0, W)\n",
    "            y1 = np.clip(cy - cut_h // 2, 0, H)\n",
    "            x2 = np.clip(cx + cut_w // 2, 0, W)\n",
    "            y2 = np.clip(cy + cut_h // 2, 0, H)\n",
    "            \n",
    "            # Replace the region in image_tensor with the corresponding patch from image_tensor2\n",
    "            image_tensor[:, y1:y2, x1:x2] = image_tensor2[:, y1:y2, x1:x2]\n",
    "            \n",
    "            # Adjust lambda to exactly match the pixel ratio of the mixed region\n",
    "            lam = 1 - ((x2 - x1) * (y2 - y1) / (W * H))\n",
    "            # Return a tuple for the label: (label_a, label_b, lam)\n",
    "            label = (label, label2, lam)\n",
    "            # ---- CutMix Augmentation End ----\n",
    "            \n",
    "        return image_tensor, label"
   ]
  },
  {
   "cell_type": "code",
   "execution_count": 3,
   "metadata": {},
   "outputs": [],
   "source": [
    "from utils.AugmentedDatasetWrapper import AugmentedDatasetWrapper\n",
    "from torch.utils.data import DataLoader\n",
    "from torchvision import models\n",
    "\n",
    "train_dir = \"C:/rkka_Projects/cell_death_v2/Data/model_training/test\"\n",
    "val_dir = \"C:/rkka_Projects/cell_death_v2/Data/model_training/train\"\n",
    "\n",
    "transform = models.ResNet18_Weights.IMAGENET1K_V1.transforms()\n",
    "train_dataset = type_dataset(train_dir, transform=transform, augmentation=True, crop_augmentation=True)\n",
    "val_dataset = type_dataset(val_dir, transform=transform, augmentation=False, crop_augmentation=True)\n",
    "augmented_train_dataset = AugmentedDatasetWrapper(dataset=train_dataset, num_repeats=3)\n",
    "augmented_val_dataset = AugmentedDatasetWrapper(dataset=train_dataset, num_repeats=1)\n",
    "\n",
    "train_loader = DataLoader(dataset=augmented_train_dataset, shuffle=True, batch_size=64)\n",
    "val_loader = DataLoader(dataset=val_dataset, shuffle=True, batch_size=64)"
   ]
  },
  {
   "cell_type": "code",
   "execution_count": 4,
   "metadata": {},
   "outputs": [
    {
     "name": "stdout",
     "output_type": "stream",
     "text": [
      "Total Parameters: 11,177,538\n",
      "Trainable Parameters: 8,394,754\n"
     ]
    },
    {
     "name": "stderr",
     "output_type": "stream",
     "text": [
      "c:\\miniconda3\\envs\\cell\\Lib\\site-packages\\torchvision\\models\\_utils.py:208: UserWarning: The parameter 'pretrained' is deprecated since 0.13 and may be removed in the future, please use 'weights' instead.\n",
      "  warnings.warn(\n",
      "c:\\miniconda3\\envs\\cell\\Lib\\site-packages\\torchvision\\models\\_utils.py:223: UserWarning: Arguments other than a weight enum or `None` for 'weights' are deprecated since 0.13 and may be removed in the future. The current behavior is equivalent to passing `weights=ResNet18_Weights.IMAGENET1K_V1`. You can also use `weights=ResNet18_Weights.DEFAULT` to get the most up-to-date weights.\n",
      "  warnings.warn(msg)\n"
     ]
    }
   ],
   "source": [
    "import utils\n",
    "from torchvision import models\n",
    "\n",
    "model = models.resnet18(pretrained=True)\n",
    "num_features = model.fc.in_features\n",
    "model.fc = torch.nn.Sequential(\n",
    "    torch.nn.Dropout(0.2),\n",
    "    torch.nn.Linear(num_features, 2)\n",
    ")\n",
    "\n",
    "for name, params in model.named_parameters():\n",
    "    if 'layer4' in name or 'fc' in name:\n",
    "        params.requires_grad = True\n",
    "    else:\n",
    "        params.requires_grad = False\n",
    "        \n",
    "utils.print_trainable_parameters(model)"
   ]
  },
  {
   "cell_type": "code",
   "execution_count": 5,
   "metadata": {},
   "outputs": [],
   "source": [
    "# Increase the weight for classes 3 and 4; adjust values as needed\n",
    "criterion = torch.nn.CrossEntropyLoss()\n",
    "optimizer = torch.optim.Adam(params=model.parameters(), lr=0.001)\n",
    "\n",
    "model = model.cuda()"
   ]
  },
  {
   "cell_type": "code",
   "execution_count": 6,
   "metadata": {},
   "outputs": [
    {
     "name": "stderr",
     "output_type": "stream",
     "text": [
      "  3%|▎         | 1/30 [00:00<00:26,  1.08it/s]"
     ]
    },
    {
     "name": "stdout",
     "output_type": "stream",
     "text": [
      "Epoch : 0\n",
      "train loss : 4.484518\n",
      "val loss : 3.245991 || val_acc : 0.9476\n"
     ]
    },
    {
     "name": "stderr",
     "output_type": "stream",
     "text": [
      "  7%|▋         | 2/30 [00:01<00:21,  1.29it/s]"
     ]
    },
    {
     "name": "stdout",
     "output_type": "stream",
     "text": [
      "Epoch : 1\n",
      "train loss : 2.895083\n",
      "val loss : 24.570429 || val_acc : 0.5112\n"
     ]
    },
    {
     "name": "stderr",
     "output_type": "stream",
     "text": [
      " 10%|█         | 3/30 [00:02<00:19,  1.39it/s]"
     ]
    },
    {
     "name": "stdout",
     "output_type": "stream",
     "text": [
      "Epoch : 2\n",
      "train loss : 2.801448\n",
      "val loss : 6.719546 || val_acc : 0.6733\n"
     ]
    },
    {
     "name": "stderr",
     "output_type": "stream",
     "text": [
      " 13%|█▎        | 4/30 [00:02<00:17,  1.47it/s]"
     ]
    },
    {
     "name": "stdout",
     "output_type": "stream",
     "text": [
      "Epoch : 3\n",
      "train loss : 2.277597\n",
      "val loss : 1.550814 || val_acc : 0.9501\n"
     ]
    },
    {
     "name": "stderr",
     "output_type": "stream",
     "text": [
      " 17%|█▋        | 5/30 [00:03<00:16,  1.53it/s]"
     ]
    },
    {
     "name": "stdout",
     "output_type": "stream",
     "text": [
      "Epoch : 4\n",
      "train loss : 2.259802\n",
      "val loss : 1.227573 || val_acc : 0.9476\n"
     ]
    },
    {
     "name": "stderr",
     "output_type": "stream",
     "text": [
      " 20%|██        | 6/30 [00:04<00:15,  1.54it/s]"
     ]
    },
    {
     "name": "stdout",
     "output_type": "stream",
     "text": [
      "Epoch : 5\n",
      "train loss : 2.190506\n",
      "val loss : 1.626256 || val_acc : 0.9377\n"
     ]
    },
    {
     "name": "stderr",
     "output_type": "stream",
     "text": [
      " 23%|██▎       | 7/30 [00:04<00:14,  1.57it/s]"
     ]
    },
    {
     "name": "stdout",
     "output_type": "stream",
     "text": [
      "Epoch : 6\n",
      "train loss : 2.107603\n",
      "val loss : 1.290967 || val_acc : 0.9551\n"
     ]
    },
    {
     "name": "stderr",
     "output_type": "stream",
     "text": [
      " 27%|██▋       | 8/30 [00:05<00:14,  1.54it/s]"
     ]
    },
    {
     "name": "stdout",
     "output_type": "stream",
     "text": [
      "Epoch : 7\n",
      "train loss : 1.988013\n",
      "val loss : 1.049942 || val_acc : 0.9476\n"
     ]
    },
    {
     "name": "stderr",
     "output_type": "stream",
     "text": [
      " 30%|███       | 9/30 [00:06<00:13,  1.52it/s]"
     ]
    },
    {
     "name": "stdout",
     "output_type": "stream",
     "text": [
      "Epoch : 8\n",
      "train loss : 2.232493\n",
      "val loss : 1.009494 || val_acc : 0.9501\n"
     ]
    },
    {
     "name": "stderr",
     "output_type": "stream",
     "text": [
      " 33%|███▎      | 10/30 [00:06<00:13,  1.48it/s]"
     ]
    },
    {
     "name": "stdout",
     "output_type": "stream",
     "text": [
      "Epoch : 9\n",
      "train loss : 2.053613\n",
      "val loss : 0.965000 || val_acc : 0.9526\n"
     ]
    },
    {
     "name": "stderr",
     "output_type": "stream",
     "text": [
      " 37%|███▋      | 11/30 [00:07<00:13,  1.44it/s]"
     ]
    },
    {
     "name": "stdout",
     "output_type": "stream",
     "text": [
      "Epoch : 10\n",
      "train loss : 2.267621\n",
      "val loss : 1.142665 || val_acc : 0.9501\n"
     ]
    },
    {
     "name": "stderr",
     "output_type": "stream",
     "text": [
      " 40%|████      | 12/30 [00:08<00:12,  1.41it/s]"
     ]
    },
    {
     "name": "stdout",
     "output_type": "stream",
     "text": [
      "Epoch : 11\n",
      "train loss : 2.414118\n",
      "val loss : 1.136136 || val_acc : 0.9526\n"
     ]
    },
    {
     "name": "stderr",
     "output_type": "stream",
     "text": [
      " 43%|████▎     | 13/30 [00:09<00:12,  1.38it/s]"
     ]
    },
    {
     "name": "stdout",
     "output_type": "stream",
     "text": [
      "Epoch : 12\n",
      "train loss : 2.113222\n",
      "val loss : 1.170637 || val_acc : 0.9476\n"
     ]
    },
    {
     "name": "stderr",
     "output_type": "stream",
     "text": [
      " 47%|████▋     | 14/30 [00:09<00:11,  1.39it/s]"
     ]
    },
    {
     "name": "stdout",
     "output_type": "stream",
     "text": [
      "Epoch : 13\n",
      "train loss : 2.088938\n",
      "val loss : 1.582094 || val_acc : 0.9476\n"
     ]
    },
    {
     "name": "stderr",
     "output_type": "stream",
     "text": [
      " 50%|█████     | 15/30 [00:10<00:10,  1.37it/s]"
     ]
    },
    {
     "name": "stdout",
     "output_type": "stream",
     "text": [
      "Epoch : 14\n",
      "train loss : 2.284487\n",
      "val loss : 1.204054 || val_acc : 0.9451\n"
     ]
    },
    {
     "name": "stderr",
     "output_type": "stream",
     "text": [
      " 53%|█████▎    | 16/30 [00:11<00:10,  1.36it/s]"
     ]
    },
    {
     "name": "stdout",
     "output_type": "stream",
     "text": [
      "Epoch : 15\n",
      "train loss : 1.947734\n",
      "val loss : 1.393476 || val_acc : 0.9277\n"
     ]
    },
    {
     "name": "stderr",
     "output_type": "stream",
     "text": [
      " 57%|█████▋    | 17/30 [00:11<00:09,  1.36it/s]"
     ]
    },
    {
     "name": "stdout",
     "output_type": "stream",
     "text": [
      "Epoch : 16\n",
      "train loss : 2.107585\n",
      "val loss : 0.988153 || val_acc : 0.9401\n"
     ]
    },
    {
     "name": "stderr",
     "output_type": "stream",
     "text": [
      " 60%|██████    | 18/30 [00:12<00:08,  1.35it/s]"
     ]
    },
    {
     "name": "stdout",
     "output_type": "stream",
     "text": [
      "Epoch : 17\n",
      "train loss : 2.122751\n",
      "val loss : 0.977113 || val_acc : 0.9501\n"
     ]
    },
    {
     "name": "stderr",
     "output_type": "stream",
     "text": [
      " 63%|██████▎   | 19/30 [00:13<00:08,  1.34it/s]"
     ]
    },
    {
     "name": "stdout",
     "output_type": "stream",
     "text": [
      "Epoch : 18\n",
      "train loss : 1.981727\n",
      "val loss : 1.286323 || val_acc : 0.9501\n"
     ]
    },
    {
     "name": "stderr",
     "output_type": "stream",
     "text": [
      " 67%|██████▋   | 20/30 [00:14<00:07,  1.34it/s]"
     ]
    },
    {
     "name": "stdout",
     "output_type": "stream",
     "text": [
      "Epoch : 19\n",
      "train loss : 1.943427\n",
      "val loss : 1.308306 || val_acc : 0.9426\n"
     ]
    },
    {
     "name": "stderr",
     "output_type": "stream",
     "text": [
      " 70%|███████   | 21/30 [00:14<00:06,  1.35it/s]"
     ]
    },
    {
     "name": "stdout",
     "output_type": "stream",
     "text": [
      "Epoch : 20\n",
      "train loss : 1.901381\n",
      "val loss : 0.927724 || val_acc : 0.9476\n"
     ]
    },
    {
     "name": "stderr",
     "output_type": "stream",
     "text": [
      " 73%|███████▎  | 22/30 [00:15<00:05,  1.36it/s]"
     ]
    },
    {
     "name": "stdout",
     "output_type": "stream",
     "text": [
      "Epoch : 21\n",
      "train loss : 2.106754\n",
      "val loss : 1.157847 || val_acc : 0.9526\n"
     ]
    },
    {
     "name": "stderr",
     "output_type": "stream",
     "text": [
      " 77%|███████▋  | 23/30 [00:16<00:05,  1.34it/s]"
     ]
    },
    {
     "name": "stdout",
     "output_type": "stream",
     "text": [
      "Epoch : 22\n",
      "train loss : 2.083560\n",
      "val loss : 1.364409 || val_acc : 0.9377\n"
     ]
    },
    {
     "name": "stderr",
     "output_type": "stream",
     "text": [
      " 80%|████████  | 24/30 [00:17<00:04,  1.35it/s]"
     ]
    },
    {
     "name": "stdout",
     "output_type": "stream",
     "text": [
      "Epoch : 23\n",
      "train loss : 1.933867\n",
      "val loss : 1.008922 || val_acc : 0.9501\n"
     ]
    },
    {
     "name": "stderr",
     "output_type": "stream",
     "text": [
      " 83%|████████▎ | 25/30 [00:17<00:03,  1.34it/s]"
     ]
    },
    {
     "name": "stdout",
     "output_type": "stream",
     "text": [
      "Epoch : 24\n",
      "train loss : 1.856144\n",
      "val loss : 0.883625 || val_acc : 0.9476\n"
     ]
    },
    {
     "name": "stderr",
     "output_type": "stream",
     "text": [
      " 87%|████████▋ | 26/30 [00:18<00:02,  1.35it/s]"
     ]
    },
    {
     "name": "stdout",
     "output_type": "stream",
     "text": [
      "Epoch : 25\n",
      "train loss : 2.233764\n",
      "val loss : 1.037712 || val_acc : 0.9352\n"
     ]
    },
    {
     "name": "stderr",
     "output_type": "stream",
     "text": [
      " 90%|█████████ | 27/30 [00:19<00:02,  1.33it/s]"
     ]
    },
    {
     "name": "stdout",
     "output_type": "stream",
     "text": [
      "Epoch : 26\n",
      "train loss : 1.916286\n",
      "val loss : 1.115723 || val_acc : 0.9401\n"
     ]
    },
    {
     "name": "stderr",
     "output_type": "stream",
     "text": [
      " 93%|█████████▎| 28/30 [00:20<00:01,  1.31it/s]"
     ]
    },
    {
     "name": "stdout",
     "output_type": "stream",
     "text": [
      "Epoch : 27\n",
      "train loss : 2.028175\n",
      "val loss : 0.876942 || val_acc : 0.9526\n"
     ]
    },
    {
     "name": "stderr",
     "output_type": "stream",
     "text": [
      " 97%|█████████▋| 29/30 [00:20<00:00,  1.34it/s]"
     ]
    },
    {
     "name": "stdout",
     "output_type": "stream",
     "text": [
      "Epoch : 28\n",
      "train loss : 1.898054\n",
      "val loss : 0.896801 || val_acc : 0.9501\n"
     ]
    },
    {
     "name": "stderr",
     "output_type": "stream",
     "text": [
      "100%|██████████| 30/30 [00:21<00:00,  1.38it/s]"
     ]
    },
    {
     "name": "stdout",
     "output_type": "stream",
     "text": [
      "Epoch : 29\n",
      "train loss : 2.166486\n",
      "val loss : 0.921420 || val_acc : 0.9426\n"
     ]
    },
    {
     "name": "stderr",
     "output_type": "stream",
     "text": [
      "\n"
     ]
    }
   ],
   "source": [
    "import torch\n",
    "from tqdm import tqdm\n",
    "import datetime\n",
    "\n",
    "for epoch in tqdm(range(30)):\n",
    "    # train\n",
    "    model.train()\n",
    "    train_loss, train_correct, train_total = 0, 0, 0\n",
    "    \n",
    "    for images, labels in train_loader:\n",
    "        images = images.cuda()\n",
    "        \n",
    "        # Move each component of labels to the GPU if using CutMix\n",
    "        if isinstance(labels, (list, tuple)):\n",
    "            label_a, label_b, lam = labels\n",
    "            label_a = label_a.cuda()\n",
    "            label_b = label_b.cuda()\n",
    "            lam     = lam.cuda()\n",
    "        else:\n",
    "            labels = labels.cuda()\n",
    "        \n",
    "        outputs = model(images)\n",
    "        \n",
    "        if isinstance(labels, (list, tuple)):\n",
    "            # Compute per-sample losses by setting reduction='none'\n",
    "            loss_a = torch.nn.functional.cross_entropy(outputs, label_a, reduction='none')\n",
    "            loss_b = torch.nn.functional.cross_entropy(outputs, label_b, reduction='none')\n",
    "            # Combine losses per sample and then average to get a scalar loss\n",
    "            loss = (lam * loss_a + (1 - lam) * loss_b).mean()\n",
    "        else:\n",
    "            loss = criterion(outputs, labels)  # This remains as is if no CutMix is used\n",
    "        \n",
    "        optimizer.zero_grad()\n",
    "        loss.backward()\n",
    "        optimizer.step()\n",
    "        \n",
    "        train_loss += loss.item()\n",
    "        \n",
    "    #validation\n",
    "    model.eval()\n",
    "    val_loss, val_correct, val_total = 0, 0, 0\n",
    "    with torch.no_grad():\n",
    "        for val_images, val_labels in val_loader:\n",
    "            val_images, val_labels = val_images.cuda(), val_labels.cuda()\n",
    "                \n",
    "            outputs = model(val_images)\n",
    "            loss = criterion(outputs, val_labels)\n",
    "            val_loss += loss\n",
    "                \n",
    "            _, preds = torch.max(outputs, 1)\n",
    "            val_correct += (preds==val_labels).sum().item()\n",
    "            val_total += len(val_labels)\n",
    "    \n",
    "    # torch.save(model.state_dict(), f'trained_models/training_epoch_{epoch+6}_type_5_classes_{train_loss:.6f}_{val_correct/val_total:.4f}.pth')\n",
    "    \n",
    "    print(f\"Epoch : {epoch}\")\n",
    "    print(f\"train loss : {train_loss:.6f}\")\n",
    "    print(f\"val loss : {val_loss:.6f} || val_acc : {val_correct/val_total:.4f}\")\n",
    "        "
   ]
  },
  {
   "cell_type": "code",
   "execution_count": 9,
   "metadata": {},
   "outputs": [],
   "source": [
    "torch.save(model.state_dict(), 'trained_models/miniai.pth')"
   ]
  },
  {
   "cell_type": "code",
   "execution_count": 8,
   "metadata": {},
   "outputs": [
    {
     "data": {
      "image/png": "[encoded data removed]",
      "text/plain": [
       "<Figure size 800x600 with 2 Axes>"
      ]
     },
     "metadata": {},
     "output_type": "display_data"
    }
   ],
   "source": [
    "import seaborn as sns\n",
    "from sklearn.metrics import confusion_matrix, ConfusionMatrixDisplay\n",
    "import matplotlib.pyplot as plt\n",
    "\n",
    "model = model.cuda()\n",
    "\n",
    "model.eval()\n",
    "all_preds = []\n",
    "all_labels = []\n",
    "\n",
    "with torch.no_grad():\n",
    "    for images, labels in val_loader:\n",
    "        images, labels = images.cuda(), labels.cuda()\n",
    "\n",
    "        outputs = model(images)\n",
    "        _, preds = torch.max(outputs, 1)\n",
    "\n",
    "        all_preds.extend(preds.cpu().numpy())\n",
    "        all_labels.extend(labels.cpu().numpy())\n",
    "        \n",
    "# Calculate confusion matrix\n",
    "cm = confusion_matrix(all_labels, all_preds, normalize='true')\n",
    "\n",
    "# Plot confusion matrix\n",
    "plt.figure(figsize=(8, 6))\n",
    "sns.heatmap(cm, annot=True, cmap=\"Blues\", xticklabels=[\"Blank\", \"Cells\"], \n",
    "                                          yticklabels=[\"Blank\", \"Cells\"], annot_kws={'size': 24})\n",
    "plt.xlabel(\"Predicted\", fontsize=24, labelpad=20)\n",
    "plt.ylabel(\"Ground Truth\", fontsize=24, labelpad=20)\n",
    "plt.title(\"Confusion Matrix\", fontsize=24, pad=20)\n",
    "\n",
    "# Adjust colorbar font size\n",
    "cbar = plt.gca().collections[0].colorbar\n",
    "cbar.ax.tick_params(labelsize=18)  # Set colorbar tick font size\n",
    "\n",
    "plt.xticks(fontsize=14)\n",
    "plt.yticks(fontsize=14)\n",
    "\n",
    "plt.savefig('figures/figure3/confusion_matrix.svg', format='svg', transparent=True)\n",
    "plt.show()"
   ]
  }
 ],
 "metadata": {
  "kernelspec": {
   "display_name": "cell",
   "language": "python",
   "name": "python3"
  },
  "language_info": {
   "codemirror_mode": {
    "name": "ipython",
    "version": 3
   },
   "file_extension": ".py",
   "mimetype": "text/x-python",
   "name": "python",
   "nbconvert_exporter": "python",
   "pygments_lexer": "ipython3",
   "version": "3.12.4"
  }
 },
 "nbformat": 4,
 "nbformat_minor": 2
}
