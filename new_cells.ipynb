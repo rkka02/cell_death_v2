{
 "cells": [
  {
   "cell_type": "code",
   "execution_count": 4,
   "metadata": {},
   "outputs": [
    {
     "name": "stderr",
     "output_type": "stream",
     "text": [
      "c:\\miniconda3\\envs\\cell\\Lib\\site-packages\\TCFile\\TCFile_class.py:190: UserWarning: You use an experimental file format deprecated.\n",
      "Update your reconstruction program and rebuild TCF file.\n",
      "  warnings.warn((\"You use an experimental file format deprecated.\\n\"\n"
     ]
    },
    {
     "name": "stdout",
     "output_type": "stream",
     "text": [
      "finished!\n"
     ]
    }
   ],
   "source": [
    "from PIL import Image\n",
    "from TCFile import TCFile\n",
    "import utils\n",
    "import os\n",
    "\n",
    "# configurations\n",
    "times = [36]\n",
    "mode = 'mip'\n",
    "crop_size = (480, 480)\n",
    "save_path = f'C:/rkka_Projects/cell_death_v2/Data/model_training_HDF/{mode}/data'\n",
    "root_dir = r\"C:\\rkka_Projects\\cell_death_v2\\Data\\1_HDF\"\n",
    "\n",
    "min, max = 1.33, 1.40\n",
    "\n",
    "file_list = os.listdir(r\"C:\\rkka_Projects\\cell_death_v2\\Data\\1_HDF\")\n",
    "\n",
    "data = {}\n",
    "# Crop\n",
    "for file_path in file_list:\n",
    "    data[file_path] = []\n",
    "    file = TCFile(os.path.join(root_dir, file_path), '3D')\n",
    "    for time_index in times:\n",
    "        slice_2d = utils.resize_tomogram.resize_tomogram_2d(file[time_index], data_resolution=file.data_resolution,\n",
    "                                                target_resolution=0.1632, mode='mip')\n",
    "            \n",
    "        patches = utils.crop_patch(slice_2d, crop_size=crop_size)\n",
    "        for patch_index, patch in enumerate(patches):\n",
    "            top = patch[0]\n",
    "            left = patch[1]\n",
    "            temp = slice_2d[top:top+crop_size[0], left:left+crop_size[1]]\n",
    "            temp = utils.image_normalization(temp, min=min, max=max)\n",
    "            image = Image.fromarray(temp)\n",
    "            data[file_path].append(image)\n",
    "print('finished!')"
   ]
  },
  {
   "cell_type": "code",
   "execution_count": 5,
   "metadata": {},
   "outputs": [
    {
     "data": {
      "text/plain": [
       "{'230728.165757.HDF_CD95.001.Group1.A1.T001P01.TCF': [<PIL.Image.Image image mode=L size=480x480>,\n",
       "  <PIL.Image.Image image mode=L size=480x480>,\n",
       "  <PIL.Image.Image image mode=L size=480x480>,\n",
       "  <PIL.Image.Image image mode=L size=480x480>],\n",
       " '230728.165757.HDF_CD95.001.Group1.A1.T001P02.TCF': [<PIL.Image.Image image mode=L size=480x480>,\n",
       "  <PIL.Image.Image image mode=L size=480x480>,\n",
       "  <PIL.Image.Image image mode=L size=480x480>,\n",
       "  <PIL.Image.Image image mode=L size=480x480>],\n",
       " '230728.165757.HDF_CD95.001.Group1.A1.T001P03.TCF': [<PIL.Image.Image image mode=L size=480x480>,\n",
       "  <PIL.Image.Image image mode=L size=480x480>,\n",
       "  <PIL.Image.Image image mode=L size=480x480>,\n",
       "  <PIL.Image.Image image mode=L size=480x480>],\n",
       " '230728.165757.HDF_CD95.001.Group1.A1.T001P04.TCF': [<PIL.Image.Image image mode=L size=480x480>,\n",
       "  <PIL.Image.Image image mode=L size=480x480>,\n",
       "  <PIL.Image.Image image mode=L size=480x480>,\n",
       "  <PIL.Image.Image image mode=L size=480x480>],\n",
       " '230728.165757.HDF_CD95.001.Group1.A1.T001P05.TCF': [<PIL.Image.Image image mode=L size=480x480>,\n",
       "  <PIL.Image.Image image mode=L size=480x480>,\n",
       "  <PIL.Image.Image image mode=L size=480x480>,\n",
       "  <PIL.Image.Image image mode=L size=480x480>],\n",
       " '230728.170230.HDF_TNFa.002.Group1.B1.T001P01.TCF': [<PIL.Image.Image image mode=L size=480x480>,\n",
       "  <PIL.Image.Image image mode=L size=480x480>,\n",
       "  <PIL.Image.Image image mode=L size=480x480>,\n",
       "  <PIL.Image.Image image mode=L size=480x480>],\n",
       " '230728.170230.HDF_TNFa.002.Group1.B1.T001P02.TCF': [<PIL.Image.Image image mode=L size=480x480>,\n",
       "  <PIL.Image.Image image mode=L size=480x480>,\n",
       "  <PIL.Image.Image image mode=L size=480x480>,\n",
       "  <PIL.Image.Image image mode=L size=480x480>],\n",
       " '230728.170230.HDF_TNFa.002.Group1.B1.T001P03.TCF': [<PIL.Image.Image image mode=L size=480x480>,\n",
       "  <PIL.Image.Image image mode=L size=480x480>,\n",
       "  <PIL.Image.Image image mode=L size=480x480>,\n",
       "  <PIL.Image.Image image mode=L size=480x480>],\n",
       " '230728.170230.HDF_TNFa.002.Group1.B1.T001P04.TCF': [<PIL.Image.Image image mode=L size=480x480>,\n",
       "  <PIL.Image.Image image mode=L size=480x480>,\n",
       "  <PIL.Image.Image image mode=L size=480x480>,\n",
       "  <PIL.Image.Image image mode=L size=480x480>],\n",
       " '230728.170230.HDF_TNFa.002.Group1.B1.T001P05.TCF': [<PIL.Image.Image image mode=L size=480x480>,\n",
       "  <PIL.Image.Image image mode=L size=480x480>,\n",
       "  <PIL.Image.Image image mode=L size=480x480>,\n",
       "  <PIL.Image.Image image mode=L size=480x480>]}"
      ]
     },
     "execution_count": 5,
     "metadata": {},
     "output_type": "execute_result"
    }
   ],
   "source": [
    "data"
   ]
  },
  {
   "cell_type": "code",
   "execution_count": 6,
   "metadata": {},
   "outputs": [
    {
     "name": "stderr",
     "output_type": "stream",
     "text": [
      "c:\\miniconda3\\envs\\cell\\Lib\\site-packages\\torchvision\\models\\_utils.py:208: UserWarning: The parameter 'pretrained' is deprecated since 0.13 and may be removed in the future, please use 'weights' instead.\n",
      "  warnings.warn(\n",
      "c:\\miniconda3\\envs\\cell\\Lib\\site-packages\\torchvision\\models\\_utils.py:223: UserWarning: Arguments other than a weight enum or `None` for 'weights' are deprecated since 0.13 and may be removed in the future. The current behavior is equivalent to passing `weights=ResNet101_Weights.IMAGENET1K_V1`. You can also use `weights=ResNet101_Weights.DEFAULT` to get the most up-to-date weights.\n",
      "  warnings.warn(msg)\n",
      "C:\\Users\\김민욱\\AppData\\Local\\Temp\\ipykernel_10132\\2823146596.py:11: FutureWarning: You are using `torch.load` with `weights_only=False` (the current default value), which uses the default pickle module implicitly. It is possible to construct malicious pickle data which will execute arbitrary code during unpickling (See https://github.com/pytorch/pytorch/blob/main/SECURITY.md#untrusted-models for more details). In a future release, the default value for `weights_only` will be flipped to `True`. This limits the functions that could be executed during unpickling. Arbitrary objects will no longer be allowed to be loaded via this mode unless they are explicitly allowlisted by the user via `torch.serialization.add_safe_globals`. We recommend you start setting `weights_only=True` for any use case where you don't have full control of the loaded file. Please open an issue on GitHub for any issues related to this experimental feature.\n",
      "  model.load_state_dict(torch.load('test.pth'))\n"
     ]
    },
    {
     "data": {
      "text/plain": [
       "<All keys matched successfully>"
      ]
     },
     "execution_count": 6,
     "metadata": {},
     "output_type": "execute_result"
    }
   ],
   "source": [
    "import utils\n",
    "from torchvision import models\n",
    "import torch\n",
    "\n",
    "model = models.resnet101(pretrained=True)\n",
    "num_features = model.fc.in_features\n",
    "model.fc = torch.nn.Sequential(\n",
    "    torch.nn.Dropout(0.2),\n",
    "    torch.nn.Linear(num_features, 4)\n",
    ")\n",
    "model.load_state_dict(torch.load('test.pth'))"
   ]
  },
  {
   "cell_type": "code",
   "execution_count": 26,
   "metadata": {},
   "outputs": [
    {
     "data": {
      "text/plain": [
       "[<PIL.Image.Image image mode=L size=480x480>,\n",
       " <PIL.Image.Image image mode=L size=480x480>,\n",
       " <PIL.Image.Image image mode=L size=480x480>,\n",
       " <PIL.Image.Image image mode=L size=480x480>]"
      ]
     },
     "execution_count": 26,
     "metadata": {},
     "output_type": "execute_result"
    }
   ],
   "source": [
    "temp = data['230728.165757.HDF_CD95.001.Group1.A1.T001P02.TCF']\n",
    "temp"
   ]
  },
  {
   "cell_type": "code",
   "execution_count": 27,
   "metadata": {},
   "outputs": [],
   "source": [
    "import numpy as np\n",
    "\n",
    "transform = models.ResNet101_Weights.IMAGENET1K_V2.transforms()\n",
    "\n",
    "results = torch.zeros((1,4))\n",
    "\n",
    "model.eval()\n",
    "with torch.no_grad():\n",
    "    for t in temp:\n",
    "        image = t\n",
    "        image = np.array(image)\n",
    "        image_tensor = torch.from_numpy(image).repeat(3,1,1).float()\n",
    "        image_tensor = transform(image_tensor)\n",
    "        \n",
    "        output = model(image_tensor.unsqueeze(0))\n",
    "        results += output[0]\n",
    "    \n",
    "    results = results / 4"
   ]
  },
  {
   "cell_type": "code",
   "execution_count": 28,
   "metadata": {},
   "outputs": [
    {
     "data": {
      "text/plain": [
       "tensor([[-0.2955,  2.0160, -1.2532, -0.3927]])"
      ]
     },
     "execution_count": 28,
     "metadata": {},
     "output_type": "execute_result"
    }
   ],
   "source": [
    "results"
   ]
  },
  {
   "cell_type": "code",
   "execution_count": 23,
   "metadata": {},
   "outputs": [],
   "source": [
    "import napari\n",
    "viewer = napari.Viewer()"
   ]
  },
  {
   "cell_type": "code",
   "execution_count": 24,
   "metadata": {},
   "outputs": [],
   "source": [
    "path = r\"C:\\rkka_Projects\\cell_death_v2\\Data\\1_HDF\\230728.165757.HDF_CD95.001.Group1.A1.T001P01.TCF\"\n",
    "file = TCFile(path, '2DMIP')"
   ]
  },
  {
   "cell_type": "code",
   "execution_count": 25,
   "metadata": {},
   "outputs": [
    {
     "data": {
      "text/plain": [
       "<Image layer 'Image' at 0x29cc41c7890>"
      ]
     },
     "execution_count": 25,
     "metadata": {},
     "output_type": "execute_result"
    }
   ],
   "source": [
    "viewer.add_image(np.array([s for s in file]))"
   ]
  }
 ],
 "metadata": {
  "kernelspec": {
   "display_name": "cell",
   "language": "python",
   "name": "python3"
  },
  "language_info": {
   "codemirror_mode": {
    "name": "ipython",
    "version": 3
   },
   "file_extension": ".py",
   "mimetype": "text/x-python",
   "name": "python",
   "nbconvert_exporter": "python",
   "pygments_lexer": "ipython3",
   "version": "3.12.4"
  }
 },
 "nbformat": 4,
 "nbformat_minor": 2
}
