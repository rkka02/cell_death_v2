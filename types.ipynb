{
 "cells": [
  {
   "cell_type": "code",
   "execution_count": 1,
   "metadata": {},
   "outputs": [],
   "source": [
    "import os\n",
    "import numpy as np\n",
    "import torch\n",
    "from torch.utils.data import Dataset, DataLoader\n",
    "from TCFile import TCFile\n",
    "from torchvision import models\n",
    "import matplotlib.pyplot as plt\n",
    "import utils"
   ]
  },
  {
   "cell_type": "code",
   "execution_count": 3,
   "metadata": {},
   "outputs": [],
   "source": [
    "from models.transforms import augmentation_transform_2d, calculate_edge_mean_2d\n",
    "from PIL import Image\n",
    "\n",
    "class type_dataset(Dataset):\n",
    "    def __init__(self, root_dir, transform=None, augmentation=False):\n",
    "        \n",
    "        self.data = []\n",
    "        self.transform = transform\n",
    "        self.augmentation = augmentation\n",
    "        \n",
    "        pathways = ['apoptosis', 'necroptosis', 'necrosis', 'live']\n",
    "        for pathway_label, pathway in enumerate(pathways):\n",
    "            pathway_dir = os.path.join(root_dir, pathway)\n",
    "            for i in os.listdir(pathway_dir):\n",
    "                image_path = os.path.join(pathway_dir, i)\n",
    "                image = Image.open(image_path)\n",
    "                image = np.array(image)\n",
    "                self.data.append((image, pathway_label))\n",
    "    \n",
    "    def __len__(self):\n",
    "        return len(self.data)\n",
    "    \n",
    "    def __getitem__(self, idx):\n",
    "        image, label = self.data[idx][0], self.data[idx][1]\n",
    "        image_tensor = torch.from_numpy(image).repeat(3, 1, 1)\n",
    "        \n",
    "        # Prebuilt transform\n",
    "        if self.transform:\n",
    "            image_tensor = self.transform(image_tensor)\n",
    "        \n",
    "        # Rotation with edge mean filling\n",
    "        if self.augmentation:\n",
    "            edge_mean = calculate_edge_mean_2d(image_tensor)\n",
    "            image_tensor = augmentation_transform_2d(image_tensor)\n",
    "            image_tensor[image_tensor==0] = edge_mean\n",
    "            \n",
    "        return image_tensor, label"
   ]
  },
  {
   "cell_type": "code",
   "execution_count": 26,
   "metadata": {},
   "outputs": [],
   "source": [
    "from models.AugmentedDatasetWrapper import AugmentedDatasetWrapper\n",
    "\n",
    "train_dir = r\"C:\\rkka_Projects\\cell_death_v1\\Data\\Hela_Segmentation_test_PWS\\TCF\\pathway_train_qpi\"\n",
    "val_dir = r\"C:\\rkka_Projects\\cell_death_v1\\Data\\Hela_Segmentation_test_PWS\\TCF\\test\\pathway_test_qpi\"\n",
    "\n",
    "transform = models.EfficientNet_V2_S_Weights.IMAGENET1K_V1.transforms()\n",
    "train_dataset = type_dataset(train_dir, transform=transform, augmentation=False)\n",
    "val_dataset = type_dataset(val_dir, transform=transform, augmentation=False)\n",
    "augmented_train_dataset = AugmentedDatasetWrapper(dataset=train_dataset, num_repeats=3)\n",
    "\n",
    "train_loader = DataLoader(dataset=augmented_train_dataset, batch_size=64)\n",
    "val_loader = DataLoader(dataset=val_dataset, batch_size=64)"
   ]
  },
  {
   "cell_type": "code",
   "execution_count": 27,
   "metadata": {},
   "outputs": [
    {
     "name": "stdout",
     "output_type": "stream",
     "text": [
      "features.0.0.weight\n",
      "features.0.1.weight\n",
      "features.0.1.bias\n",
      "features.1.0.block.0.0.weight\n",
      "features.1.0.block.0.1.weight\n",
      "features.1.0.block.0.1.bias\n",
      "features.1.1.block.0.0.weight\n",
      "features.1.1.block.0.1.weight\n",
      "features.1.1.block.0.1.bias\n",
      "features.2.0.block.0.0.weight\n",
      "features.2.0.block.0.1.weight\n",
      "features.2.0.block.0.1.bias\n",
      "features.2.0.block.1.0.weight\n",
      "features.2.0.block.1.1.weight\n",
      "features.2.0.block.1.1.bias\n",
      "features.2.1.block.0.0.weight\n",
      "features.2.1.block.0.1.weight\n",
      "features.2.1.block.0.1.bias\n",
      "features.2.1.block.1.0.weight\n",
      "features.2.1.block.1.1.weight\n",
      "features.2.1.block.1.1.bias\n",
      "features.2.2.block.0.0.weight\n",
      "features.2.2.block.0.1.weight\n",
      "features.2.2.block.0.1.bias\n",
      "features.2.2.block.1.0.weight\n",
      "features.2.2.block.1.1.weight\n",
      "features.2.2.block.1.1.bias\n",
      "features.2.3.block.0.0.weight\n",
      "features.2.3.block.0.1.weight\n",
      "features.2.3.block.0.1.bias\n",
      "features.2.3.block.1.0.weight\n",
      "features.2.3.block.1.1.weight\n",
      "features.2.3.block.1.1.bias\n",
      "features.3.0.block.0.0.weight\n",
      "features.3.0.block.0.1.weight\n",
      "features.3.0.block.0.1.bias\n",
      "features.3.0.block.1.0.weight\n",
      "features.3.0.block.1.1.weight\n",
      "features.3.0.block.1.1.bias\n",
      "features.3.1.block.0.0.weight\n",
      "features.3.1.block.0.1.weight\n",
      "features.3.1.block.0.1.bias\n",
      "features.3.1.block.1.0.weight\n",
      "features.3.1.block.1.1.weight\n",
      "features.3.1.block.1.1.bias\n",
      "features.3.2.block.0.0.weight\n",
      "features.3.2.block.0.1.weight\n",
      "features.3.2.block.0.1.bias\n",
      "features.3.2.block.1.0.weight\n",
      "features.3.2.block.1.1.weight\n",
      "features.3.2.block.1.1.bias\n",
      "features.3.3.block.0.0.weight\n",
      "features.3.3.block.0.1.weight\n",
      "features.3.3.block.0.1.bias\n",
      "features.3.3.block.1.0.weight\n",
      "features.3.3.block.1.1.weight\n",
      "features.3.3.block.1.1.bias\n",
      "features.4.0.block.0.0.weight\n",
      "features.4.0.block.0.1.weight\n",
      "features.4.0.block.0.1.bias\n",
      "features.4.0.block.1.0.weight\n",
      "features.4.0.block.1.1.weight\n",
      "features.4.0.block.1.1.bias\n",
      "features.4.0.block.2.fc1.weight\n",
      "features.4.0.block.2.fc1.bias\n",
      "features.4.0.block.2.fc2.weight\n",
      "features.4.0.block.2.fc2.bias\n",
      "features.4.0.block.3.0.weight\n",
      "features.4.0.block.3.1.weight\n",
      "features.4.0.block.3.1.bias\n",
      "features.4.1.block.0.0.weight\n",
      "features.4.1.block.0.1.weight\n",
      "features.4.1.block.0.1.bias\n",
      "features.4.1.block.1.0.weight\n",
      "features.4.1.block.1.1.weight\n",
      "features.4.1.block.1.1.bias\n",
      "features.4.1.block.2.fc1.weight\n",
      "features.4.1.block.2.fc1.bias\n",
      "features.4.1.block.2.fc2.weight\n",
      "features.4.1.block.2.fc2.bias\n",
      "features.4.1.block.3.0.weight\n",
      "features.4.1.block.3.1.weight\n",
      "features.4.1.block.3.1.bias\n",
      "features.4.2.block.0.0.weight\n",
      "features.4.2.block.0.1.weight\n",
      "features.4.2.block.0.1.bias\n",
      "features.4.2.block.1.0.weight\n",
      "features.4.2.block.1.1.weight\n",
      "features.4.2.block.1.1.bias\n",
      "features.4.2.block.2.fc1.weight\n",
      "features.4.2.block.2.fc1.bias\n",
      "features.4.2.block.2.fc2.weight\n",
      "features.4.2.block.2.fc2.bias\n",
      "features.4.2.block.3.0.weight\n",
      "features.4.2.block.3.1.weight\n",
      "features.4.2.block.3.1.bias\n",
      "features.4.3.block.0.0.weight\n",
      "features.4.3.block.0.1.weight\n",
      "features.4.3.block.0.1.bias\n",
      "features.4.3.block.1.0.weight\n",
      "features.4.3.block.1.1.weight\n",
      "features.4.3.block.1.1.bias\n",
      "features.4.3.block.2.fc1.weight\n",
      "features.4.3.block.2.fc1.bias\n",
      "features.4.3.block.2.fc2.weight\n",
      "features.4.3.block.2.fc2.bias\n",
      "features.4.3.block.3.0.weight\n",
      "features.4.3.block.3.1.weight\n",
      "features.4.3.block.3.1.bias\n",
      "features.4.4.block.0.0.weight\n",
      "features.4.4.block.0.1.weight\n",
      "features.4.4.block.0.1.bias\n",
      "features.4.4.block.1.0.weight\n",
      "features.4.4.block.1.1.weight\n",
      "features.4.4.block.1.1.bias\n",
      "features.4.4.block.2.fc1.weight\n",
      "features.4.4.block.2.fc1.bias\n",
      "features.4.4.block.2.fc2.weight\n",
      "features.4.4.block.2.fc2.bias\n",
      "features.4.4.block.3.0.weight\n",
      "features.4.4.block.3.1.weight\n",
      "features.4.4.block.3.1.bias\n",
      "features.4.5.block.0.0.weight\n",
      "features.4.5.block.0.1.weight\n",
      "features.4.5.block.0.1.bias\n",
      "features.4.5.block.1.0.weight\n",
      "features.4.5.block.1.1.weight\n",
      "features.4.5.block.1.1.bias\n",
      "features.4.5.block.2.fc1.weight\n",
      "features.4.5.block.2.fc1.bias\n",
      "features.4.5.block.2.fc2.weight\n",
      "features.4.5.block.2.fc2.bias\n",
      "features.4.5.block.3.0.weight\n",
      "features.4.5.block.3.1.weight\n",
      "features.4.5.block.3.1.bias\n",
      "features.5.0.block.0.0.weight\n",
      "features.5.0.block.0.1.weight\n",
      "features.5.0.block.0.1.bias\n",
      "features.5.0.block.1.0.weight\n",
      "features.5.0.block.1.1.weight\n",
      "features.5.0.block.1.1.bias\n",
      "features.5.0.block.2.fc1.weight\n",
      "features.5.0.block.2.fc1.bias\n",
      "features.5.0.block.2.fc2.weight\n",
      "features.5.0.block.2.fc2.bias\n",
      "features.5.0.block.3.0.weight\n",
      "features.5.0.block.3.1.weight\n",
      "features.5.0.block.3.1.bias\n",
      "features.5.1.block.0.0.weight\n",
      "features.5.1.block.0.1.weight\n",
      "features.5.1.block.0.1.bias\n",
      "features.5.1.block.1.0.weight\n",
      "features.5.1.block.1.1.weight\n",
      "features.5.1.block.1.1.bias\n",
      "features.5.1.block.2.fc1.weight\n",
      "features.5.1.block.2.fc1.bias\n",
      "features.5.1.block.2.fc2.weight\n",
      "features.5.1.block.2.fc2.bias\n",
      "features.5.1.block.3.0.weight\n",
      "features.5.1.block.3.1.weight\n",
      "features.5.1.block.3.1.bias\n",
      "features.5.2.block.0.0.weight\n",
      "features.5.2.block.0.1.weight\n",
      "features.5.2.block.0.1.bias\n",
      "features.5.2.block.1.0.weight\n",
      "features.5.2.block.1.1.weight\n",
      "features.5.2.block.1.1.bias\n",
      "features.5.2.block.2.fc1.weight\n",
      "features.5.2.block.2.fc1.bias\n",
      "features.5.2.block.2.fc2.weight\n",
      "features.5.2.block.2.fc2.bias\n",
      "features.5.2.block.3.0.weight\n",
      "features.5.2.block.3.1.weight\n",
      "features.5.2.block.3.1.bias\n",
      "features.5.3.block.0.0.weight\n",
      "features.5.3.block.0.1.weight\n",
      "features.5.3.block.0.1.bias\n",
      "features.5.3.block.1.0.weight\n",
      "features.5.3.block.1.1.weight\n",
      "features.5.3.block.1.1.bias\n",
      "features.5.3.block.2.fc1.weight\n",
      "features.5.3.block.2.fc1.bias\n",
      "features.5.3.block.2.fc2.weight\n",
      "features.5.3.block.2.fc2.bias\n",
      "features.5.3.block.3.0.weight\n",
      "features.5.3.block.3.1.weight\n",
      "features.5.3.block.3.1.bias\n",
      "features.5.4.block.0.0.weight\n",
      "features.5.4.block.0.1.weight\n",
      "features.5.4.block.0.1.bias\n",
      "features.5.4.block.1.0.weight\n",
      "features.5.4.block.1.1.weight\n",
      "features.5.4.block.1.1.bias\n",
      "features.5.4.block.2.fc1.weight\n",
      "features.5.4.block.2.fc1.bias\n",
      "features.5.4.block.2.fc2.weight\n",
      "features.5.4.block.2.fc2.bias\n",
      "features.5.4.block.3.0.weight\n",
      "features.5.4.block.3.1.weight\n",
      "features.5.4.block.3.1.bias\n",
      "features.5.5.block.0.0.weight\n",
      "features.5.5.block.0.1.weight\n",
      "features.5.5.block.0.1.bias\n",
      "features.5.5.block.1.0.weight\n",
      "features.5.5.block.1.1.weight\n",
      "features.5.5.block.1.1.bias\n",
      "features.5.5.block.2.fc1.weight\n",
      "features.5.5.block.2.fc1.bias\n",
      "features.5.5.block.2.fc2.weight\n",
      "features.5.5.block.2.fc2.bias\n",
      "features.5.5.block.3.0.weight\n",
      "features.5.5.block.3.1.weight\n",
      "features.5.5.block.3.1.bias\n",
      "features.5.6.block.0.0.weight\n",
      "features.5.6.block.0.1.weight\n",
      "features.5.6.block.0.1.bias\n",
      "features.5.6.block.1.0.weight\n",
      "features.5.6.block.1.1.weight\n",
      "features.5.6.block.1.1.bias\n",
      "features.5.6.block.2.fc1.weight\n",
      "features.5.6.block.2.fc1.bias\n",
      "features.5.6.block.2.fc2.weight\n",
      "features.5.6.block.2.fc2.bias\n",
      "features.5.6.block.3.0.weight\n",
      "features.5.6.block.3.1.weight\n",
      "features.5.6.block.3.1.bias\n",
      "features.5.7.block.0.0.weight\n",
      "features.5.7.block.0.1.weight\n",
      "features.5.7.block.0.1.bias\n",
      "features.5.7.block.1.0.weight\n",
      "features.5.7.block.1.1.weight\n",
      "features.5.7.block.1.1.bias\n",
      "features.5.7.block.2.fc1.weight\n",
      "features.5.7.block.2.fc1.bias\n",
      "features.5.7.block.2.fc2.weight\n",
      "features.5.7.block.2.fc2.bias\n",
      "features.5.7.block.3.0.weight\n",
      "features.5.7.block.3.1.weight\n",
      "features.5.7.block.3.1.bias\n",
      "features.5.8.block.0.0.weight\n",
      "features.5.8.block.0.1.weight\n",
      "features.5.8.block.0.1.bias\n",
      "features.5.8.block.1.0.weight\n",
      "features.5.8.block.1.1.weight\n",
      "features.5.8.block.1.1.bias\n",
      "features.5.8.block.2.fc1.weight\n",
      "features.5.8.block.2.fc1.bias\n",
      "features.5.8.block.2.fc2.weight\n",
      "features.5.8.block.2.fc2.bias\n",
      "features.5.8.block.3.0.weight\n",
      "features.5.8.block.3.1.weight\n",
      "features.5.8.block.3.1.bias\n",
      "features.6.0.block.0.0.weight\n",
      "features.6.0.block.0.1.weight\n",
      "features.6.0.block.0.1.bias\n",
      "features.6.0.block.1.0.weight\n",
      "features.6.0.block.1.1.weight\n",
      "features.6.0.block.1.1.bias\n",
      "features.6.0.block.2.fc1.weight\n",
      "features.6.0.block.2.fc1.bias\n",
      "features.6.0.block.2.fc2.weight\n",
      "features.6.0.block.2.fc2.bias\n",
      "features.6.0.block.3.0.weight\n",
      "features.6.0.block.3.1.weight\n",
      "features.6.0.block.3.1.bias\n",
      "features.6.1.block.0.0.weight\n",
      "features.6.1.block.0.1.weight\n",
      "features.6.1.block.0.1.bias\n",
      "features.6.1.block.1.0.weight\n",
      "features.6.1.block.1.1.weight\n",
      "features.6.1.block.1.1.bias\n",
      "features.6.1.block.2.fc1.weight\n",
      "features.6.1.block.2.fc1.bias\n",
      "features.6.1.block.2.fc2.weight\n",
      "features.6.1.block.2.fc2.bias\n",
      "features.6.1.block.3.0.weight\n",
      "features.6.1.block.3.1.weight\n",
      "features.6.1.block.3.1.bias\n",
      "features.6.2.block.0.0.weight\n",
      "features.6.2.block.0.1.weight\n",
      "features.6.2.block.0.1.bias\n",
      "features.6.2.block.1.0.weight\n",
      "features.6.2.block.1.1.weight\n",
      "features.6.2.block.1.1.bias\n",
      "features.6.2.block.2.fc1.weight\n",
      "features.6.2.block.2.fc1.bias\n",
      "features.6.2.block.2.fc2.weight\n",
      "features.6.2.block.2.fc2.bias\n",
      "features.6.2.block.3.0.weight\n",
      "features.6.2.block.3.1.weight\n",
      "features.6.2.block.3.1.bias\n",
      "features.6.3.block.0.0.weight\n",
      "features.6.3.block.0.1.weight\n",
      "features.6.3.block.0.1.bias\n",
      "features.6.3.block.1.0.weight\n",
      "features.6.3.block.1.1.weight\n",
      "features.6.3.block.1.1.bias\n",
      "features.6.3.block.2.fc1.weight\n",
      "features.6.3.block.2.fc1.bias\n",
      "features.6.3.block.2.fc2.weight\n",
      "features.6.3.block.2.fc2.bias\n",
      "features.6.3.block.3.0.weight\n",
      "features.6.3.block.3.1.weight\n",
      "features.6.3.block.3.1.bias\n",
      "features.6.4.block.0.0.weight\n",
      "features.6.4.block.0.1.weight\n",
      "features.6.4.block.0.1.bias\n",
      "features.6.4.block.1.0.weight\n",
      "features.6.4.block.1.1.weight\n",
      "features.6.4.block.1.1.bias\n",
      "features.6.4.block.2.fc1.weight\n",
      "features.6.4.block.2.fc1.bias\n",
      "features.6.4.block.2.fc2.weight\n",
      "features.6.4.block.2.fc2.bias\n",
      "features.6.4.block.3.0.weight\n",
      "features.6.4.block.3.1.weight\n",
      "features.6.4.block.3.1.bias\n",
      "features.6.5.block.0.0.weight\n",
      "features.6.5.block.0.1.weight\n",
      "features.6.5.block.0.1.bias\n",
      "features.6.5.block.1.0.weight\n",
      "features.6.5.block.1.1.weight\n",
      "features.6.5.block.1.1.bias\n",
      "features.6.5.block.2.fc1.weight\n",
      "features.6.5.block.2.fc1.bias\n",
      "features.6.5.block.2.fc2.weight\n",
      "features.6.5.block.2.fc2.bias\n",
      "features.6.5.block.3.0.weight\n",
      "features.6.5.block.3.1.weight\n",
      "features.6.5.block.3.1.bias\n",
      "features.6.6.block.0.0.weight\n",
      "features.6.6.block.0.1.weight\n",
      "features.6.6.block.0.1.bias\n",
      "features.6.6.block.1.0.weight\n",
      "features.6.6.block.1.1.weight\n",
      "features.6.6.block.1.1.bias\n",
      "features.6.6.block.2.fc1.weight\n",
      "features.6.6.block.2.fc1.bias\n",
      "features.6.6.block.2.fc2.weight\n",
      "features.6.6.block.2.fc2.bias\n",
      "features.6.6.block.3.0.weight\n",
      "features.6.6.block.3.1.weight\n",
      "features.6.6.block.3.1.bias\n",
      "features.6.7.block.0.0.weight\n",
      "features.6.7.block.0.1.weight\n",
      "features.6.7.block.0.1.bias\n",
      "features.6.7.block.1.0.weight\n",
      "features.6.7.block.1.1.weight\n",
      "features.6.7.block.1.1.bias\n",
      "features.6.7.block.2.fc1.weight\n",
      "features.6.7.block.2.fc1.bias\n",
      "features.6.7.block.2.fc2.weight\n",
      "features.6.7.block.2.fc2.bias\n",
      "features.6.7.block.3.0.weight\n",
      "features.6.7.block.3.1.weight\n",
      "features.6.7.block.3.1.bias\n",
      "features.6.8.block.0.0.weight\n",
      "features.6.8.block.0.1.weight\n",
      "features.6.8.block.0.1.bias\n",
      "features.6.8.block.1.0.weight\n",
      "features.6.8.block.1.1.weight\n",
      "features.6.8.block.1.1.bias\n",
      "features.6.8.block.2.fc1.weight\n",
      "features.6.8.block.2.fc1.bias\n",
      "features.6.8.block.2.fc2.weight\n",
      "features.6.8.block.2.fc2.bias\n",
      "features.6.8.block.3.0.weight\n",
      "features.6.8.block.3.1.weight\n",
      "features.6.8.block.3.1.bias\n",
      "features.6.9.block.0.0.weight\n",
      "features.6.9.block.0.1.weight\n",
      "features.6.9.block.0.1.bias\n",
      "features.6.9.block.1.0.weight\n",
      "features.6.9.block.1.1.weight\n",
      "features.6.9.block.1.1.bias\n",
      "features.6.9.block.2.fc1.weight\n",
      "features.6.9.block.2.fc1.bias\n",
      "features.6.9.block.2.fc2.weight\n",
      "features.6.9.block.2.fc2.bias\n",
      "features.6.9.block.3.0.weight\n",
      "features.6.9.block.3.1.weight\n",
      "features.6.9.block.3.1.bias\n",
      "features.6.10.block.0.0.weight\n",
      "features.6.10.block.0.1.weight\n",
      "features.6.10.block.0.1.bias\n",
      "features.6.10.block.1.0.weight\n",
      "features.6.10.block.1.1.weight\n",
      "features.6.10.block.1.1.bias\n",
      "features.6.10.block.2.fc1.weight\n",
      "features.6.10.block.2.fc1.bias\n",
      "features.6.10.block.2.fc2.weight\n",
      "features.6.10.block.2.fc2.bias\n",
      "features.6.10.block.3.0.weight\n",
      "features.6.10.block.3.1.weight\n",
      "features.6.10.block.3.1.bias\n",
      "features.6.11.block.0.0.weight\n",
      "features.6.11.block.0.1.weight\n",
      "features.6.11.block.0.1.bias\n",
      "features.6.11.block.1.0.weight\n",
      "features.6.11.block.1.1.weight\n",
      "features.6.11.block.1.1.bias\n",
      "features.6.11.block.2.fc1.weight\n",
      "features.6.11.block.2.fc1.bias\n",
      "features.6.11.block.2.fc2.weight\n",
      "features.6.11.block.2.fc2.bias\n",
      "features.6.11.block.3.0.weight\n",
      "features.6.11.block.3.1.weight\n",
      "features.6.11.block.3.1.bias\n",
      "features.6.12.block.0.0.weight\n",
      "features.6.12.block.0.1.weight\n",
      "features.6.12.block.0.1.bias\n",
      "features.6.12.block.1.0.weight\n",
      "features.6.12.block.1.1.weight\n",
      "features.6.12.block.1.1.bias\n",
      "features.6.12.block.2.fc1.weight\n",
      "features.6.12.block.2.fc1.bias\n",
      "features.6.12.block.2.fc2.weight\n",
      "features.6.12.block.2.fc2.bias\n",
      "features.6.12.block.3.0.weight\n",
      "features.6.12.block.3.1.weight\n",
      "features.6.12.block.3.1.bias\n",
      "features.6.13.block.0.0.weight\n",
      "features.6.13.block.0.1.weight\n",
      "features.6.13.block.0.1.bias\n",
      "features.6.13.block.1.0.weight\n",
      "features.6.13.block.1.1.weight\n",
      "features.6.13.block.1.1.bias\n",
      "features.6.13.block.2.fc1.weight\n",
      "features.6.13.block.2.fc1.bias\n",
      "features.6.13.block.2.fc2.weight\n",
      "features.6.13.block.2.fc2.bias\n",
      "features.6.13.block.3.0.weight\n",
      "features.6.13.block.3.1.weight\n",
      "features.6.13.block.3.1.bias\n",
      "features.6.14.block.0.0.weight\n",
      "features.6.14.block.0.1.weight\n",
      "features.6.14.block.0.1.bias\n",
      "features.6.14.block.1.0.weight\n",
      "features.6.14.block.1.1.weight\n",
      "features.6.14.block.1.1.bias\n",
      "features.6.14.block.2.fc1.weight\n",
      "features.6.14.block.2.fc1.bias\n",
      "features.6.14.block.2.fc2.weight\n",
      "features.6.14.block.2.fc2.bias\n",
      "features.6.14.block.3.0.weight\n",
      "features.6.14.block.3.1.weight\n",
      "features.6.14.block.3.1.bias\n",
      "features.7.0.weight\n",
      "features.7.1.weight\n",
      "features.7.1.bias\n",
      "classifier.1.weight\n",
      "classifier.1.bias\n"
     ]
    }
   ],
   "source": [
    "model = models.efficientnet_v2_s(pretrained=True)\n",
    "for name, params in model.named_parameters():\n",
    "    print(name)"
   ]
  },
  {
   "cell_type": "code",
   "execution_count": 28,
   "metadata": {},
   "outputs": [
    {
     "name": "stdout",
     "output_type": "stream",
     "text": [
      "Total Parameters: 21,463,612\n",
      "Trainable Parameters: 16,173,072\n"
     ]
    }
   ],
   "source": [
    "model = models.efficientnet_v2_s(pretrained=True)\n",
    "num_features = model.classifier[1].in_features\n",
    "model.fc = torch.nn.Sequential(\n",
    "    torch.nn.Dropout(0.2),\n",
    "    torch.nn.Linear(num_features, 4)\n",
    ")\n",
    "\n",
    "for name, params in model.named_parameters():\n",
    "    if 'features.6' in name or 'features.7' in name or 'classifier' in name:\n",
    "        params.requires_grad = True\n",
    "    else:\n",
    "        params.requires_grad = False\n",
    "        \n",
    "utils.print_trainable_parameters(model)"
   ]
  },
  {
   "cell_type": "code",
   "execution_count": 29,
   "metadata": {},
   "outputs": [],
   "source": [
    "criterion = torch.nn.CrossEntropyLoss()\n",
    "optimizer = torch.optim.Adam(params=model.parameters(), lr=0.001)\n",
    "\n",
    "model = model.cuda()"
   ]
  },
  {
   "cell_type": "code",
   "execution_count": 30,
   "metadata": {},
   "outputs": [
    {
     "name": "stderr",
     "output_type": "stream",
     "text": [
      "  3%|▎         | 1/30 [00:02<01:06,  2.29s/it]"
     ]
    },
    {
     "name": "stdout",
     "output_type": "stream",
     "text": [
      "Epoch : 0\n",
      "train loss : 0.057247 || train_acc : 0.2189\n",
      "val loss : 0.023721 || val_acc : 0.4952\n"
     ]
    },
    {
     "name": "stderr",
     "output_type": "stream",
     "text": [
      "  7%|▋         | 2/30 [00:04<00:58,  2.09s/it]"
     ]
    },
    {
     "name": "stdout",
     "output_type": "stream",
     "text": [
      "Epoch : 1\n",
      "train loss : 0.016571 || train_acc : 0.6252\n",
      "val loss : 0.010966 || val_acc : 0.7429\n"
     ]
    },
    {
     "name": "stderr",
     "output_type": "stream",
     "text": [
      " 10%|█         | 3/30 [00:06<00:54,  2.03s/it]"
     ]
    },
    {
     "name": "stdout",
     "output_type": "stream",
     "text": [
      "Epoch : 2\n",
      "train loss : 0.010095 || train_acc : 0.8176\n",
      "val loss : 0.016331 || val_acc : 0.4857\n"
     ]
    },
    {
     "name": "stderr",
     "output_type": "stream",
     "text": [
      " 13%|█▎        | 4/30 [00:08<00:51,  1.99s/it]"
     ]
    },
    {
     "name": "stdout",
     "output_type": "stream",
     "text": [
      "Epoch : 3\n",
      "train loss : 0.007044 || train_acc : 0.9187\n",
      "val loss : 0.046448 || val_acc : 0.5143\n"
     ]
    },
    {
     "name": "stderr",
     "output_type": "stream",
     "text": [
      " 17%|█▋        | 5/30 [00:10<00:49,  1.97s/it]"
     ]
    },
    {
     "name": "stdout",
     "output_type": "stream",
     "text": [
      "Epoch : 4\n",
      "train loss : 0.006453 || train_acc : 0.8905\n",
      "val loss : 0.006351 || val_acc : 0.8571\n"
     ]
    },
    {
     "name": "stderr",
     "output_type": "stream",
     "text": [
      " 20%|██        | 6/30 [00:12<00:46,  1.96s/it]"
     ]
    },
    {
     "name": "stdout",
     "output_type": "stream",
     "text": [
      "Epoch : 5\n",
      "train loss : 0.004407 || train_acc : 0.9386\n",
      "val loss : 0.001313 || val_acc : 0.9810\n"
     ]
    },
    {
     "name": "stderr",
     "output_type": "stream",
     "text": [
      " 23%|██▎       | 7/30 [00:13<00:44,  1.95s/it]"
     ]
    },
    {
     "name": "stdout",
     "output_type": "stream",
     "text": [
      "Epoch : 6\n",
      "train loss : 0.003088 || train_acc : 0.9751\n",
      "val loss : 0.004196 || val_acc : 0.9429\n"
     ]
    },
    {
     "name": "stderr",
     "output_type": "stream",
     "text": [
      " 27%|██▋       | 8/30 [00:15<00:42,  1.95s/it]"
     ]
    },
    {
     "name": "stdout",
     "output_type": "stream",
     "text": [
      "Epoch : 7\n",
      "train loss : 0.004391 || train_acc : 0.9784\n",
      "val loss : 0.014397 || val_acc : 0.8476\n"
     ]
    },
    {
     "name": "stderr",
     "output_type": "stream",
     "text": [
      " 30%|███       | 9/30 [00:17<00:40,  1.94s/it]"
     ]
    },
    {
     "name": "stdout",
     "output_type": "stream",
     "text": [
      "Epoch : 8\n",
      "train loss : 0.002264 || train_acc : 0.9801\n",
      "val loss : 0.019439 || val_acc : 0.7429\n"
     ]
    },
    {
     "name": "stderr",
     "output_type": "stream",
     "text": [
      " 33%|███▎      | 10/30 [00:19<00:38,  1.95s/it]"
     ]
    },
    {
     "name": "stdout",
     "output_type": "stream",
     "text": [
      "Epoch : 9\n",
      "train loss : 0.004391 || train_acc : 0.9519\n",
      "val loss : 0.004156 || val_acc : 0.9048\n"
     ]
    },
    {
     "name": "stderr",
     "output_type": "stream",
     "text": [
      " 37%|███▋      | 11/30 [00:21<00:36,  1.94s/it]"
     ]
    },
    {
     "name": "stdout",
     "output_type": "stream",
     "text": [
      "Epoch : 10\n",
      "train loss : 0.001374 || train_acc : 0.9967\n",
      "val loss : 0.002800 || val_acc : 0.9524\n"
     ]
    },
    {
     "name": "stderr",
     "output_type": "stream",
     "text": [
      " 40%|████      | 12/30 [00:23<00:35,  1.95s/it]"
     ]
    },
    {
     "name": "stdout",
     "output_type": "stream",
     "text": [
      "Epoch : 11\n",
      "train loss : 0.000552 || train_acc : 1.0000\n",
      "val loss : 0.006928 || val_acc : 0.7429\n"
     ]
    },
    {
     "name": "stderr",
     "output_type": "stream",
     "text": [
      " 43%|████▎     | 13/30 [00:25<00:33,  1.94s/it]"
     ]
    },
    {
     "name": "stdout",
     "output_type": "stream",
     "text": [
      "Epoch : 12\n",
      "train loss : 0.000374 || train_acc : 1.0000\n",
      "val loss : 0.004593 || val_acc : 0.8762\n"
     ]
    },
    {
     "name": "stderr",
     "output_type": "stream",
     "text": [
      " 47%|████▋     | 14/30 [00:27<00:31,  1.94s/it]"
     ]
    },
    {
     "name": "stdout",
     "output_type": "stream",
     "text": [
      "Epoch : 13\n",
      "train loss : 0.000207 || train_acc : 1.0000\n",
      "val loss : 0.003901 || val_acc : 0.8952\n"
     ]
    },
    {
     "name": "stderr",
     "output_type": "stream",
     "text": [
      " 50%|█████     | 15/30 [00:29<00:29,  1.94s/it]"
     ]
    },
    {
     "name": "stdout",
     "output_type": "stream",
     "text": [
      "Epoch : 14\n",
      "train loss : 0.000211 || train_acc : 1.0000\n",
      "val loss : 0.003400 || val_acc : 0.9238\n"
     ]
    },
    {
     "name": "stderr",
     "output_type": "stream",
     "text": [
      " 53%|█████▎    | 16/30 [00:31<00:27,  1.94s/it]"
     ]
    },
    {
     "name": "stdout",
     "output_type": "stream",
     "text": [
      "Epoch : 15\n",
      "train loss : 0.000173 || train_acc : 1.0000\n",
      "val loss : 0.003595 || val_acc : 0.9238\n"
     ]
    },
    {
     "name": "stderr",
     "output_type": "stream",
     "text": [
      " 57%|█████▋    | 17/30 [00:33<00:25,  1.94s/it]"
     ]
    },
    {
     "name": "stdout",
     "output_type": "stream",
     "text": [
      "Epoch : 16\n",
      "train loss : 0.000110 || train_acc : 1.0000\n",
      "val loss : 0.003499 || val_acc : 0.9333\n"
     ]
    },
    {
     "name": "stderr",
     "output_type": "stream",
     "text": [
      " 60%|██████    | 18/30 [00:35<00:23,  1.93s/it]"
     ]
    },
    {
     "name": "stdout",
     "output_type": "stream",
     "text": [
      "Epoch : 17\n",
      "train loss : 0.000085 || train_acc : 1.0000\n",
      "val loss : 0.003052 || val_acc : 0.9429\n"
     ]
    },
    {
     "name": "stderr",
     "output_type": "stream",
     "text": [
      " 63%|██████▎   | 19/30 [00:37<00:21,  1.93s/it]"
     ]
    },
    {
     "name": "stdout",
     "output_type": "stream",
     "text": [
      "Epoch : 18\n",
      "train loss : 0.000070 || train_acc : 1.0000\n",
      "val loss : 0.002805 || val_acc : 0.9524\n"
     ]
    },
    {
     "name": "stderr",
     "output_type": "stream",
     "text": [
      " 67%|██████▋   | 20/30 [00:39<00:19,  1.94s/it]"
     ]
    },
    {
     "name": "stdout",
     "output_type": "stream",
     "text": [
      "Epoch : 19\n",
      "train loss : 0.000068 || train_acc : 1.0000\n",
      "val loss : 0.002559 || val_acc : 0.9714\n"
     ]
    },
    {
     "name": "stderr",
     "output_type": "stream",
     "text": [
      " 70%|███████   | 21/30 [00:41<00:17,  1.94s/it]"
     ]
    },
    {
     "name": "stdout",
     "output_type": "stream",
     "text": [
      "Epoch : 20\n",
      "train loss : 0.000055 || train_acc : 1.0000\n",
      "val loss : 0.002583 || val_acc : 0.9524\n"
     ]
    },
    {
     "name": "stderr",
     "output_type": "stream",
     "text": [
      " 73%|███████▎  | 22/30 [00:42<00:15,  1.93s/it]"
     ]
    },
    {
     "name": "stdout",
     "output_type": "stream",
     "text": [
      "Epoch : 21\n",
      "train loss : 0.000053 || train_acc : 1.0000\n",
      "val loss : 0.002705 || val_acc : 0.9333\n"
     ]
    },
    {
     "name": "stderr",
     "output_type": "stream",
     "text": [
      " 77%|███████▋  | 23/30 [00:44<00:13,  1.94s/it]"
     ]
    },
    {
     "name": "stdout",
     "output_type": "stream",
     "text": [
      "Epoch : 22\n",
      "train loss : 0.000046 || train_acc : 1.0000\n",
      "val loss : 0.002722 || val_acc : 0.9333\n"
     ]
    },
    {
     "name": "stderr",
     "output_type": "stream",
     "text": [
      " 80%|████████  | 24/30 [00:46<00:11,  1.94s/it]"
     ]
    },
    {
     "name": "stdout",
     "output_type": "stream",
     "text": [
      "Epoch : 23\n",
      "train loss : 0.000054 || train_acc : 1.0000\n",
      "val loss : 0.002659 || val_acc : 0.9238\n"
     ]
    },
    {
     "name": "stderr",
     "output_type": "stream",
     "text": [
      " 80%|████████  | 24/30 [00:48<00:12,  2.01s/it]\n"
     ]
    },
    {
     "ename": "KeyboardInterrupt",
     "evalue": "",
     "output_type": "error",
     "traceback": [
      "\u001b[1;31m---------------------------------------------------------------------------\u001b[0m",
      "\u001b[1;31mKeyboardInterrupt\u001b[0m                         Traceback (most recent call last)",
      "Cell \u001b[1;32mIn[30], line 15\u001b[0m\n\u001b[0;32m     13\u001b[0m outputs \u001b[38;5;241m=\u001b[39m model(images)\n\u001b[0;32m     14\u001b[0m loss \u001b[38;5;241m=\u001b[39m criterion(outputs, labels)\n\u001b[1;32m---> 15\u001b[0m train_loss \u001b[38;5;241m+\u001b[39m\u001b[38;5;241m=\u001b[39m loss\u001b[38;5;241m.\u001b[39mitem()\n\u001b[0;32m     17\u001b[0m optimizer\u001b[38;5;241m.\u001b[39mzero_grad()\n\u001b[0;32m     18\u001b[0m loss\u001b[38;5;241m.\u001b[39mbackward()\n",
      "\u001b[1;31mKeyboardInterrupt\u001b[0m: "
     ]
    }
   ],
   "source": [
    "import models\n",
    "models.train_model(model, train_loader, val_loader, criterion, optimizer, num_epochs=30)"
   ]
  },
  {
   "cell_type": "markdown",
   "metadata": {},
   "source": [
    "<h1> Finetuning </h1>"
   ]
  },
  {
   "cell_type": "code",
   "execution_count": 90,
   "metadata": {},
   "outputs": [],
   "source": [
    "from models.AugmentedDatasetWrapper import AugmentedDatasetWrapper\n",
    "\n",
    "train_dir = r\"C:\\rkka_Projects\\cell_death_v1\\Data\\Hela_Segmentation_test_PWS\\TCF\\pathway_train_mip\"\n",
    "val_dir = r\"C:\\rkka_Projects\\cell_death_v1\\Data\\Hela_Segmentation_test_PWS\\TCF\\test\\pathway_test_mip\"\n",
    "\n",
    "transform = models.ResNet50_Weights.IMAGENET1K_V2.transforms()\n",
    "train_dataset = type_dataset(train_dir, transform=transform, augmentation=True)\n",
    "val_dataset = type_dataset(val_dir, transform=transform, augmentation=False)\n",
    "augmented_train_dataset = AugmentedDatasetWrapper(dataset=train_dataset, num_repeats=5)\n",
    "\n",
    "train_loader = DataLoader(dataset=augmented_train_dataset)\n",
    "val_loader = DataLoader(dataset=val_dataset)"
   ]
  },
  {
   "cell_type": "code",
   "execution_count": 96,
   "metadata": {},
   "outputs": [
    {
     "name": "stdout",
     "output_type": "stream",
     "text": [
      "Total Parameters: 23,516,228\n",
      "Trainable Parameters: 4,470,788\n"
     ]
    },
    {
     "name": "stderr",
     "output_type": "stream",
     "text": [
      "C:\\Users\\김민욱\\AppData\\Local\\Temp\\ipykernel_18144\\158965220.py:8: FutureWarning: You are using `torch.load` with `weights_only=False` (the current default value), which uses the default pickle module implicitly. It is possible to construct malicious pickle data which will execute arbitrary code during unpickling (See https://github.com/pytorch/pytorch/blob/main/SECURITY.md#untrusted-models for more details). In a future release, the default value for `weights_only` will be flipped to `True`. This limits the functions that could be executed during unpickling. Arbitrary objects will no longer be allowed to be loaded via this mode unless they are explicitly allowlisted by the user via `torch.serialization.add_safe_globals`. We recommend you start setting `weights_only=True` for any use case where you don't have full control of the loaded file. Please open an issue on GitHub for any issues related to this experimental feature.\n",
      "  model.load_state_dict(torch.load('resnet50_mip_val_acc_0.8952.pth'))\n"
     ]
    }
   ],
   "source": [
    "model = models.resnet50()\n",
    "num_features = model.fc.in_features\n",
    "model.fc = torch.nn.Sequential(\n",
    "    torch.nn.Dropout(0.2),\n",
    "    torch.nn.Linear(num_features, 4)\n",
    ")\n",
    "\n",
    "model.load_state_dict(torch.load('resnet50_mip_val_acc_0.8952.pth'))\n",
    "\n",
    "for name, params in model.named_parameters():\n",
    "    if 'layer4.2' in name or 'fc' in name:\n",
    "        params.requires_grad = True\n",
    "    else:\n",
    "        params.requires_grad = False\n",
    "        \n",
    "utils.print_trainable_parameters(model)"
   ]
  },
  {
   "cell_type": "code",
   "execution_count": 97,
   "metadata": {},
   "outputs": [],
   "source": [
    "criterion = torch.nn.CrossEntropyLoss()\n",
    "optimizer = torch.optim.Adam(params=model.parameters(), lr=0.0009)\n",
    "\n",
    "model = model.cuda()"
   ]
  },
  {
   "cell_type": "code",
   "execution_count": 98,
   "metadata": {},
   "outputs": [
    {
     "name": "stderr",
     "output_type": "stream",
     "text": [
      "  3%|▎         | 1/30 [00:12<06:13, 12.88s/it]"
     ]
    },
    {
     "name": "stdout",
     "output_type": "stream",
     "text": [
      "Epoch : 0\n",
      "train loss : 0.000029 || train_acc : 1.0000\n",
      "val loss : 2.321047 || val_acc : 0.6762\n"
     ]
    },
    {
     "name": "stderr",
     "output_type": "stream",
     "text": [
      "  7%|▋         | 2/30 [00:25<06:01, 12.91s/it]"
     ]
    },
    {
     "name": "stdout",
     "output_type": "stream",
     "text": [
      "Epoch : 1\n",
      "train loss : 0.000044 || train_acc : 1.0000\n",
      "val loss : 1.684381 || val_acc : 0.6857\n"
     ]
    },
    {
     "name": "stderr",
     "output_type": "stream",
     "text": [
      " 10%|█         | 3/30 [00:38<05:46, 12.84s/it]"
     ]
    },
    {
     "name": "stdout",
     "output_type": "stream",
     "text": [
      "Epoch : 2\n",
      "train loss : 0.000012 || train_acc : 1.0000\n",
      "val loss : 2.350869 || val_acc : 0.6762\n"
     ]
    },
    {
     "name": "stderr",
     "output_type": "stream",
     "text": [
      " 13%|█▎        | 4/30 [00:50<05:27, 12.59s/it]"
     ]
    },
    {
     "name": "stdout",
     "output_type": "stream",
     "text": [
      "Epoch : 3\n",
      "train loss : 0.000005 || train_acc : 1.0000\n",
      "val loss : 1.593525 || val_acc : 0.7238\n"
     ]
    },
    {
     "name": "stderr",
     "output_type": "stream",
     "text": [
      " 17%|█▋        | 5/30 [01:02<05:09, 12.39s/it]"
     ]
    },
    {
     "name": "stdout",
     "output_type": "stream",
     "text": [
      "Epoch : 4\n",
      "train loss : 0.000031 || train_acc : 1.0000\n",
      "val loss : 2.096108 || val_acc : 0.6857\n"
     ]
    },
    {
     "name": "stderr",
     "output_type": "stream",
     "text": [
      " 20%|██        | 6/30 [01:14<04:53, 12.22s/it]"
     ]
    },
    {
     "name": "stdout",
     "output_type": "stream",
     "text": [
      "Epoch : 5\n",
      "train loss : 0.000827 || train_acc : 0.9991\n",
      "val loss : 2.210617 || val_acc : 0.6762\n"
     ]
    },
    {
     "name": "stderr",
     "output_type": "stream",
     "text": [
      " 20%|██        | 6/30 [01:17<05:10, 12.92s/it]\n"
     ]
    },
    {
     "ename": "KeyboardInterrupt",
     "evalue": "",
     "output_type": "error",
     "traceback": [
      "\u001b[1;31m---------------------------------------------------------------------------\u001b[0m",
      "\u001b[1;31mKeyboardInterrupt\u001b[0m                         Traceback (most recent call last)",
      "Cell \u001b[1;32mIn[98], line 13\u001b[0m\n\u001b[0;32m     10\u001b[0m \u001b[38;5;28;01mfor\u001b[39;00m images, labels \u001b[38;5;129;01min\u001b[39;00m train_loader:\n\u001b[0;32m     11\u001b[0m     images, labels \u001b[38;5;241m=\u001b[39m images\u001b[38;5;241m.\u001b[39mcuda(), labels\u001b[38;5;241m.\u001b[39mcuda()\n\u001b[1;32m---> 13\u001b[0m     outputs \u001b[38;5;241m=\u001b[39m model(images)\n\u001b[0;32m     14\u001b[0m     loss \u001b[38;5;241m=\u001b[39m criterion(outputs, labels)\n\u001b[0;32m     15\u001b[0m     train_loss \u001b[38;5;241m+\u001b[39m\u001b[38;5;241m=\u001b[39m loss\u001b[38;5;241m.\u001b[39mitem()\n",
      "File \u001b[1;32mc:\\miniconda3\\envs\\cell\\Lib\\site-packages\\torch\\nn\\modules\\module.py:1553\u001b[0m, in \u001b[0;36mModule._wrapped_call_impl\u001b[1;34m(self, *args, **kwargs)\u001b[0m\n\u001b[0;32m   1551\u001b[0m     \u001b[38;5;28;01mreturn\u001b[39;00m \u001b[38;5;28mself\u001b[39m\u001b[38;5;241m.\u001b[39m_compiled_call_impl(\u001b[38;5;241m*\u001b[39margs, \u001b[38;5;241m*\u001b[39m\u001b[38;5;241m*\u001b[39mkwargs)  \u001b[38;5;66;03m# type: ignore[misc]\u001b[39;00m\n\u001b[0;32m   1552\u001b[0m \u001b[38;5;28;01melse\u001b[39;00m:\n\u001b[1;32m-> 1553\u001b[0m     \u001b[38;5;28;01mreturn\u001b[39;00m \u001b[38;5;28mself\u001b[39m\u001b[38;5;241m.\u001b[39m_call_impl(\u001b[38;5;241m*\u001b[39margs, \u001b[38;5;241m*\u001b[39m\u001b[38;5;241m*\u001b[39mkwargs)\n",
      "File \u001b[1;32mc:\\miniconda3\\envs\\cell\\Lib\\site-packages\\torch\\nn\\modules\\module.py:1562\u001b[0m, in \u001b[0;36mModule._call_impl\u001b[1;34m(self, *args, **kwargs)\u001b[0m\n\u001b[0;32m   1557\u001b[0m \u001b[38;5;66;03m# If we don't have any hooks, we want to skip the rest of the logic in\u001b[39;00m\n\u001b[0;32m   1558\u001b[0m \u001b[38;5;66;03m# this function, and just call forward.\u001b[39;00m\n\u001b[0;32m   1559\u001b[0m \u001b[38;5;28;01mif\u001b[39;00m \u001b[38;5;129;01mnot\u001b[39;00m (\u001b[38;5;28mself\u001b[39m\u001b[38;5;241m.\u001b[39m_backward_hooks \u001b[38;5;129;01mor\u001b[39;00m \u001b[38;5;28mself\u001b[39m\u001b[38;5;241m.\u001b[39m_backward_pre_hooks \u001b[38;5;129;01mor\u001b[39;00m \u001b[38;5;28mself\u001b[39m\u001b[38;5;241m.\u001b[39m_forward_hooks \u001b[38;5;129;01mor\u001b[39;00m \u001b[38;5;28mself\u001b[39m\u001b[38;5;241m.\u001b[39m_forward_pre_hooks\n\u001b[0;32m   1560\u001b[0m         \u001b[38;5;129;01mor\u001b[39;00m _global_backward_pre_hooks \u001b[38;5;129;01mor\u001b[39;00m _global_backward_hooks\n\u001b[0;32m   1561\u001b[0m         \u001b[38;5;129;01mor\u001b[39;00m _global_forward_hooks \u001b[38;5;129;01mor\u001b[39;00m _global_forward_pre_hooks):\n\u001b[1;32m-> 1562\u001b[0m     \u001b[38;5;28;01mreturn\u001b[39;00m forward_call(\u001b[38;5;241m*\u001b[39margs, \u001b[38;5;241m*\u001b[39m\u001b[38;5;241m*\u001b[39mkwargs)\n\u001b[0;32m   1564\u001b[0m \u001b[38;5;28;01mtry\u001b[39;00m:\n\u001b[0;32m   1565\u001b[0m     result \u001b[38;5;241m=\u001b[39m \u001b[38;5;28;01mNone\u001b[39;00m\n",
      "File \u001b[1;32mc:\\miniconda3\\envs\\cell\\Lib\\site-packages\\torchvision\\models\\resnet.py:285\u001b[0m, in \u001b[0;36mResNet.forward\u001b[1;34m(self, x)\u001b[0m\n\u001b[0;32m    284\u001b[0m \u001b[38;5;28;01mdef\u001b[39;00m \u001b[38;5;21mforward\u001b[39m(\u001b[38;5;28mself\u001b[39m, x: Tensor) \u001b[38;5;241m-\u001b[39m\u001b[38;5;241m>\u001b[39m Tensor:\n\u001b[1;32m--> 285\u001b[0m     \u001b[38;5;28;01mreturn\u001b[39;00m \u001b[38;5;28mself\u001b[39m\u001b[38;5;241m.\u001b[39m_forward_impl(x)\n",
      "File \u001b[1;32mc:\\miniconda3\\envs\\cell\\Lib\\site-packages\\torchvision\\models\\resnet.py:269\u001b[0m, in \u001b[0;36mResNet._forward_impl\u001b[1;34m(self, x)\u001b[0m\n\u001b[0;32m    266\u001b[0m \u001b[38;5;28;01mdef\u001b[39;00m \u001b[38;5;21m_forward_impl\u001b[39m(\u001b[38;5;28mself\u001b[39m, x: Tensor) \u001b[38;5;241m-\u001b[39m\u001b[38;5;241m>\u001b[39m Tensor:\n\u001b[0;32m    267\u001b[0m     \u001b[38;5;66;03m# See note [TorchScript super()]\u001b[39;00m\n\u001b[0;32m    268\u001b[0m     x \u001b[38;5;241m=\u001b[39m \u001b[38;5;28mself\u001b[39m\u001b[38;5;241m.\u001b[39mconv1(x)\n\u001b[1;32m--> 269\u001b[0m     x \u001b[38;5;241m=\u001b[39m \u001b[38;5;28mself\u001b[39m\u001b[38;5;241m.\u001b[39mbn1(x)\n\u001b[0;32m    270\u001b[0m     x \u001b[38;5;241m=\u001b[39m \u001b[38;5;28mself\u001b[39m\u001b[38;5;241m.\u001b[39mrelu(x)\n\u001b[0;32m    271\u001b[0m     x \u001b[38;5;241m=\u001b[39m \u001b[38;5;28mself\u001b[39m\u001b[38;5;241m.\u001b[39mmaxpool(x)\n",
      "File \u001b[1;32mc:\\miniconda3\\envs\\cell\\Lib\\site-packages\\torch\\nn\\modules\\module.py:1553\u001b[0m, in \u001b[0;36mModule._wrapped_call_impl\u001b[1;34m(self, *args, **kwargs)\u001b[0m\n\u001b[0;32m   1551\u001b[0m     \u001b[38;5;28;01mreturn\u001b[39;00m \u001b[38;5;28mself\u001b[39m\u001b[38;5;241m.\u001b[39m_compiled_call_impl(\u001b[38;5;241m*\u001b[39margs, \u001b[38;5;241m*\u001b[39m\u001b[38;5;241m*\u001b[39mkwargs)  \u001b[38;5;66;03m# type: ignore[misc]\u001b[39;00m\n\u001b[0;32m   1552\u001b[0m \u001b[38;5;28;01melse\u001b[39;00m:\n\u001b[1;32m-> 1553\u001b[0m     \u001b[38;5;28;01mreturn\u001b[39;00m \u001b[38;5;28mself\u001b[39m\u001b[38;5;241m.\u001b[39m_call_impl(\u001b[38;5;241m*\u001b[39margs, \u001b[38;5;241m*\u001b[39m\u001b[38;5;241m*\u001b[39mkwargs)\n",
      "File \u001b[1;32mc:\\miniconda3\\envs\\cell\\Lib\\site-packages\\torch\\nn\\modules\\module.py:1562\u001b[0m, in \u001b[0;36mModule._call_impl\u001b[1;34m(self, *args, **kwargs)\u001b[0m\n\u001b[0;32m   1557\u001b[0m \u001b[38;5;66;03m# If we don't have any hooks, we want to skip the rest of the logic in\u001b[39;00m\n\u001b[0;32m   1558\u001b[0m \u001b[38;5;66;03m# this function, and just call forward.\u001b[39;00m\n\u001b[0;32m   1559\u001b[0m \u001b[38;5;28;01mif\u001b[39;00m \u001b[38;5;129;01mnot\u001b[39;00m (\u001b[38;5;28mself\u001b[39m\u001b[38;5;241m.\u001b[39m_backward_hooks \u001b[38;5;129;01mor\u001b[39;00m \u001b[38;5;28mself\u001b[39m\u001b[38;5;241m.\u001b[39m_backward_pre_hooks \u001b[38;5;129;01mor\u001b[39;00m \u001b[38;5;28mself\u001b[39m\u001b[38;5;241m.\u001b[39m_forward_hooks \u001b[38;5;129;01mor\u001b[39;00m \u001b[38;5;28mself\u001b[39m\u001b[38;5;241m.\u001b[39m_forward_pre_hooks\n\u001b[0;32m   1560\u001b[0m         \u001b[38;5;129;01mor\u001b[39;00m _global_backward_pre_hooks \u001b[38;5;129;01mor\u001b[39;00m _global_backward_hooks\n\u001b[0;32m   1561\u001b[0m         \u001b[38;5;129;01mor\u001b[39;00m _global_forward_hooks \u001b[38;5;129;01mor\u001b[39;00m _global_forward_pre_hooks):\n\u001b[1;32m-> 1562\u001b[0m     \u001b[38;5;28;01mreturn\u001b[39;00m forward_call(\u001b[38;5;241m*\u001b[39margs, \u001b[38;5;241m*\u001b[39m\u001b[38;5;241m*\u001b[39mkwargs)\n\u001b[0;32m   1564\u001b[0m \u001b[38;5;28;01mtry\u001b[39;00m:\n\u001b[0;32m   1565\u001b[0m     result \u001b[38;5;241m=\u001b[39m \u001b[38;5;28;01mNone\u001b[39;00m\n",
      "File \u001b[1;32mc:\\miniconda3\\envs\\cell\\Lib\\site-packages\\torch\\nn\\modules\\batchnorm.py:176\u001b[0m, in \u001b[0;36m_BatchNorm.forward\u001b[1;34m(self, input)\u001b[0m\n\u001b[0;32m    169\u001b[0m     bn_training \u001b[38;5;241m=\u001b[39m (\u001b[38;5;28mself\u001b[39m\u001b[38;5;241m.\u001b[39mrunning_mean \u001b[38;5;129;01mis\u001b[39;00m \u001b[38;5;28;01mNone\u001b[39;00m) \u001b[38;5;129;01mand\u001b[39;00m (\u001b[38;5;28mself\u001b[39m\u001b[38;5;241m.\u001b[39mrunning_var \u001b[38;5;129;01mis\u001b[39;00m \u001b[38;5;28;01mNone\u001b[39;00m)\n\u001b[0;32m    171\u001b[0m \u001b[38;5;250m\u001b[39m\u001b[38;5;124mr\u001b[39m\u001b[38;5;124;03m\"\"\"\u001b[39;00m\n\u001b[0;32m    172\u001b[0m \u001b[38;5;124;03mBuffers are only updated if they are to be tracked and we are in training mode. Thus they only need to be\u001b[39;00m\n\u001b[0;32m    173\u001b[0m \u001b[38;5;124;03mpassed when the update should occur (i.e. in training mode when they are tracked), or when buffer stats are\u001b[39;00m\n\u001b[0;32m    174\u001b[0m \u001b[38;5;124;03mused for normalization (i.e. in eval mode when buffers are not None).\u001b[39;00m\n\u001b[0;32m    175\u001b[0m \u001b[38;5;124;03m\"\"\"\u001b[39;00m\n\u001b[1;32m--> 176\u001b[0m \u001b[38;5;28;01mreturn\u001b[39;00m F\u001b[38;5;241m.\u001b[39mbatch_norm(\n\u001b[0;32m    177\u001b[0m     \u001b[38;5;28minput\u001b[39m,\n\u001b[0;32m    178\u001b[0m     \u001b[38;5;66;03m# If buffers are not to be tracked, ensure that they won't be updated\u001b[39;00m\n\u001b[0;32m    179\u001b[0m     \u001b[38;5;28mself\u001b[39m\u001b[38;5;241m.\u001b[39mrunning_mean\n\u001b[0;32m    180\u001b[0m     \u001b[38;5;28;01mif\u001b[39;00m \u001b[38;5;129;01mnot\u001b[39;00m \u001b[38;5;28mself\u001b[39m\u001b[38;5;241m.\u001b[39mtraining \u001b[38;5;129;01mor\u001b[39;00m \u001b[38;5;28mself\u001b[39m\u001b[38;5;241m.\u001b[39mtrack_running_stats\n\u001b[0;32m    181\u001b[0m     \u001b[38;5;28;01melse\u001b[39;00m \u001b[38;5;28;01mNone\u001b[39;00m,\n\u001b[0;32m    182\u001b[0m     \u001b[38;5;28mself\u001b[39m\u001b[38;5;241m.\u001b[39mrunning_var \u001b[38;5;28;01mif\u001b[39;00m \u001b[38;5;129;01mnot\u001b[39;00m \u001b[38;5;28mself\u001b[39m\u001b[38;5;241m.\u001b[39mtraining \u001b[38;5;129;01mor\u001b[39;00m \u001b[38;5;28mself\u001b[39m\u001b[38;5;241m.\u001b[39mtrack_running_stats \u001b[38;5;28;01melse\u001b[39;00m \u001b[38;5;28;01mNone\u001b[39;00m,\n\u001b[0;32m    183\u001b[0m     \u001b[38;5;28mself\u001b[39m\u001b[38;5;241m.\u001b[39mweight,\n\u001b[0;32m    184\u001b[0m     \u001b[38;5;28mself\u001b[39m\u001b[38;5;241m.\u001b[39mbias,\n\u001b[0;32m    185\u001b[0m     bn_training,\n\u001b[0;32m    186\u001b[0m     exponential_average_factor,\n\u001b[0;32m    187\u001b[0m     \u001b[38;5;28mself\u001b[39m\u001b[38;5;241m.\u001b[39meps,\n\u001b[0;32m    188\u001b[0m )\n",
      "File \u001b[1;32mc:\\miniconda3\\envs\\cell\\Lib\\site-packages\\torch\\nn\\functional.py:2512\u001b[0m, in \u001b[0;36mbatch_norm\u001b[1;34m(input, running_mean, running_var, weight, bias, training, momentum, eps)\u001b[0m\n\u001b[0;32m   2509\u001b[0m \u001b[38;5;28;01mif\u001b[39;00m training:\n\u001b[0;32m   2510\u001b[0m     _verify_batch_size(\u001b[38;5;28minput\u001b[39m\u001b[38;5;241m.\u001b[39msize())\n\u001b[1;32m-> 2512\u001b[0m \u001b[38;5;28;01mreturn\u001b[39;00m torch\u001b[38;5;241m.\u001b[39mbatch_norm(\n\u001b[0;32m   2513\u001b[0m     \u001b[38;5;28minput\u001b[39m, weight, bias, running_mean, running_var, training, momentum, eps, torch\u001b[38;5;241m.\u001b[39mbackends\u001b[38;5;241m.\u001b[39mcudnn\u001b[38;5;241m.\u001b[39menabled\n\u001b[0;32m   2514\u001b[0m )\n",
      "\u001b[1;31mKeyboardInterrupt\u001b[0m: "
     ]
    }
   ],
   "source": [
    "import models\n",
    "models.train_model(model, train_loader, val_loader, criterion, optimizer, num_epochs=30)"
   ]
  },
  {
   "cell_type": "markdown",
   "metadata": {},
   "source": [
    "<h1> Confusion matrix </h1>"
   ]
  },
  {
   "cell_type": "code",
   "execution_count": 86,
   "metadata": {},
   "outputs": [],
   "source": [
    "from models.AugmentedDatasetWrapper import AugmentedDatasetWrapper\n",
    "\n",
    "train_dir = r\"C:\\rkka_Projects\\cell_death_v1\\Data\\Hela_Segmentation_test_PWS\\TCF\\pathway_train_mip\"\n",
    "val_dir = r\"C:\\rkka_Projects\\cell_death_v1\\Data\\Hela_Segmentation_test_PWS\\TCF\\test\\pathway_test_mip\"\n",
    "\n",
    "transform = models.ResNet50_Weights.IMAGENET1K_V2.transforms()\n",
    "train_dataset = type_dataset(train_dir, transform=transform, augmentation=True)\n",
    "val_dataset = type_dataset(val_dir, transform=transform, augmentation=False)\n",
    "augmented_train_dataset = AugmentedDatasetWrapper(dataset=train_dataset, num_repeats=3)\n",
    "\n",
    "train_loader = DataLoader(dataset=augmented_train_dataset)\n",
    "val_loader = DataLoader(dataset=val_dataset)"
   ]
  },
  {
   "cell_type": "code",
   "execution_count": 87,
   "metadata": {},
   "outputs": [
    {
     "name": "stderr",
     "output_type": "stream",
     "text": [
      "C:\\Users\\김민욱\\AppData\\Local\\Temp\\ipykernel_18144\\2748945484.py:8: FutureWarning: You are using `torch.load` with `weights_only=False` (the current default value), which uses the default pickle module implicitly. It is possible to construct malicious pickle data which will execute arbitrary code during unpickling (See https://github.com/pytorch/pytorch/blob/main/SECURITY.md#untrusted-models for more details). In a future release, the default value for `weights_only` will be flipped to `True`. This limits the functions that could be executed during unpickling. Arbitrary objects will no longer be allowed to be loaded via this mode unless they are explicitly allowlisted by the user via `torch.serialization.add_safe_globals`. We recommend you start setting `weights_only=True` for any use case where you don't have full control of the loaded file. Please open an issue on GitHub for any issues related to this experimental feature.\n",
      "  model.load_state_dict(torch.load('resnet50_mip_val_acc_0.8952.pth'))\n"
     ]
    },
    {
     "data": {
      "text/plain": [
       "<All keys matched successfully>"
      ]
     },
     "execution_count": 87,
     "metadata": {},
     "output_type": "execute_result"
    }
   ],
   "source": [
    "model = models.resnet50()\n",
    "num_features = model.fc.in_features\n",
    "model.fc = torch.nn.Sequential(\n",
    "    torch.nn.Dropout(0.2),\n",
    "    torch.nn.Linear(num_features, 4)\n",
    ")\n",
    "\n",
    "model.load_state_dict(torch.load('resnet50_mip_val_acc_0.8952.pth'))"
   ]
  },
  {
   "cell_type": "code",
   "execution_count": 88,
   "metadata": {},
   "outputs": [],
   "source": [
    "import seaborn as sns\n",
    "from sklearn.metrics import confusion_matrix, ConfusionMatrixDisplay\n",
    "\n",
    "model = model.cuda()\n",
    "\n",
    "model.eval()\n",
    "all_preds = []\n",
    "all_labels = []\n",
    "\n",
    "with torch.no_grad():\n",
    "    for images, labels in val_loader:\n",
    "        images, labels = images.cuda(), labels.cuda()\n",
    "\n",
    "        outputs = model(images)\n",
    "        _, preds = torch.max(outputs, 1)\n",
    "\n",
    "        all_preds.extend(preds.cpu().numpy())\n",
    "        all_labels.extend(labels.cpu().numpy())"
   ]
  },
  {
   "cell_type": "code",
   "execution_count": 89,
   "metadata": {},
   "outputs": [
    {
     "data": {
      "image/png": "[encoded data removed]",
      "text/plain": [
       "<Figure size 800x600 with 2 Axes>"
      ]
     },
     "metadata": {},
     "output_type": "display_data"
    }
   ],
   "source": [
    "# Calculate confusion matrix\n",
    "cm = confusion_matrix(all_labels, all_preds, normalize='true')\n",
    "\n",
    "# Plot confusion matrix\n",
    "plt.figure(figsize=(8, 6))\n",
    "sns.heatmap(cm, annot=True, cmap=\"Blues\", xticklabels=[\"Apoptosis\", \"Necroptosis\", \"Necrosis\", \"Live\"], \n",
    "                                          yticklabels=[\"Apoptosis\", \"Necroptosis\", \"Necrosis\", \"Live\"], annot_kws={'size': 24})\n",
    "plt.xlabel(\"Predicted\", fontsize=24, labelpad=20)\n",
    "plt.ylabel(\"Ground Truth\", fontsize=24, labelpad=20)\n",
    "plt.title(\"Confusion Matrix\", fontsize=24, pad=20)\n",
    "\n",
    "# Adjust colorbar font size\n",
    "cbar = plt.gca().collections[0].colorbar\n",
    "cbar.ax.tick_params(labelsize=18)  # Set colorbar tick font size\n",
    "\n",
    "plt.xticks(fontsize=14)\n",
    "plt.yticks(fontsize=14)\n",
    "\n",
    "plt.savefig('figures/figure3/confusion_matrix.svg', format='svg', transparent=True)\n",
    "plt.show()"
   ]
  }
 ],
 "metadata": {
  "kernelspec": {
   "display_name": "cell",
   "language": "python",
   "name": "python3"
  },
  "language_info": {
   "codemirror_mode": {
    "name": "ipython",
    "version": 3
   },
   "file_extension": ".py",
   "mimetype": "text/x-python",
   "name": "python",
   "nbconvert_exporter": "python",
   "pygments_lexer": "ipython3",
   "version": "3.12.4"
  }
 },
 "nbformat": 4,
 "nbformat_minor": 2
}
