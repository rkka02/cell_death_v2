{
 "cells": [
  {
   "cell_type": "code",
   "execution_count": 11,
   "metadata": {},
   "outputs": [],
   "source": [
    "import os\n",
    "import numpy as np\n",
    "from TCFile import TCFile\n",
    "\n",
    "root_dir = r\"C:\\rkka_Projects\\cell_death_v1\\Data\\Hela_Segmentation_test_PWS\\TCF\"\n",
    "\n",
    "tcf_list = []\n",
    "\n",
    "pathways = dict()\n",
    "pathways['necroptosis_list'] = []\n",
    "pathways['apoptosis_list'] = []\n",
    "pathways['necrosis_list'] = []\n",
    "pathways['live_list'] = []\n",
    "\n",
    "\n",
    "for p in os.listdir(root_dir):\n",
    "    if p.endswith('.TCF'):\n",
    "        tcf_list.append(p)\n",
    "        if 'Hoechst' in p:\n",
    "            pathways['necroptosis_list'].append(p)\n",
    "        elif 'CD95' in p:\n",
    "            pathways['apoptosis_list'].append(p)\n",
    "        elif 'none' in p:\n",
    "            pathways['live_list'].append(p)\n",
    "        else:\n",
    "            pathways['necrosis_list'].append(p)"
   ]
  },
  {
   "cell_type": "code",
   "execution_count": 12,
   "metadata": {},
   "outputs": [],
   "source": [
    "ps = ['apoptosis', 'necroptosis', 'necrosis', 'live']\n",
    "file_list = []\n",
    "for p in ps:\n",
    "    for i in pathways[p+'_list']:\n",
    "        file_list.append(os.path.join(root_dir, i))\n",
    "\n",
    "time_list = [34, 35, 36]\n"
   ]
  },
  {
   "cell_type": "code",
   "execution_count": 6,
   "metadata": {},
   "outputs": [
    {
     "name": "stderr",
     "output_type": "stream",
     "text": [
      "c:\\miniconda3\\envs\\cell\\Lib\\site-packages\\TCFile\\TCFile_class.py:190: UserWarning: You use an experimental file format deprecated.\n",
      "Update your reconstruction program and rebuild TCF file.\n",
      "  warnings.warn((\"You use an experimental file format deprecated.\\n\"\n"
     ]
    },
    {
     "data": {
      "text/plain": [
       "(1.0740192, 1.528778)"
      ]
     },
     "execution_count": 6,
     "metadata": {},
     "output_type": "execute_result"
    }
   ],
   "source": [
    "ps = ['apoptosis', 'necroptosis', 'necrosis', 'live']\n",
    "file_list = []\n",
    "for p in ps:\n",
    "    for i in pathways[p+'_list']:\n",
    "        file_list.append(os.path.join(root_dir, i))\n",
    "\n",
    "time_list = [34, 35, 36]\n",
    "\n",
    "min_list = []\n",
    "max_list = []\n",
    "\n",
    "for idx, path in enumerate(file_list):\n",
    "    path = file_list[idx]\n",
    "    file = TCFile(path, '3D')\n",
    "    for time in time_list:\n",
    "        min, max = np.min(np.max(file[time], axis=0)*file.data_resolution[0]), np.max(np.max(file[time], axis=0)*file.data_resolution[0])\n",
    "        min_list.append(min)\n",
    "        max_list.append(max)\n",
    "\n",
    "global_min, global_max = np.min(np.array(min_list)), np.max(np.array(max_list))\n",
    "global_min, global_max"
   ]
  },
  {
   "cell_type": "markdown",
   "metadata": {},
   "source": [
    "<h1> 2D </h1>"
   ]
  },
  {
   "cell_type": "code",
   "execution_count": null,
   "metadata": {},
   "outputs": [],
   "source": [
    "from PIL import Image\n",
    "from tqdm import tqdm\n",
    "import cv2\n",
    "import utils\n",
    "import torch\n",
    "from torchvision import models\n",
    "\n",
    "# configurations\n",
    "times = [34, 35, 36]\n",
    "mode = 'qpi'\n",
    "crop_size = (480, 480)\n",
    "save_path = 'C:/rkka_Projects/cell_death_v1/Data/Hela_Segmentation_test_PWS/TCF/pathway_train_qpi'\n",
    "root_dir = 'C:/rkka_Projects/cell_death_v1/Data/Hela_Segmentation_test_PWS/TCF/'\n",
    "\n",
    "# Crop\n",
    "for pathway in tqdm(list(pathways.keys())):\n",
    "    \n",
    "\n",
    "    for file_path in pathways[pathway]:    \n",
    "        file = TCFile(os.path.join(root_dir, file_path), '3D')\n",
    "        for time_index in times:\n",
    "            image_3d = file[time_index]\n",
    "            fz = file.data_resolution[0]/0.1632  \n",
    "            fy = file.data_resolution[1]/0.1632\n",
    "            fx = file.data_resolution[1]/0.1632\n",
    "\n",
    "            image_3d = torch.from_numpy(image_3d)\n",
    "            image_3d = torch.nn.functional.interpolate(image_3d, scale_factor=(fz, fy, fx))\n",
    "            image_3d = np.array(image_3d)\n",
    "            slice_2d = np.sum(image_3d, axis=0)\n",
    "            \n",
    "            if fx!=1 and fy!=1:\n",
    "                slice_2d = cv2.resize(slice_2d, dsize=(1+int(slice_2d.shape[0]*fy), 1+int(slice_2d.shape[0]*fx)))\n",
    "\n",
    "            patches = utils.crop_patch(slice_2d, crop_size=crop_size)\n",
    "            for patch_index, patch in enumerate(patches):\n",
    "                top = patch[0]\n",
    "                left = patch[1]\n",
    "                temp = slice_2d[top:top+crop_size[0], left:left+crop_size[1]]\n",
    "                temp = utils.image_normalization(temp)\n",
    "                image = Image.fromarray(temp)\n",
    "                image.save(f\"{save_path}/{pathway[:-5]}/file_{file_path[:-4]}_patch_{patch_index}_t_{time_index}.png\")\n",
    "\n",
    "print('finished!')"
   ]
  },
  {
   "cell_type": "markdown",
   "metadata": {},
   "source": [
    "<h1> 3D </h1>"
   ]
  },
  {
   "cell_type": "code",
   "execution_count": 2,
   "metadata": {},
   "outputs": [],
   "source": [
    "import os\n",
    "import numpy as np\n",
    "from TCFile import TCFile\n",
    "\n",
    "root_dir = r\"C:\\rkka_Projects\\cell_death_v1\\Data\\Hela_Segmentation_test_PWS\\TCF\\test\"\n",
    "\n",
    "tcf_list = []\n",
    "\n",
    "pathways = dict()\n",
    "pathways['necroptosis_list'] = []\n",
    "pathways['apoptosis_list'] = []\n",
    "pathways['necrosis_list'] = []\n",
    "pathways['live_list'] = []\n",
    "\n",
    "\n",
    "for p in os.listdir(root_dir):\n",
    "    if p.endswith('.TCF'):\n",
    "        tcf_list.append(p)\n",
    "        if 'Hoechst' in p:\n",
    "            pathways['necroptosis_list'].append(p)\n",
    "        elif 'CD95' in p:\n",
    "            pathways['apoptosis_list'].append(p)\n",
    "        elif 'none' in p:\n",
    "            pathways['live_list'].append(p)\n",
    "        else:\n",
    "            pathways['necrosis_list'].append(p)"
   ]
  },
  {
   "cell_type": "code",
   "execution_count": 4,
   "metadata": {},
   "outputs": [
    {
     "name": "stderr",
     "output_type": "stream",
     "text": [
      "100%|██████████| 4/4 [03:42<00:00, 55.57s/it]"
     ]
    },
    {
     "name": "stdout",
     "output_type": "stream",
     "text": [
      "finished!\n"
     ]
    },
    {
     "name": "stderr",
     "output_type": "stream",
     "text": [
      "\n"
     ]
    }
   ],
   "source": [
    "from PIL import Image\n",
    "from tqdm import tqdm\n",
    "import tifffile\n",
    "import utils\n",
    "import torch\n",
    "\n",
    "# configurations\n",
    "times = [34, 35, 36]\n",
    "mode = 'mip'\n",
    "z_range_ratio = 40/60\n",
    "crop_size = (480, 480)\n",
    "save_path = 'C:/rkka_Projects/cell_death_v1/Data/Hela_Segmentation_test_PWS/TCF/test/pathway_test_3d'\n",
    "root_dir = 'C:/rkka_Projects/cell_death_v1/Data/Hela_Segmentation_test_PWS/TCF/test/'\n",
    "\n",
    "# Crop\n",
    "for pathway in tqdm(list(pathways.keys())):\n",
    "    for file_path in pathways[pathway]:\n",
    "        file = TCFile(os.path.join(root_dir, file_path), '3D')\n",
    "        for time_index in times:\n",
    "            \n",
    "            file_array = file[time_index]\n",
    "            tensor = torch.tensor(file_array).unsqueeze(0).unsqueeze(0).cuda()\n",
    "            \n",
    "            fz = file.data_resolution[0]/0.1632\n",
    "            fy = file.data_resolution[1]/0.1632\n",
    "            fx = file.data_resolution[2]/0.1632\n",
    "            \n",
    "            resampled_tensor = torch.nn.functional.interpolate(\n",
    "                tensor, scale_factor=(fz, fy, fx), mode='trilinear', align_corners=False\n",
    "            )\n",
    " \n",
    "            resampled_tensor = resampled_tensor.squeeze(0).squeeze(0)\n",
    "            file_array = np.array(resampled_tensor.cpu())\n",
    "            z_range = int(z_range_ratio * resampled_tensor.shape[0])\n",
    "            \n",
    "            patches = utils.crop_patch(file_array[0], crop_size=crop_size)\n",
    "            for patch_index, patch in enumerate(patches):\n",
    "                z_center = file_array.shape[0]//2\n",
    "                top = patch[0]\n",
    "                left = patch[1]\n",
    "                temp = file_array[z_center-z_range//2:z_center+z_range//2, top:top+crop_size[0], left:left+crop_size[1]]\n",
    "                tifffile.imwrite(f\"{save_path}/{pathway[:-5]}/file_{file_path[:-4]}_patch_{patch_index}_t_{time_index}.tif\", temp)\n",
    "                \n",
    "print('finished!')"
   ]
  },
  {
   "cell_type": "code",
   "execution_count": 47,
   "metadata": {},
   "outputs": [],
   "source": [
    "import napari\n",
    "viewer = napari.Viewer()"
   ]
  },
  {
   "cell_type": "code",
   "execution_count": 7,
   "metadata": {},
   "outputs": [
    {
     "data": {
      "text/plain": [
       "<Image layer 'Image' at 0x15f981535f0>"
      ]
     },
     "execution_count": 7,
     "metadata": {},
     "output_type": "execute_result"
    }
   ],
   "source": [
    "viewer.add_image(np.array(file))"
   ]
  },
  {
   "cell_type": "code",
   "execution_count": 9,
   "metadata": {},
   "outputs": [
    {
     "name": "stdout",
     "output_type": "stream",
     "text": [
      "Deleted: C:\\rkka_Projects\\cell_death_v1\\Data\\Hela_Segmentation_test_PWS\\TCF\\test\\pathway_test_3d\\live\\file_241126.155819.hela_none_PP2.001.Group1.A1.T001P08_patch_0_t_34.tif\n",
      "Deleted: C:\\rkka_Projects\\cell_death_v1\\Data\\Hela_Segmentation_test_PWS\\TCF\\test\\pathway_test_3d\\live\\file_241126.155819.hela_none_PP2.001.Group1.A1.T001P08_patch_0_t_35.tif\n",
      "Deleted: C:\\rkka_Projects\\cell_death_v1\\Data\\Hela_Segmentation_test_PWS\\TCF\\test\\pathway_test_3d\\live\\file_241126.155819.hela_none_PP2.001.Group1.A1.T001P08_patch_0_t_36.tif\n",
      "Deleted: C:\\rkka_Projects\\cell_death_v1\\Data\\Hela_Segmentation_test_PWS\\TCF\\test\\pathway_test_3d\\live\\file_241126.155819.hela_none_PP2.001.Group1.A1.T001P08_patch_1_t_34.tif\n",
      "Deleted: C:\\rkka_Projects\\cell_death_v1\\Data\\Hela_Segmentation_test_PWS\\TCF\\test\\pathway_test_3d\\live\\file_241126.155819.hela_none_PP2.001.Group1.A1.T001P08_patch_1_t_35.tif\n",
      "Deleted: C:\\rkka_Projects\\cell_death_v1\\Data\\Hela_Segmentation_test_PWS\\TCF\\test\\pathway_test_3d\\live\\file_241126.155819.hela_none_PP2.001.Group1.A1.T001P08_patch_1_t_36.tif\n",
      "Deleted: C:\\rkka_Projects\\cell_death_v1\\Data\\Hela_Segmentation_test_PWS\\TCF\\test\\pathway_test_3d\\live\\file_241126.155819.hela_none_PP2.001.Group1.A1.T001P08_patch_2_t_34.tif\n",
      "Deleted: C:\\rkka_Projects\\cell_death_v1\\Data\\Hela_Segmentation_test_PWS\\TCF\\test\\pathway_test_3d\\live\\file_241126.155819.hela_none_PP2.001.Group1.A1.T001P08_patch_2_t_35.tif\n",
      "Deleted: C:\\rkka_Projects\\cell_death_v1\\Data\\Hela_Segmentation_test_PWS\\TCF\\test\\pathway_test_3d\\live\\file_241126.155819.hela_none_PP2.001.Group1.A1.T001P08_patch_2_t_36.tif\n",
      "Deleted: C:\\rkka_Projects\\cell_death_v1\\Data\\Hela_Segmentation_test_PWS\\TCF\\test\\pathway_test_3d\\live\\file_241126.155819.hela_none_PP2.001.Group1.A1.T001P08_patch_6_t_34.tif\n",
      "Deleted: C:\\rkka_Projects\\cell_death_v1\\Data\\Hela_Segmentation_test_PWS\\TCF\\test\\pathway_test_3d\\live\\file_241126.155819.hela_none_PP2.001.Group1.A1.T001P08_patch_6_t_35.tif\n",
      "Deleted: C:\\rkka_Projects\\cell_death_v1\\Data\\Hela_Segmentation_test_PWS\\TCF\\test\\pathway_test_3d\\live\\file_241126.155819.hela_none_PP2.001.Group1.A1.T001P08_patch_6_t_36.tif\n",
      "Cleanup completed!\n"
     ]
    }
   ],
   "source": [
    "import os\n",
    "\n",
    "# Directories\n",
    "folder_2d = r\"C:\\rkka_Projects\\cell_death_v1\\Data\\Hela_Segmentation_test_PWS\\TCF\\test\\pathway_test_mip\\live\"  # Replace with the path to your 2D folder\n",
    "folder_3d = r\"C:\\rkka_Projects\\cell_death_v1\\Data\\Hela_Segmentation_test_PWS\\TCF\\test\\pathway_test_3d\\live\"  # Replace with the path to your 3D folder\n",
    "\n",
    "# List filenames in 2D folder (without extensions)\n",
    "files_2d = {os.path.splitext(file)[0] for file in os.listdir(folder_2d)}\n",
    "\n",
    "# List files in 3D folder\n",
    "files_3d = os.listdir(folder_3d)\n",
    "\n",
    "# Delete 3D files not in 2D folder\n",
    "for file in files_3d:\n",
    "    file_name, ext = os.path.splitext(file)  # Split filename and extension\n",
    "    if file_name not in files_2d:\n",
    "        file_path = os.path.join(folder_3d, file)\n",
    "        os.remove(file_path)  # Delete the file\n",
    "        print(f\"Deleted: {file_path}\")\n",
    "\n",
    "print(\"Cleanup completed!\")"
   ]
  },
  {
   "cell_type": "markdown",
   "metadata": {},
   "source": [
    "<h1> Large FOV </h1>"
   ]
  },
  {
   "cell_type": "code",
   "execution_count": 10,
   "metadata": {},
   "outputs": [
    {
     "name": "stderr",
     "output_type": "stream",
     "text": [
      "100%|██████████| 3/3 [00:51<00:00, 17.26s/it]"
     ]
    },
    {
     "name": "stdout",
     "output_type": "stream",
     "text": [
      "finished!\n"
     ]
    },
    {
     "name": "stderr",
     "output_type": "stream",
     "text": [
      "\n"
     ]
    }
   ],
   "source": [
    "from PIL import Image\n",
    "import cv2\n",
    "import utils\n",
    "import os\n",
    "\n",
    "# configurations\n",
    "times = [34, 35, 36]\n",
    "mode = 'mip'\n",
    "crop_size = (480, 480)\n",
    "save_path = r\"C:\\rkka_Projects\\cell_death_v1\\Data\\cell death_B4C4B5_0808\\pathway_train_mip\"\n",
    "root_dir = r\"C:\\rkka_Projects\\cell_death_v1\\Data\\cell death_B4C4B5_0808\"\n",
    "\n",
    "file_list = [\"240808.200653.death_B4C4B5.005.Group1.B4.T001P01.TCF\",\n",
    "             \"240808.200653.death_B4C4B5.005.Group2.C4.T001P01.TCF\",\n",
    "             \"240808.200653.death_B4C4B5.005.Group3.B5.T001P01.TCF\"]\n",
    "\n",
    "# Crop\n",
    "for file_path in tqdm(file_list):\n",
    "    file = TCFile(os.path.join(root_dir, file_path), '3D')\n",
    "    for time_index in times:\n",
    "        if mode=='qpi':\n",
    "            slice_2d = np.sum(file[time_index], axis=0) * file.data_resolution[0]\n",
    "        elif mode=='mip':\n",
    "            slice_2d = np.max(file[time_index], axis=0)\n",
    "                \n",
    "        fy = file.data_resolution[1]/0.1632\n",
    "        fx = file.data_resolution[1]/0.1632\n",
    "        \n",
    "        if fx!=1 and fy!=1:\n",
    "            slice_2d = cv2.resize(slice_2d, dsize=(1+int(slice_2d.shape[0]*fy), 1+int(slice_2d.shape[0]*fx)))\n",
    "\n",
    "        patches = utils.crop_patch(slice_2d, crop_size=crop_size)\n",
    "        for patch_index, patch in enumerate(patches):\n",
    "            top = patch[0]\n",
    "            left = patch[1]\n",
    "            temp = slice_2d[top:top+crop_size[0], left:left+crop_size[1]]\n",
    "            temp = utils.image_normalization(temp)\n",
    "            image = Image.fromarray(temp)\n",
    "            image.save(f\"{save_path}/file_{file_path[:-4]}_patch_{patch_index}_t_{time_index}.png\")\n",
    "\n",
    "print('finished!')"
   ]
  }
 ],
 "metadata": {
  "kernelspec": {
   "display_name": "cell",
   "language": "python",
   "name": "python3"
  },
  "language_info": {
   "codemirror_mode": {
    "name": "ipython",
    "version": 3
   },
   "file_extension": ".py",
   "mimetype": "text/x-python",
   "name": "python",
   "nbconvert_exporter": "python",
   "pygments_lexer": "ipython3",
   "version": "3.12.4"
  }
 },
 "nbformat": 4,
 "nbformat_minor": 2
}
